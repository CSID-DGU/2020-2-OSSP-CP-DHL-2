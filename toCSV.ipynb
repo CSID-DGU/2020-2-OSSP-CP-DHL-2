{
 "cells": [
  {
   "cell_type": "code",
   "execution_count": 1,
   "metadata": {},
   "outputs": [],
   "source": [
    "import requests\n",
    "import pandas as pd"
   ]
  },
  {
   "cell_type": "code",
   "execution_count": 2,
   "metadata": {},
   "outputs": [],
   "source": [
    "api_key = 'Key'"
   ]
  },
  {
   "cell_type": "markdown",
   "metadata": {},
   "source": [
    "# 소환사 데이터 수집(Challenger, GrandMaster, Master)"
   ]
  },
  {
   "cell_type": "code",
   "execution_count": 3,
   "metadata": {},
   "outputs": [],
   "source": [
    "def get_league_data(league):\n",
    "    url = 'https://kr.api.riotgames.com/lol/league/v4/'+ league +'leagues/by-queue/RANKED_SOLO_5x5?api_key=' + api_key\n",
    "    league_df = pd.DataFrame(requests.get(url).json())\n",
    "    league_df.reset_index(inplace=True)#수집한 그마데이터 index정리\n",
    "    league_entries_df = pd.DataFrame(dict(league_df['entries'])).T #dict구조로 되어 있는 entries컬럼 풀어주기\n",
    "    league_df = pd.concat([league_df, league_entries_df], axis=1) #열끼리 결합\n",
    "    league_df = league_df.drop(['index', 'queue', 'name', 'leagueId', 'entries', 'rank'], axis=1)\n",
    "#     league_df.to_csv('./data/' + league + '.csv',index=False,encoding = 'cp949')#중간저장\n",
    "    return league_df"
   ]
  },
  {
   "cell_type": "code",
   "execution_count": 4,
   "metadata": {},
   "outputs": [],
   "source": [
    "chal_df = get_league_data('challenger')\n",
    "gma_df = get_league_data('grandmaster')\n",
    "ma_df = get_league_data('master')"
   ]
  },
  {
   "cell_type": "code",
   "execution_count": 5,
   "metadata": {},
   "outputs": [
    {
     "name": "stdout",
     "output_type": "stream",
     "text": [
      "<class 'pandas.core.frame.DataFrame'>\n",
      "RangeIndex: 300 entries, 0 to 299\n",
      "Data columns (total 10 columns):\n",
      " #   Column        Non-Null Count  Dtype \n",
      "---  ------        --------------  ----- \n",
      " 0   tier          300 non-null    object\n",
      " 1   summonerId    300 non-null    object\n",
      " 2   summonerName  300 non-null    object\n",
      " 3   leaguePoints  300 non-null    object\n",
      " 4   wins          300 non-null    object\n",
      " 5   losses        300 non-null    object\n",
      " 6   veteran       300 non-null    object\n",
      " 7   inactive      300 non-null    object\n",
      " 8   freshBlood    300 non-null    object\n",
      " 9   hotStreak     300 non-null    object\n",
      "dtypes: object(10)\n",
      "memory usage: 23.6+ KB\n"
     ]
    }
   ],
   "source": [
    "chal_df.info()"
   ]
  },
  {
   "cell_type": "code",
   "execution_count": 6,
   "metadata": {},
   "outputs": [
    {
     "data": {
      "text/html": [
       "<div>\n",
       "<style scoped>\n",
       "    .dataframe tbody tr th:only-of-type {\n",
       "        vertical-align: middle;\n",
       "    }\n",
       "\n",
       "    .dataframe tbody tr th {\n",
       "        vertical-align: top;\n",
       "    }\n",
       "\n",
       "    .dataframe thead th {\n",
       "        text-align: right;\n",
       "    }\n",
       "</style>\n",
       "<table border=\"1\" class=\"dataframe\">\n",
       "  <thead>\n",
       "    <tr style=\"text-align: right;\">\n",
       "      <th></th>\n",
       "      <th>tier</th>\n",
       "      <th>summonerId</th>\n",
       "      <th>summonerName</th>\n",
       "      <th>leaguePoints</th>\n",
       "      <th>wins</th>\n",
       "      <th>losses</th>\n",
       "      <th>veteran</th>\n",
       "      <th>inactive</th>\n",
       "      <th>freshBlood</th>\n",
       "      <th>hotStreak</th>\n",
       "    </tr>\n",
       "  </thead>\n",
       "  <tbody>\n",
       "    <tr>\n",
       "      <th>0</th>\n",
       "      <td>CHALLENGER</td>\n",
       "      <td>Zg2epXxC2c0ObXJHfIX1eUmW2f2bJsV45oA8rnpmGALZuj4</td>\n",
       "      <td>익산누누</td>\n",
       "      <td>853</td>\n",
       "      <td>507</td>\n",
       "      <td>455</td>\n",
       "      <td>False</td>\n",
       "      <td>False</td>\n",
       "      <td>True</td>\n",
       "      <td>False</td>\n",
       "    </tr>\n",
       "    <tr>\n",
       "      <th>1</th>\n",
       "      <td>CHALLENGER</td>\n",
       "      <td>MEgpcYnO3UvT6gjZ5HxWXH_2c6JEv7oNBu8vsSA9sHhOIfk</td>\n",
       "      <td>진철수삼촌</td>\n",
       "      <td>905</td>\n",
       "      <td>325</td>\n",
       "      <td>275</td>\n",
       "      <td>False</td>\n",
       "      <td>False</td>\n",
       "      <td>True</td>\n",
       "      <td>True</td>\n",
       "    </tr>\n",
       "    <tr>\n",
       "      <th>2</th>\n",
       "      <td>CHALLENGER</td>\n",
       "      <td>uTU60AeWs0kKO9AzOAJdsSUnWH-OUXquYqaoIlMcH0Al67E</td>\n",
       "      <td>huntiand1</td>\n",
       "      <td>889</td>\n",
       "      <td>868</td>\n",
       "      <td>808</td>\n",
       "      <td>True</td>\n",
       "      <td>False</td>\n",
       "      <td>False</td>\n",
       "      <td>False</td>\n",
       "    </tr>\n",
       "    <tr>\n",
       "      <th>3</th>\n",
       "      <td>CHALLENGER</td>\n",
       "      <td>1icxPO3y_7wc4riQPIMnErH6bMJlSCNh-HR1oJkpGWKI7-A</td>\n",
       "      <td>Chieftain00</td>\n",
       "      <td>1173</td>\n",
       "      <td>298</td>\n",
       "      <td>227</td>\n",
       "      <td>True</td>\n",
       "      <td>False</td>\n",
       "      <td>False</td>\n",
       "      <td>False</td>\n",
       "    </tr>\n",
       "    <tr>\n",
       "      <th>4</th>\n",
       "      <td>CHALLENGER</td>\n",
       "      <td>17dXyYuKyxKncQ2U-taCYp2n9g16FbBpxGDmMt8ZB0pvVxE</td>\n",
       "      <td>11baby</td>\n",
       "      <td>835</td>\n",
       "      <td>1351</td>\n",
       "      <td>1269</td>\n",
       "      <td>True</td>\n",
       "      <td>False</td>\n",
       "      <td>False</td>\n",
       "      <td>False</td>\n",
       "    </tr>\n",
       "  </tbody>\n",
       "</table>\n",
       "</div>"
      ],
      "text/plain": [
       "         tier                                       summonerId summonerName  \\\n",
       "0  CHALLENGER  Zg2epXxC2c0ObXJHfIX1eUmW2f2bJsV45oA8rnpmGALZuj4         익산누누   \n",
       "1  CHALLENGER  MEgpcYnO3UvT6gjZ5HxWXH_2c6JEv7oNBu8vsSA9sHhOIfk        진철수삼촌   \n",
       "2  CHALLENGER  uTU60AeWs0kKO9AzOAJdsSUnWH-OUXquYqaoIlMcH0Al67E    huntiand1   \n",
       "3  CHALLENGER  1icxPO3y_7wc4riQPIMnErH6bMJlSCNh-HR1oJkpGWKI7-A  Chieftain00   \n",
       "4  CHALLENGER  17dXyYuKyxKncQ2U-taCYp2n9g16FbBpxGDmMt8ZB0pvVxE       11baby   \n",
       "\n",
       "  leaguePoints  wins losses veteran inactive freshBlood hotStreak  \n",
       "0          853   507    455   False    False       True     False  \n",
       "1          905   325    275   False    False       True      True  \n",
       "2          889   868    808    True    False      False     False  \n",
       "3         1173   298    227    True    False      False     False  \n",
       "4          835  1351   1269    True    False      False     False  "
      ]
     },
     "execution_count": 6,
     "metadata": {},
     "output_type": "execute_result"
    }
   ],
   "source": [
    "chal_df.head()"
   ]
  },
  {
   "cell_type": "markdown",
   "metadata": {},
   "source": [
    "# 유저별 고유 accountId 수집"
   ]
  },
  {
   "cell_type": "code",
   "execution_count": 7,
   "metadata": {},
   "outputs": [],
   "source": [
    "def get_accountId(league_df):\n",
    "    for i in range(len(league_df)):\n",
    "        try:\n",
    "            sohwan = 'https://kr.api.riotgames.com/lol/summoner/v4/summoners/by-name/' + league_df['summonerName'].iloc[i] + '?api_key=' + api_key \n",
    "            r = requests.get(sohwan)\n",
    "\n",
    "            while r.status_code == 429:\n",
    "                time.sleep(5)\n",
    "                sohwan = 'https://kr.api.riotgames.com/lol/summoner/v4/summoners/by-name/' + league_df['summonerName'].iloc[i] + '?api_key=' + api_key \n",
    "                r = requests.get(sohwan)\n",
    "\n",
    "            account_id = r.json()['accountId']\n",
    "            league_df.iloc[i, -1] = account_id\n",
    "\n",
    "        except:\n",
    "            pass"
   ]
  },
  {
   "cell_type": "code",
   "execution_count": 8,
   "metadata": {},
   "outputs": [],
   "source": [
    "get_accountId(chal_df)"
   ]
  },
  {
   "cell_type": "code",
   "execution_count": 9,
   "metadata": {},
   "outputs": [],
   "source": [
    "get_accountId(gma_df)"
   ]
  },
  {
   "cell_type": "code",
   "execution_count": 10,
   "metadata": {},
   "outputs": [],
   "source": [
    "get_accountId(ma_df)"
   ]
  },
  {
   "cell_type": "code",
   "execution_count": 12,
   "metadata": {},
   "outputs": [
    {
     "data": {
      "text/html": [
       "<div>\n",
       "<style scoped>\n",
       "    .dataframe tbody tr th:only-of-type {\n",
       "        vertical-align: middle;\n",
       "    }\n",
       "\n",
       "    .dataframe tbody tr th {\n",
       "        vertical-align: top;\n",
       "    }\n",
       "\n",
       "    .dataframe thead th {\n",
       "        text-align: right;\n",
       "    }\n",
       "</style>\n",
       "<table border=\"1\" class=\"dataframe\">\n",
       "  <thead>\n",
       "    <tr style=\"text-align: right;\">\n",
       "      <th></th>\n",
       "      <th>tier</th>\n",
       "      <th>summonerId</th>\n",
       "      <th>summonerName</th>\n",
       "      <th>leaguePoints</th>\n",
       "      <th>wins</th>\n",
       "      <th>losses</th>\n",
       "      <th>veteran</th>\n",
       "      <th>inactive</th>\n",
       "      <th>freshBlood</th>\n",
       "      <th>hotStreak</th>\n",
       "    </tr>\n",
       "  </thead>\n",
       "  <tbody>\n",
       "    <tr>\n",
       "      <th>0</th>\n",
       "      <td>CHALLENGER</td>\n",
       "      <td>Zg2epXxC2c0ObXJHfIX1eUmW2f2bJsV45oA8rnpmGALZuj4</td>\n",
       "      <td>익산누누</td>\n",
       "      <td>853</td>\n",
       "      <td>507</td>\n",
       "      <td>455</td>\n",
       "      <td>False</td>\n",
       "      <td>False</td>\n",
       "      <td>True</td>\n",
       "      <td>MEhh2UIjggs8oEopLmFoYlicdqqqE8OZsA79439kyTjVyos</td>\n",
       "    </tr>\n",
       "    <tr>\n",
       "      <th>1</th>\n",
       "      <td>CHALLENGER</td>\n",
       "      <td>MEgpcYnO3UvT6gjZ5HxWXH_2c6JEv7oNBu8vsSA9sHhOIfk</td>\n",
       "      <td>진철수삼촌</td>\n",
       "      <td>905</td>\n",
       "      <td>325</td>\n",
       "      <td>275</td>\n",
       "      <td>False</td>\n",
       "      <td>False</td>\n",
       "      <td>True</td>\n",
       "      <td>6Xe4af-6MuxC_18ZDJhKhoYgc36tcx2cSX7u5movjNQcGiI</td>\n",
       "    </tr>\n",
       "    <tr>\n",
       "      <th>2</th>\n",
       "      <td>CHALLENGER</td>\n",
       "      <td>uTU60AeWs0kKO9AzOAJdsSUnWH-OUXquYqaoIlMcH0Al67E</td>\n",
       "      <td>huntiand1</td>\n",
       "      <td>889</td>\n",
       "      <td>868</td>\n",
       "      <td>808</td>\n",
       "      <td>True</td>\n",
       "      <td>False</td>\n",
       "      <td>False</td>\n",
       "      <td>U2SXHzoWtgP6YHrQE29GH5Ny-W-jXtKXqgemtCQzFlDndc...</td>\n",
       "    </tr>\n",
       "    <tr>\n",
       "      <th>3</th>\n",
       "      <td>CHALLENGER</td>\n",
       "      <td>1icxPO3y_7wc4riQPIMnErH6bMJlSCNh-HR1oJkpGWKI7-A</td>\n",
       "      <td>Chieftain00</td>\n",
       "      <td>1173</td>\n",
       "      <td>298</td>\n",
       "      <td>227</td>\n",
       "      <td>True</td>\n",
       "      <td>False</td>\n",
       "      <td>False</td>\n",
       "      <td>2WwJX6APhnKy88CuV7IuQI4uXqhyUunBYWW7j_rN1Mm1mKw</td>\n",
       "    </tr>\n",
       "    <tr>\n",
       "      <th>4</th>\n",
       "      <td>CHALLENGER</td>\n",
       "      <td>17dXyYuKyxKncQ2U-taCYp2n9g16FbBpxGDmMt8ZB0pvVxE</td>\n",
       "      <td>11baby</td>\n",
       "      <td>835</td>\n",
       "      <td>1351</td>\n",
       "      <td>1269</td>\n",
       "      <td>True</td>\n",
       "      <td>False</td>\n",
       "      <td>False</td>\n",
       "      <td>yCGf4c9EQ4sA6CJ2AYiCjqqs-NpKpzdryqPsAQknHVSCnL...</td>\n",
       "    </tr>\n",
       "  </tbody>\n",
       "</table>\n",
       "</div>"
      ],
      "text/plain": [
       "         tier                                       summonerId summonerName  \\\n",
       "0  CHALLENGER  Zg2epXxC2c0ObXJHfIX1eUmW2f2bJsV45oA8rnpmGALZuj4         익산누누   \n",
       "1  CHALLENGER  MEgpcYnO3UvT6gjZ5HxWXH_2c6JEv7oNBu8vsSA9sHhOIfk        진철수삼촌   \n",
       "2  CHALLENGER  uTU60AeWs0kKO9AzOAJdsSUnWH-OUXquYqaoIlMcH0Al67E    huntiand1   \n",
       "3  CHALLENGER  1icxPO3y_7wc4riQPIMnErH6bMJlSCNh-HR1oJkpGWKI7-A  Chieftain00   \n",
       "4  CHALLENGER  17dXyYuKyxKncQ2U-taCYp2n9g16FbBpxGDmMt8ZB0pvVxE       11baby   \n",
       "\n",
       "  leaguePoints  wins losses veteran inactive freshBlood  \\\n",
       "0          853   507    455   False    False       True   \n",
       "1          905   325    275   False    False       True   \n",
       "2          889   868    808    True    False      False   \n",
       "3         1173   298    227    True    False      False   \n",
       "4          835  1351   1269    True    False      False   \n",
       "\n",
       "                                           hotStreak  \n",
       "0    MEhh2UIjggs8oEopLmFoYlicdqqqE8OZsA79439kyTjVyos  \n",
       "1    6Xe4af-6MuxC_18ZDJhKhoYgc36tcx2cSX7u5movjNQcGiI  \n",
       "2  U2SXHzoWtgP6YHrQE29GH5Ny-W-jXtKXqgemtCQzFlDndc...  \n",
       "3    2WwJX6APhnKy88CuV7IuQI4uXqhyUunBYWW7j_rN1Mm1mKw  \n",
       "4  yCGf4c9EQ4sA6CJ2AYiCjqqs-NpKpzdryqPsAQknHVSCnL...  "
      ]
     },
     "execution_count": 12,
     "metadata": {},
     "output_type": "execute_result"
    }
   ],
   "source": [
    "chal_df.head()"
   ]
  },
  {
   "cell_type": "code",
   "execution_count": null,
   "metadata": {},
   "outputs": [],
   "source": []
  }
 ],
 "metadata": {
  "kernelspec": {
   "display_name": "Python 3",
   "language": "python",
   "name": "python3"
  },
  "language_info": {
   "codemirror_mode": {
    "name": "ipython",
    "version": 3
   },
   "file_extension": ".py",
   "mimetype": "text/x-python",
   "name": "python",
   "nbconvert_exporter": "python",
   "pygments_lexer": "ipython3",
   "version": "3.7.9"
  }
 },
 "nbformat": 4,
 "nbformat_minor": 4
}
