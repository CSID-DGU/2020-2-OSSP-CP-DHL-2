{
 "cells": [
  {
   "cell_type": "code",
   "execution_count": 1,
   "metadata": {},
   "outputs": [],
   "source": [
    "import requests\n",
    "import pandas as pd"
   ]
  },
  {
   "cell_type": "code",
   "execution_count": 2,
   "metadata": {},
   "outputs": [],
   "source": [
    "api_key = ''"
   ]
  },
  {
   "cell_type": "markdown",
   "metadata": {},
   "source": [
    "# 리그의 소환사 데이터 수집(Challenger, GrandMaster, Master...)"
   ]
  },
  {
   "cell_type": "code",
   "execution_count": 3,
   "metadata": {},
   "outputs": [],
   "source": [
    "def get_league_data(league):\n",
    "    url = 'https://kr.api.riotgames.com/lol/league/v4/'+ league +'leagues/by-queue/RANKED_SOLO_5x5?api_key=' + api_key\n",
    "    league_df = pd.DataFrame(requests.get(url).json())\n",
    "    league_df.reset_index(inplace=True)#수집한 그마데이터 index정리\n",
    "    league_entries_df = pd.DataFrame(dict(league_df['entries'])).T #dict구조로 되어 있는 entries컬럼 풀어주기\n",
    "    league_df = pd.concat([league_df, league_entries_df], axis=1) #열끼리 결합\n",
    "    league_df = league_df.drop(['index', 'queue', 'name', 'leagueId', 'entries', 'rank'], axis=1)\n",
    "#     league_df.to_csv(league + '.csv',index=False,encoding = 'cp949')#중간저장\n",
    "    return league_df"
   ]
  },
  {
   "cell_type": "code",
   "execution_count": 4,
   "metadata": {},
   "outputs": [],
   "source": [
    "chal_df = get_league_data('challenger')\n",
    "gma_df = get_league_data('grandmaster')\n",
    "ma_df = get_league_data('master')"
   ]
  },
  {
   "cell_type": "code",
   "execution_count": 5,
   "metadata": {},
   "outputs": [
    {
     "name": "stdout",
     "output_type": "stream",
     "text": [
      "<class 'pandas.core.frame.DataFrame'>\n",
      "RangeIndex: 300 entries, 0 to 299\n",
      "Data columns (total 10 columns):\n",
      " #   Column        Non-Null Count  Dtype \n",
      "---  ------        --------------  ----- \n",
      " 0   tier          300 non-null    object\n",
      " 1   summonerId    300 non-null    object\n",
      " 2   summonerName  300 non-null    object\n",
      " 3   leaguePoints  300 non-null    object\n",
      " 4   wins          300 non-null    object\n",
      " 5   losses        300 non-null    object\n",
      " 6   veteran       300 non-null    object\n",
      " 7   inactive      300 non-null    object\n",
      " 8   freshBlood    300 non-null    object\n",
      " 9   hotStreak     300 non-null    object\n",
      "dtypes: object(10)\n",
      "memory usage: 23.6+ KB\n"
     ]
    }
   ],
   "source": [
    "chal_df.info()"
   ]
  },
  {
   "cell_type": "code",
   "execution_count": 6,
   "metadata": {},
   "outputs": [
    {
     "data": {
      "text/html": [
       "<div>\n",
       "<style scoped>\n",
       "    .dataframe tbody tr th:only-of-type {\n",
       "        vertical-align: middle;\n",
       "    }\n",
       "\n",
       "    .dataframe tbody tr th {\n",
       "        vertical-align: top;\n",
       "    }\n",
       "\n",
       "    .dataframe thead th {\n",
       "        text-align: right;\n",
       "    }\n",
       "</style>\n",
       "<table border=\"1\" class=\"dataframe\">\n",
       "  <thead>\n",
       "    <tr style=\"text-align: right;\">\n",
       "      <th></th>\n",
       "      <th>tier</th>\n",
       "      <th>summonerId</th>\n",
       "      <th>summonerName</th>\n",
       "      <th>leaguePoints</th>\n",
       "      <th>wins</th>\n",
       "      <th>losses</th>\n",
       "      <th>veteran</th>\n",
       "      <th>inactive</th>\n",
       "      <th>freshBlood</th>\n",
       "      <th>hotStreak</th>\n",
       "    </tr>\n",
       "  </thead>\n",
       "  <tbody>\n",
       "    <tr>\n",
       "      <th>0</th>\n",
       "      <td>CHALLENGER</td>\n",
       "      <td>MEgpcYnO3UvT6gjZ5HxWXH_2c6JEv7oNBu8vsSA9sHhOIfk</td>\n",
       "      <td>진철수삼촌</td>\n",
       "      <td>905</td>\n",
       "      <td>325</td>\n",
       "      <td>275</td>\n",
       "      <td>False</td>\n",
       "      <td>False</td>\n",
       "      <td>True</td>\n",
       "      <td>True</td>\n",
       "    </tr>\n",
       "    <tr>\n",
       "      <th>1</th>\n",
       "      <td>CHALLENGER</td>\n",
       "      <td>VOB0M4-Zbfuv0DVpA3_1FqbcRN3a6KGSMmBnKizzCfdGhnk</td>\n",
       "      <td>Mango Fish</td>\n",
       "      <td>1064</td>\n",
       "      <td>580</td>\n",
       "      <td>463</td>\n",
       "      <td>True</td>\n",
       "      <td>False</td>\n",
       "      <td>False</td>\n",
       "      <td>False</td>\n",
       "    </tr>\n",
       "    <tr>\n",
       "      <th>2</th>\n",
       "      <td>CHALLENGER</td>\n",
       "      <td>17dXyYuKyxKncQ2U-taCYp2n9g16FbBpxGDmMt8ZB0pvVxE</td>\n",
       "      <td>11baby</td>\n",
       "      <td>835</td>\n",
       "      <td>1351</td>\n",
       "      <td>1269</td>\n",
       "      <td>True</td>\n",
       "      <td>False</td>\n",
       "      <td>False</td>\n",
       "      <td>False</td>\n",
       "    </tr>\n",
       "    <tr>\n",
       "      <th>3</th>\n",
       "      <td>CHALLENGER</td>\n",
       "      <td>PM_codhC0CZwPDIu5jawgMqhSR2OkMdUyP_rnPXbvn2mBb0</td>\n",
       "      <td>FA Mlnit</td>\n",
       "      <td>1134</td>\n",
       "      <td>612</td>\n",
       "      <td>545</td>\n",
       "      <td>True</td>\n",
       "      <td>False</td>\n",
       "      <td>False</td>\n",
       "      <td>False</td>\n",
       "    </tr>\n",
       "    <tr>\n",
       "      <th>4</th>\n",
       "      <td>CHALLENGER</td>\n",
       "      <td>ioQMeJFV3eTydg973l3cDvonAznWEwp5zOLZCMVuI21s_AE</td>\n",
       "      <td>나는 준일하다</td>\n",
       "      <td>1073</td>\n",
       "      <td>398</td>\n",
       "      <td>341</td>\n",
       "      <td>True</td>\n",
       "      <td>False</td>\n",
       "      <td>False</td>\n",
       "      <td>False</td>\n",
       "    </tr>\n",
       "  </tbody>\n",
       "</table>\n",
       "</div>"
      ],
      "text/plain": [
       "         tier                                       summonerId summonerName  \\\n",
       "0  CHALLENGER  MEgpcYnO3UvT6gjZ5HxWXH_2c6JEv7oNBu8vsSA9sHhOIfk        진철수삼촌   \n",
       "1  CHALLENGER  VOB0M4-Zbfuv0DVpA3_1FqbcRN3a6KGSMmBnKizzCfdGhnk   Mango Fish   \n",
       "2  CHALLENGER  17dXyYuKyxKncQ2U-taCYp2n9g16FbBpxGDmMt8ZB0pvVxE       11baby   \n",
       "3  CHALLENGER  PM_codhC0CZwPDIu5jawgMqhSR2OkMdUyP_rnPXbvn2mBb0     FA Mlnit   \n",
       "4  CHALLENGER  ioQMeJFV3eTydg973l3cDvonAznWEwp5zOLZCMVuI21s_AE      나는 준일하다   \n",
       "\n",
       "  leaguePoints  wins losses veteran inactive freshBlood hotStreak  \n",
       "0          905   325    275   False    False       True      True  \n",
       "1         1064   580    463    True    False      False     False  \n",
       "2          835  1351   1269    True    False      False     False  \n",
       "3         1134   612    545    True    False      False     False  \n",
       "4         1073   398    341    True    False      False     False  "
      ]
     },
     "execution_count": 6,
     "metadata": {},
     "output_type": "execute_result"
    }
   ],
   "source": [
    "chal_df.head()"
   ]
  },
  {
   "cell_type": "code",
   "execution_count": null,
   "metadata": {},
   "outputs": [],
   "source": []
  }
 ],
 "metadata": {
  "kernelspec": {
   "display_name": "Python 3",
   "language": "python",
   "name": "python3"
  },
  "language_info": {
   "codemirror_mode": {
    "name": "ipython",
    "version": 3
   },
   "file_extension": ".py",
   "mimetype": "text/x-python",
   "name": "python",
   "nbconvert_exporter": "python",
   "pygments_lexer": "ipython3",
   "version": "3.7.9"
  }
 },
 "nbformat": 4,
 "nbformat_minor": 4
}
