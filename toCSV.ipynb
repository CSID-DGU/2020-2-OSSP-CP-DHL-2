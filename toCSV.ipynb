{
 "cells": [
  {
   "cell_type": "code",
   "execution_count": 1,
   "metadata": {},
   "outputs": [],
   "source": [
    "import requests\n",
    "import pandas as pd"
   ]
  },
  {
   "cell_type": "code",
   "execution_count": 2,
   "metadata": {},
   "outputs": [],
   "source": [
    "api_key = 'RGAPI-538671a4-f9ec-4f29-8c5e-add830cd4ff2'"
   ]
  },
  {
   "cell_type": "markdown",
   "metadata": {},
   "source": [
    "# 리그의 소환사 데이터 수집(Challenger, GrandMaster, Master...)"
   ]
  },
  {
   "cell_type": "code",
   "execution_count": 3,
   "metadata": {},
   "outputs": [],
   "source": [
    "def get_league_data(league):\n",
    "    url = 'https://kr.api.riotgames.com/lol/league/v4/'+ league +'leagues/by-queue/RANKED_SOLO_5x5?api_key=' + api_key\n",
    "    league_df = pd.DataFrame(requests.get(url).json())\n",
    "    league_df.reset_index(inplace=True)#수집한 그마데이터 index정리\n",
    "    league_entries_df = pd.DataFrame(dict(league_df['entries'])).T #dict구조로 되어 있는 entries컬럼 풀어주기\n",
    "    league_df = pd.concat([league_df, league_entries_df], axis=1) #열끼리 결합\n",
    "    league_df = league_df.drop(['index', 'queue', 'name', 'leagueId', 'entries', 'rank'], axis=1)\n",
    "#     league_df.to_csv(league + '.csv',index=False,encoding = 'cp949')#중간저장\n",
    "    return league_df"
   ]
  },
  {
   "cell_type": "code",
   "execution_count": 4,
   "metadata": {},
   "outputs": [],
   "source": [
    "chal_df = get_league_data('challenger')\n",
    "gma_df = get_league_data('grandmaster')\n",
    "ma_df = get_league_data('master')"
   ]
  },
  {
   "cell_type": "code",
   "execution_count": 5,
   "metadata": {},
   "outputs": [
    {
     "name": "stdout",
     "output_type": "stream",
     "text": [
      "<class 'pandas.core.frame.DataFrame'>\n",
      "RangeIndex: 300 entries, 0 to 299\n",
      "Data columns (total 10 columns):\n",
      " #   Column        Non-Null Count  Dtype \n",
      "---  ------        --------------  ----- \n",
      " 0   tier          300 non-null    object\n",
      " 1   summonerId    300 non-null    object\n",
      " 2   summonerName  300 non-null    object\n",
      " 3   leaguePoints  300 non-null    object\n",
      " 4   wins          300 non-null    object\n",
      " 5   losses        300 non-null    object\n",
      " 6   veteran       300 non-null    object\n",
      " 7   inactive      300 non-null    object\n",
      " 8   freshBlood    300 non-null    object\n",
      " 9   hotStreak     300 non-null    object\n",
      "dtypes: object(10)\n",
      "memory usage: 23.6+ KB\n"
     ]
    }
   ],
   "source": [
    "chal_df.info()"
   ]
  },
  {
   "cell_type": "code",
   "execution_count": 6,
   "metadata": {},
   "outputs": [
    {
     "data": {
      "text/html": [
       "<div>\n",
       "<style scoped>\n",
       "    .dataframe tbody tr th:only-of-type {\n",
       "        vertical-align: middle;\n",
       "    }\n",
       "\n",
       "    .dataframe tbody tr th {\n",
       "        vertical-align: top;\n",
       "    }\n",
       "\n",
       "    .dataframe thead th {\n",
       "        text-align: right;\n",
       "    }\n",
       "</style>\n",
       "<table border=\"1\" class=\"dataframe\">\n",
       "  <thead>\n",
       "    <tr style=\"text-align: right;\">\n",
       "      <th></th>\n",
       "      <th>tier</th>\n",
       "      <th>summonerId</th>\n",
       "      <th>summonerName</th>\n",
       "      <th>leaguePoints</th>\n",
       "      <th>wins</th>\n",
       "      <th>losses</th>\n",
       "      <th>veteran</th>\n",
       "      <th>inactive</th>\n",
       "      <th>freshBlood</th>\n",
       "      <th>hotStreak</th>\n",
       "    </tr>\n",
       "  </thead>\n",
       "  <tbody>\n",
       "    <tr>\n",
       "      <th>0</th>\n",
       "      <td>CHALLENGER</td>\n",
       "      <td>c4LTK6_4mqn6U0cWNDuidNdDvrHNjlTm2ZPPtfFrPwYTGzg</td>\n",
       "      <td>ZED99</td>\n",
       "      <td>901</td>\n",
       "      <td>503</td>\n",
       "      <td>391</td>\n",
       "      <td>True</td>\n",
       "      <td>False</td>\n",
       "      <td>False</td>\n",
       "      <td>False</td>\n",
       "    </tr>\n",
       "    <tr>\n",
       "      <th>1</th>\n",
       "      <td>CHALLENGER</td>\n",
       "      <td>_kS1ZujjIPAxBRDckVNkIBWRBG3RwO3g_Y7onc_tG9qd0P0</td>\n",
       "      <td>Bbvoy</td>\n",
       "      <td>1256</td>\n",
       "      <td>487</td>\n",
       "      <td>407</td>\n",
       "      <td>True</td>\n",
       "      <td>False</td>\n",
       "      <td>False</td>\n",
       "      <td>True</td>\n",
       "    </tr>\n",
       "    <tr>\n",
       "      <th>2</th>\n",
       "      <td>CHALLENGER</td>\n",
       "      <td>pTuGGUHb_cVX6TXoMqddL6rvPRUxYeUMHYjchIIaMygOgDQ</td>\n",
       "      <td>파이팅 인생</td>\n",
       "      <td>1133</td>\n",
       "      <td>700</td>\n",
       "      <td>642</td>\n",
       "      <td>False</td>\n",
       "      <td>False</td>\n",
       "      <td>False</td>\n",
       "      <td>False</td>\n",
       "    </tr>\n",
       "    <tr>\n",
       "      <th>3</th>\n",
       "      <td>CHALLENGER</td>\n",
       "      <td>uovJhinWeJyVmOn8nYB-gk6Lp-lDM9cVEKgeS9jhcyPt4Xo</td>\n",
       "      <td>szygszn</td>\n",
       "      <td>842</td>\n",
       "      <td>1103</td>\n",
       "      <td>1068</td>\n",
       "      <td>False</td>\n",
       "      <td>False</td>\n",
       "      <td>False</td>\n",
       "      <td>False</td>\n",
       "    </tr>\n",
       "    <tr>\n",
       "      <th>4</th>\n",
       "      <td>CHALLENGER</td>\n",
       "      <td>4NT7Y3TEOORGrt1zaxvvWdBVlfcSbZk9L_vBnK7ZooP708A</td>\n",
       "      <td>Demon</td>\n",
       "      <td>872</td>\n",
       "      <td>218</td>\n",
       "      <td>151</td>\n",
       "      <td>False</td>\n",
       "      <td>False</td>\n",
       "      <td>False</td>\n",
       "      <td>False</td>\n",
       "    </tr>\n",
       "  </tbody>\n",
       "</table>\n",
       "</div>"
      ],
      "text/plain": [
       "         tier                                       summonerId summonerName  \\\n",
       "0  CHALLENGER  c4LTK6_4mqn6U0cWNDuidNdDvrHNjlTm2ZPPtfFrPwYTGzg        ZED99   \n",
       "1  CHALLENGER  _kS1ZujjIPAxBRDckVNkIBWRBG3RwO3g_Y7onc_tG9qd0P0        Bbvoy   \n",
       "2  CHALLENGER  pTuGGUHb_cVX6TXoMqddL6rvPRUxYeUMHYjchIIaMygOgDQ       파이팅 인생   \n",
       "3  CHALLENGER  uovJhinWeJyVmOn8nYB-gk6Lp-lDM9cVEKgeS9jhcyPt4Xo      szygszn   \n",
       "4  CHALLENGER  4NT7Y3TEOORGrt1zaxvvWdBVlfcSbZk9L_vBnK7ZooP708A        Demon   \n",
       "\n",
       "  leaguePoints  wins losses veteran inactive freshBlood hotStreak  \n",
       "0          901   503    391    True    False      False     False  \n",
       "1         1256   487    407    True    False      False      True  \n",
       "2         1133   700    642   False    False      False     False  \n",
       "3          842  1103   1068   False    False      False     False  \n",
       "4          872   218    151   False    False      False     False  "
      ]
     },
     "execution_count": 6,
     "metadata": {},
     "output_type": "execute_result"
    }
   ],
   "source": [
    "chal_df.head()"
   ]
  },
  {
   "cell_type": "code",
   "execution_count": null,
   "metadata": {},
   "outputs": [],
   "source": []
  }
 ],
 "metadata": {
  "kernelspec": {
   "display_name": "Python 3",
   "language": "python",
   "name": "python3"
  },
  "language_info": {
   "codemirror_mode": {
    "name": "ipython",
    "version": 3
   },
   "file_extension": ".py",
   "mimetype": "text/x-python",
   "name": "python",
   "nbconvert_exporter": "python",
   "pygments_lexer": "ipython3",
   "version": "3.7.9"
  }
 },
 "nbformat": 4,
 "nbformat_minor": 4
}
