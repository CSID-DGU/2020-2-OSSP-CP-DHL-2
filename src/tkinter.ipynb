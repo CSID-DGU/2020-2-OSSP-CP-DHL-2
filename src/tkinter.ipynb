{
 "cells": [
  {
   "cell_type": "code",
   "execution_count": 1,
   "metadata": {},
   "outputs": [],
   "source": [
    "import tkinter as tk\n",
    "from tkinter import font as tkfont"
   ]
  },
  {
   "cell_type": "code",
   "execution_count": 2,
   "metadata": {},
   "outputs": [],
   "source": [
    "class TeamChoicePage(tk.Frame):\n",
    "\n",
    "    def __init__(self, parent, controller):\n",
    "        tk.Frame.__init__(self, parent)\n",
    "        self.controller = controller\n",
    "        \n",
    "        label_chooseteam = tk.Label(self, text='진영을 선택하세요:', font=controller.title_font)\n",
    "        label_chooseteam.grid(row=0)\n",
    "        \n",
    "        button_blue = tk.Button(self, text=\"Blue팀\", width=16, height=10, fg='blue', bg='white', relief='raised', command=lambda: controller.show_frame(\"BanPickPage_Blue\"))\n",
    "        button_blue.grid(row=2, column = 0)\n",
    "        \n",
    "        button_purple = tk.Button(self, text=\"Purple팀\", width=16, height=10, fg='purple', bg='white', relief='raised', command=lambda: controller.show_frame(\"BanPickPage_Purple\"))\n",
    "        button_purple.grid(row=2, column = 1)"
   ]
  },
  {
   "cell_type": "code",
   "execution_count": 3,
   "metadata": {},
   "outputs": [],
   "source": [
    "class BanPickPage_Blue(tk.Frame):\n",
    "\n",
    "    def __init__(self, parent, controller):\n",
    "        tk.Frame.__init__(self, parent)\n",
    "        self.controller = controller\n",
    "\n",
    "        \n",
    "        label = tk.Label(self, text=\"Blue팀 밴픽\", font=controller.title_font)\n",
    "        label.grid(row=0, column=1)\n",
    "        button_back = tk.Button(self, text=\"Back to Team Choice\",\n",
    "                           command=lambda: controller.show_frame(\"TeamChoicePage\"))\n",
    "        button_back.grid(row=1, column=1)\n",
    "        \n",
    "        button_blue_1 = tk.Button(self, width=40, height=10, bg='#1C1C1C', text='1')\n",
    "        button_blue_1.grid(row=2,column=0, sticky='w', padx=2)\n",
    "        button_blue_2 = tk.Button(self, width=40, height=10, bg='#1C1C1C', text='2')\n",
    "        button_blue_2.grid(row=3,column=0, sticky='w', padx=2)\n",
    "        button_blue_3 = tk.Button(self, width=40, height=10, bg='#1C1C1C', text='3')\n",
    "        button_blue_3.grid(row=4,column=0, sticky='w', padx=2)\n",
    "        button_blue_4 = tk.Button(self, width=40, height=10, bg='#1C1C1C', text='4')\n",
    "        button_blue_4.grid(row=5,column=0, sticky='w', padx=2)\n",
    "        button_blue_5 = tk.Button(self, width=40, height=10, bg='#1C1C1C', text='5')\n",
    "        button_blue_5.grid(row=6,column=0, sticky='w', padx=2)\n",
    "        \n",
    "        button_purple_1 = tk.Button(self, width=40, height=10, bg='#1C1C1C', text='1')\n",
    "        button_purple_1.grid(row=2,column=2, sticky='e', padx=2)\n",
    "        button_purple_2 = tk.Button(self, width=40, height=10, bg='#1C1C1C', text='2')\n",
    "        button_purple_2.grid(row=3,column=2, sticky='e', padx=2)\n",
    "        button_purple_3 = tk.Button(self, width=40, height=10, bg='#1C1C1C', text='3')\n",
    "        button_purple_3.grid(row=4,column=2, sticky='e', padx=2)\n",
    "        button_purple_4 = tk.Button(self, width=40, height=10, bg='#1C1C1C', text='4')\n",
    "        button_purple_4.grid(row=5,column=2, sticky='e', padx=2)\n",
    "        button_purple_5 = tk.Button(self, width=40, height=10, bg='#1C1C1C', text='5')\n",
    "        button_purple_5.grid(row=6,column=2, sticky='e', padx=2)\n",
    "        \n",
    "        canvas = tk.Canvas(self, width=700, height=800, bg='#1C1C1C')\n",
    "        canvas.grid(row=2, column=1, rowspan=5)"
   ]
  },
  {
   "cell_type": "code",
   "execution_count": 4,
   "metadata": {},
   "outputs": [],
   "source": [
    "class BanPickPage_Purple(tk.Frame):\n",
    "\n",
    "    def __init__(self, parent, controller):\n",
    "        tk.Frame.__init__(self, parent)\n",
    "        self.controller = controller\n",
    "\n",
    "        label = tk.Label(self, text=\"Purple팀 밴픽\", font=controller.title_font)\n",
    "        label.grid(row=0, column=1)\n",
    "        button_back = tk.Button(self, text=\"Back to Team Choice\",\n",
    "                           command=lambda: controller.show_frame(\"TeamChoicePage\"))\n",
    "        button_back.grid(row=1, column=1)\n",
    "        \n",
    "        button_purple_1 = tk.Button(self, width=40, height=10, bg='#1C1C1C', text='1')\n",
    "        button_purple_1.grid(row=2,column=0, sticky='w', padx=2)\n",
    "        button_purple_2 = tk.Button(self, width=40, height=10, bg='#1C1C1C', text='2')\n",
    "        button_purple_2.grid(row=3,column=0, sticky='w', padx=2)\n",
    "        button_purple_3 = tk.Button(self, width=40, height=10, bg='#1C1C1C', text='3')\n",
    "        button_purple_3.grid(row=4,column=0, sticky='w', padx=2)\n",
    "        button_purple_4 = tk.Button(self, width=40, height=10, bg='#1C1C1C', text='4')\n",
    "        button_purple_4.grid(row=5,column=0, sticky='w', padx=2)\n",
    "        button_purple_5 = tk.Button(self, width=40, height=10, bg='#1C1C1C', text='5')\n",
    "        button_purple_5.grid(row=6,column=0, sticky='w', padx=2)\n",
    "        \n",
    "        button_blue_1 = tk.Button(self, width=40, height=10, bg='#1C1C1C', text='1')\n",
    "        button_blue_1.grid(row=2,column=3, sticky='e', padx=2)\n",
    "        button_blue_2 = tk.Button(self, width=40, height=10, bg='#1C1C1C', text='2')\n",
    "        button_blue_2.grid(row=3,column=3, sticky='e', padx=2)\n",
    "        button_blue_3 = tk.Button(self, width=40, height=10, bg='#1C1C1C', text='3')\n",
    "        button_blue_3.grid(row=4,column=3, sticky='e', padx=2)\n",
    "        button_blue_4 = tk.Button(self, width=40, height=10, bg='#1C1C1C', text='4')\n",
    "        button_blue_4.grid(row=5,column=3, sticky='e', padx=2)\n",
    "        button_blue_5 = tk.Button(self, width=40, height=10, bg='#1C1C1C', text='5')\n",
    "        button_blue_5.grid(row=6,column=3, sticky='e', padx=2)\n",
    "        \n",
    "        canvas = tk.Canvas(self, width=700, height=800, bg='#1C1C1C')\n",
    "        canvas.grid(row=2, column=1, rowspan=5)"
   ]
  },
  {
   "cell_type": "code",
   "execution_count": 5,
   "metadata": {},
   "outputs": [],
   "source": [
    "class DHLApp(tk.Tk):\n",
    "\n",
    "    def __init__(self, *args, **kwargs):\n",
    "        tk.Tk.__init__(self, *args, **kwargs)\n",
    "\n",
    "        self.title_font = tkfont.Font(family='Helvetica', size=18, weight=\"bold\", slant=\"italic\")\n",
    "        container = tk.Frame(self)\n",
    "        container.pack(side=\"top\", fill=\"both\", expand=True)\n",
    "        container.grid_rowconfigure(0, weight=1)\n",
    "        container.grid_columnconfigure(0, weight=1)\n",
    "\n",
    "        self.frames = {}\n",
    "        for F in (TeamChoicePage, BanPickPage_Blue, BanPickPage_Purple):\n",
    "            page_name = F.__name__\n",
    "            frame = F(parent=container, controller=self)\n",
    "            self.frames[page_name] = frame\n",
    "\n",
    "            frame.grid(row=0, column=0, sticky=\"nsew\")\n",
    "\n",
    "        self.show_frame(\"TeamChoicePage\")\n",
    "\n",
    "    def show_frame(self, page_name):\n",
    "        frame = self.frames[page_name]\n",
    "        frame.tkraise() ## 창 자동 전환"
   ]
  },
  {
   "cell_type": "code",
   "execution_count": 6,
   "metadata": {},
   "outputs": [],
   "source": [
    "if __name__ == \"__main__\":\n",
    "    app = DHLApp()\n",
    "    app.mainloop()"
   ]
  }
 ],
 "metadata": {
  "kernelspec": {
   "display_name": "Python 3",
   "language": "python",
   "name": "python3"
  },
  "language_info": {
   "codemirror_mode": {
    "name": "ipython",
    "version": 3
   },
   "file_extension": ".py",
   "mimetype": "text/x-python",
   "name": "python",
   "nbconvert_exporter": "python",
   "pygments_lexer": "ipython3",
   "version": "3.8.3"
  }
 },
 "nbformat": 4,
 "nbformat_minor": 4
}
