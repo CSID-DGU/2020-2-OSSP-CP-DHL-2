{
 "cells": [
  {
   "cell_type": "code",
   "execution_count": 1,
   "metadata": {},
   "outputs": [],
   "source": [
    "import requests \n",
    "import json\n",
    "import pandas as pd\n",
    "import numpy as np\n",
    "import matplotlib as mlp\n",
    "import matplotlib.pyplot as plt\n",
    "import seaborn as sns\n",
    "import time\n",
    "import pickle"
   ]
  },
  {
   "cell_type": "code",
   "execution_count": null,
   "metadata": {},
   "outputs": [],
   "source": [
    "champ = pd.read_csv(\"../data/champion.csv\", index_col=[0])\n",
    "def select_line(line):\n",
    "    line = champ.key[champ.line == line]\n",
    "    line = pd.DataFrame(line)\n",
    "    lst = []\n",
    "    for row in line['key']:\n",
    "        lst.append(row)\n",
    "    return lst\n",
    "\n",
    "top_list = select_line(0)\n",
    "jungle_list = select_line(1)\n",
    "mid_list = select_line(2)\n",
    "ad_list = select_line(3)\n",
    "sup_list = select_line(4)\n",
    "top_list"
   ]
  },
  {
   "cell_type": "code",
   "execution_count": null,
   "metadata": {},
   "outputs": [],
   "source": [
    "with open('../data/numberWinsChampion.pickle', 'rb') as fr:\n",
    "    numberWinsChampion = pickle.load(fr)\n",
    "top_dict = {k :v for k, v in numberWinsChampion.items() if k in top_list}\n",
    "top_df = pd.DataFrame(top_dict)\n",
    "top_df[36].value_counts()"
   ]
  },
  {
   "cell_type": "code",
   "execution_count": null,
   "metadata": {},
   "outputs": [],
   "source": [
    "with open('../data/numberWinsChampion.pickle', 'rb') as fr:\n",
    "    numberWinsChampion = pickle.load(fr)\n",
    "numberWinsChampion = pd.DataFrame(numberWinsChampion)\n",
    "numberWinsChampion.fillna(-1, inplace=True)\n",
    "numberWinsChampion = numberWinsChampion.astype(int)\n",
    "numberWinsChampion.head()"
   ]
  },
  {
   "cell_type": "code",
   "execution_count": null,
   "metadata": {},
   "outputs": [],
   "source": [
    "def win_rate(line_df):\n",
    "    for champ in line_df:\n",
    "        for 상대 in line_df[champ][:].index:\n",
    "            if (numberWinsChampion[상대][champ] + numberWinsChampion[champ][상대]) < 25: 승률 = -1\n",
    "            else: 승률 =  numberWinsChampion[champ][상대] / (numberWinsChampion[상대][champ] + numberWinsChampion[champ][상대])\n",
    "            line_df[champ][상대] = round(승률, 4)\n",
    "\n",
    "win_rate(top_df)\n",
    "top_df"
   ]
  },
  {
   "cell_type": "code",
   "execution_count": null,
   "metadata": {},
   "outputs": [],
   "source": [
    "for i in top_df[36]:\n",
    "    if i == -1: print(i)"
   ]
  },
  {
   "cell_type": "code",
   "execution_count": null,
   "metadata": {},
   "outputs": [],
   "source": [
    "top_df"
   ]
  },
  {
   "cell_type": "code",
   "execution_count": null,
   "metadata": {},
   "outputs": [],
   "source": []
  }
 ],
 "metadata": {
  "kernelspec": {
   "display_name": "Python 3",
   "language": "python",
   "name": "python3"
  },
  "language_info": {
   "codemirror_mode": {
    "name": "ipython",
    "version": 3
   },
   "file_extension": ".py",
   "mimetype": "text/x-python",
   "name": "python",
   "nbconvert_exporter": "python",
   "pygments_lexer": "ipython3",
   "version": "3.7.7"
  }
 },
 "nbformat": 4,
 "nbformat_minor": 4
}
