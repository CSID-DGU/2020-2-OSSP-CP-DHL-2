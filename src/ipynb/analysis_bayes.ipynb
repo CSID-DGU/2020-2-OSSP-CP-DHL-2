{
 "cells": [
  {
   "cell_type": "code",
   "execution_count": 1,
   "metadata": {},
   "outputs": [],
   "source": [
    "import json\n",
    "import numpy as np\n",
    "import pandas as pd"
   ]
  },
  {
   "cell_type": "code",
   "execution_count": 2,
   "metadata": {},
   "outputs": [],
   "source": [
    "with open('analysis_dataset.json', 'r') as js:\n",
    "     games = json.load(js)"
   ]
  },
  {
   "cell_type": "code",
   "execution_count": 3,
   "metadata": {},
   "outputs": [
    {
     "data": {
      "text/plain": [
       "{'win': {'100': 'Win', '200': 'Fail'},\n",
       " 'ban': {'100': [89, 104, 126, 91, 360], '200': [142, 25, 117, 80, 91]},\n",
       " 'pick': {'100': [76, 497, 21, 54, 777], '200': [60, 236, 29, 40, 114]},\n",
       " 'pick_role': {'100': {'JUNGLE_NONE': 76,\n",
       "   'BOTTOM_DUO_SUPPORT': 497,\n",
       "   'BOTTOM_DUO_CARRY': 21,\n",
       "   'TOP_SOLO': 54,\n",
       "   'MIDDLE_SOLO': 777},\n",
       "  '200': {'JUNGLE_NONE': 60,\n",
       "   'MIDDLE_SOLO': 236,\n",
       "   'BOTTOM_DUO_CARRY': 29,\n",
       "   'BOTTOM_DUO_SUPPORT': 40,\n",
       "   'TOP_SOLO': 114}}}"
      ]
     },
     "execution_count": 3,
     "metadata": {},
     "output_type": "execute_result"
    }
   ],
   "source": [
    "gameId = '4733146699'\n",
    "games[gameId]"
   ]
  },
  {
   "cell_type": "code",
   "execution_count": 4,
   "metadata": {},
   "outputs": [
    {
     "data": {
      "text/html": [
       "<div>\n",
       "<style scoped>\n",
       "    .dataframe tbody tr th:only-of-type {\n",
       "        vertical-align: middle;\n",
       "    }\n",
       "\n",
       "    .dataframe tbody tr th {\n",
       "        vertical-align: top;\n",
       "    }\n",
       "\n",
       "    .dataframe thead th {\n",
       "        text-align: right;\n",
       "    }\n",
       "</style>\n",
       "<table border=\"1\" class=\"dataframe\">\n",
       "  <thead>\n",
       "    <tr style=\"text-align: right;\">\n",
       "      <th></th>\n",
       "      <th>id</th>\n",
       "      <th>key</th>\n",
       "      <th>line</th>\n",
       "    </tr>\n",
       "  </thead>\n",
       "  <tbody>\n",
       "    <tr>\n",
       "      <th>147</th>\n",
       "      <td>Zed</td>\n",
       "      <td>238</td>\n",
       "      <td>2</td>\n",
       "    </tr>\n",
       "    <tr>\n",
       "      <th>148</th>\n",
       "      <td>Ziggs</td>\n",
       "      <td>115</td>\n",
       "      <td>2</td>\n",
       "    </tr>\n",
       "    <tr>\n",
       "      <th>149</th>\n",
       "      <td>Zilean</td>\n",
       "      <td>26</td>\n",
       "      <td>4</td>\n",
       "    </tr>\n",
       "    <tr>\n",
       "      <th>150</th>\n",
       "      <td>Zoe</td>\n",
       "      <td>142</td>\n",
       "      <td>2</td>\n",
       "    </tr>\n",
       "    <tr>\n",
       "      <th>151</th>\n",
       "      <td>Zyra</td>\n",
       "      <td>143</td>\n",
       "      <td>4</td>\n",
       "    </tr>\n",
       "  </tbody>\n",
       "</table>\n",
       "</div>"
      ],
      "text/plain": [
       "         id  key  line\n",
       "147     Zed  238     2\n",
       "148   Ziggs  115     2\n",
       "149  Zilean   26     4\n",
       "150     Zoe  142     2\n",
       "151    Zyra  143     4"
      ]
     },
     "execution_count": 4,
     "metadata": {},
     "output_type": "execute_result"
    }
   ],
   "source": [
    "df_champion = pd.read_csv('../../data/csv/champion.csv')\n",
    "df_champion = df_champion.drop(['Unnamed: 0'], axis=1)\n",
    "column = ['champion','championId']\n",
    "df_champion.tail()"
   ]
  },
  {
   "cell_type": "code",
   "execution_count": 5,
   "metadata": {},
   "outputs": [],
   "source": [
    "champion_id_list = list(df_champion.key)\n",
    "champion_id_list.sort()"
   ]
  },
  {
   "cell_type": "markdown",
   "metadata": {},
   "source": [
    "# Prior probability( = P(H))"
   ]
  },
  {
   "cell_type": "code",
   "execution_count": 6,
   "metadata": {},
   "outputs": [],
   "source": [
    "def safe_divide(x, y):\n",
    "    \"\"\"\n",
    "    prevent from dividing by 0\n",
    "    :param x: numerator\n",
    "    :param y: denominator\n",
    "    :return: float\n",
    "    \"\"\"\n",
    "    try:\n",
    "        return round(x / y, 4)\n",
    "    except ZeroDivisionError:\n",
    "        return 0"
   ]
  },
  {
   "cell_type": "markdown",
   "metadata": {},
   "source": [
    "# Champion win rate( = P(H))"
   ]
  },
  {
   "cell_type": "code",
   "execution_count": 7,
   "metadata": {},
   "outputs": [],
   "source": [
    "def champion_win_rate(champion_id):\n",
    "    \"\"\"\n",
    "    챔피언 하나의 승률.\n",
    "    :param champion_id: championId\n",
    "    :return: [승률, 챔피언이 플레이한 게임수, 챔피언이 플레이해서 이긴 게임수]\n",
    "    \"\"\"\n",
    "    game_count = 0\n",
    "    win_count = 0\n",
    "    teamIds = ['100', '200']\n",
    "    for gameId in games.keys():\n",
    "        for teamId in teamIds:\n",
    "            if champion_id in games[gameId]['pick'][teamId]:\n",
    "                game_count += 1\n",
    "                if games[gameId]['win'][teamId] == 'Win':\n",
    "                    win_count += 1\n",
    "    return [safe_divide(win_count, game_count), game_count, win_count]"
   ]
  },
  {
   "cell_type": "code",
   "execution_count": 8,
   "metadata": {},
   "outputs": [
    {
     "data": {
      "text/plain": [
       "[0.5397, 63, 34]"
      ]
     },
     "execution_count": 8,
     "metadata": {},
     "output_type": "execute_result"
    }
   ],
   "source": [
    "champion_win_rate(498)"
   ]
  },
  {
   "cell_type": "code",
   "execution_count": 9,
   "metadata": {},
   "outputs": [],
   "source": [
    "champion_win_rates = pd.DataFrame()\n",
    "for champion_id in champion_id_list:\n",
    "    champion_win_rates = champion_win_rates.append([[champion_id, \n",
    "                                                     champion_win_rate(champion_id)[0],\n",
    "                                                     champion_win_rate(champion_id)[1],\n",
    "                                                     champion_win_rate(champion_id)[2]]])\n",
    "champion_win_rates.columns = ['champion_id', 'champion_win_rate', 'game_count', 'champion_win_count']\n",
    "champion_win_rates.reset_index(inplace=True)\n",
    "del champion_win_rates['index']"
   ]
  },
  {
   "cell_type": "code",
   "execution_count": 10,
   "metadata": {
    "scrolled": true
   },
   "outputs": [
    {
     "data": {
      "text/html": [
       "<div>\n",
       "<style scoped>\n",
       "    .dataframe tbody tr th:only-of-type {\n",
       "        vertical-align: middle;\n",
       "    }\n",
       "\n",
       "    .dataframe tbody tr th {\n",
       "        vertical-align: top;\n",
       "    }\n",
       "\n",
       "    .dataframe thead th {\n",
       "        text-align: right;\n",
       "    }\n",
       "</style>\n",
       "<table border=\"1\" class=\"dataframe\">\n",
       "  <thead>\n",
       "    <tr style=\"text-align: right;\">\n",
       "      <th></th>\n",
       "      <th>champion_id</th>\n",
       "      <th>champion_win_rate</th>\n",
       "      <th>game_count</th>\n",
       "      <th>champion_win_count</th>\n",
       "    </tr>\n",
       "  </thead>\n",
       "  <tbody>\n",
       "    <tr>\n",
       "      <th>137</th>\n",
       "      <td>420</td>\n",
       "      <td>1.0000</td>\n",
       "      <td>3</td>\n",
       "      <td>3</td>\n",
       "    </tr>\n",
       "    <tr>\n",
       "      <th>44</th>\n",
       "      <td>45</td>\n",
       "      <td>0.7500</td>\n",
       "      <td>4</td>\n",
       "      <td>3</td>\n",
       "    </tr>\n",
       "    <tr>\n",
       "      <th>33</th>\n",
       "      <td>34</td>\n",
       "      <td>0.7143</td>\n",
       "      <td>7</td>\n",
       "      <td>5</td>\n",
       "    </tr>\n",
       "    <tr>\n",
       "      <th>84</th>\n",
       "      <td>101</td>\n",
       "      <td>0.7000</td>\n",
       "      <td>10</td>\n",
       "      <td>7</td>\n",
       "    </tr>\n",
       "    <tr>\n",
       "      <th>51</th>\n",
       "      <td>56</td>\n",
       "      <td>0.6290</td>\n",
       "      <td>186</td>\n",
       "      <td>117</td>\n",
       "    </tr>\n",
       "    <tr>\n",
       "      <th>...</th>\n",
       "      <td>...</td>\n",
       "      <td>...</td>\n",
       "      <td>...</td>\n",
       "      <td>...</td>\n",
       "    </tr>\n",
       "    <tr>\n",
       "      <th>32</th>\n",
       "      <td>33</td>\n",
       "      <td>0.2500</td>\n",
       "      <td>12</td>\n",
       "      <td>3</td>\n",
       "    </tr>\n",
       "    <tr>\n",
       "      <th>35</th>\n",
       "      <td>36</td>\n",
       "      <td>0.2500</td>\n",
       "      <td>8</td>\n",
       "      <td>2</td>\n",
       "    </tr>\n",
       "    <tr>\n",
       "      <th>36</th>\n",
       "      <td>37</td>\n",
       "      <td>0.1429</td>\n",
       "      <td>7</td>\n",
       "      <td>1</td>\n",
       "    </tr>\n",
       "    <tr>\n",
       "      <th>16</th>\n",
       "      <td>17</td>\n",
       "      <td>0.0000</td>\n",
       "      <td>2</td>\n",
       "      <td>0</td>\n",
       "    </tr>\n",
       "    <tr>\n",
       "      <th>10</th>\n",
       "      <td>11</td>\n",
       "      <td>0.0000</td>\n",
       "      <td>4</td>\n",
       "      <td>0</td>\n",
       "    </tr>\n",
       "  </tbody>\n",
       "</table>\n",
       "<p>152 rows × 4 columns</p>\n",
       "</div>"
      ],
      "text/plain": [
       "     champion_id  champion_win_rate  game_count  champion_win_count\n",
       "137          420             1.0000           3                   3\n",
       "44            45             0.7500           4                   3\n",
       "33            34             0.7143           7                   5\n",
       "84           101             0.7000          10                   7\n",
       "51            56             0.6290         186                 117\n",
       "..           ...                ...         ...                 ...\n",
       "32            33             0.2500          12                   3\n",
       "35            36             0.2500           8                   2\n",
       "36            37             0.1429           7                   1\n",
       "16            17             0.0000           2                   0\n",
       "10            11             0.0000           4                   0\n",
       "\n",
       "[152 rows x 4 columns]"
      ]
     },
     "execution_count": 10,
     "metadata": {},
     "output_type": "execute_result"
    }
   ],
   "source": [
    "champion_win_rates.sort_values('champion_win_rate', ascending=False)"
   ]
  },
  {
   "cell_type": "markdown",
   "metadata": {},
   "source": [
    "# Evidence( = P(E))\n",
    "## P(E) = P(E|H) P(H) + P(E|~ H) P(~ H)\n",
    "\n"
   ]
  },
  {
   "cell_type": "code",
   "execution_count": null,
   "metadata": {},
   "outputs": [],
   "source": []
  }
 ],
 "metadata": {
  "kernelspec": {
   "display_name": "Python 3",
   "language": "python",
   "name": "python3"
  },
  "language_info": {
   "codemirror_mode": {
    "name": "ipython",
    "version": 3
   },
   "file_extension": ".py",
   "mimetype": "text/x-python",
   "name": "python",
   "nbconvert_exporter": "python",
   "pygments_lexer": "ipython3",
   "version": "3.7.7"
  }
 },
 "nbformat": 4,
 "nbformat_minor": 4
}
