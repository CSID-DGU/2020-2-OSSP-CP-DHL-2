{
 "cells": [
  {
   "cell_type": "code",
   "execution_count": null,
   "metadata": {},
   "outputs": [],
   "source": [
    "import requests \n",
    "import json\n",
    "import pandas as pd\n",
    "import numpy as np\n",
    "import matplotlib as mlp\n",
    "import matplotlib.pyplot as plt\n",
    "import seaborn as sns\n",
    "import time\n",
    "import pickle\n",
    "import csv"
   ]
  },
  {
   "cell_type": "code",
   "execution_count": null,
   "metadata": {},
   "outputs": [],
   "source": [
    "DATA_PATH = \"../../data/\""
   ]
  },
  {
   "cell_type": "code",
   "execution_count": null,
   "metadata": {},
   "outputs": [],
   "source": [
    "path = DATA_PATH + \"champion.csv\"\n",
    "reader = csv.reader(open(path))\n",
    "head = next(reader)"
   ]
  },
  {
   "cell_type": "markdown",
   "metadata": {},
   "source": [
    " # 라인별 챔피언 dict 생성 line_dict = {key : champ_str}   쓰는거\n",
    " __0 : TOP__ / __1 : MID__ / __2 : JUNGLE__ / __3 : AD_CARRY__ / __4 : SUPPORT__"
   ]
  },
  {
   "cell_type": "code",
   "execution_count": null,
   "metadata": {},
   "outputs": [],
   "source": [
    "top_dict = {}\n",
    "jungle_dict = {}\n",
    "mid_dict = {}\n",
    "carry_dict = {}\n",
    "sup_dict = {}\n",
    "champ_dict = {}\n",
    "\n",
    "for row in reader:\n",
    "    key = int(row[2]); champ_str = row[1]; line = int(row[3])\n",
    "    champ_dict[key] = champ_str\n",
    "    \n",
    "    if line == 0: top_dict[key] = champ_str\n",
    "    elif line == 1: jungle_dict[key] = champ_str\n",
    "    elif line == 2: mid_dict[key] = champ_str\n",
    "    elif line == 3: carry_dict[key] = champ_str\n",
    "    elif line == 4: sup_dict[key] = champ_str\n",
    "\n",
    "        \n",
    "# with open( \"../../data/pickle/champ_dict\", \"wb\" ) as file:\n",
    "#     pickle.dump(champ_dict, file)\n",
    "# with open( \"../../data/pickle/top_dict\", \"wb\" ) as file:\n",
    "#     pickle.dump(top_dict, file)\n",
    "# with open( \"../../data/pickle/jungle_dict\", \"wb\" ) as file:\n",
    "#     pickle.dump(jungle_dict, file)\n",
    "# with open( \"../../data/pickle/mid_dict\", \"wb\" ) as file:\n",
    "#     pickle.dump(mid_dict, file)\n",
    "# with open( \"../../data/pickle/carry_dict\", \"wb\" ) as file:\n",
    "#     pickle.dump(carry_dict, file)\n",
    "# with open( \"../../data/pickle/sup_dict\", \"wb\" ) as file:\n",
    "#     pickle.dump(sup_dict, file)"
   ]
  },
  {
   "cell_type": "code",
   "execution_count": null,
   "metadata": {},
   "outputs": [],
   "source": [
    "champ_dict"
   ]
  },
  {
   "cell_type": "code",
   "execution_count": null,
   "metadata": {},
   "outputs": [],
   "source": [
    "top_dict"
   ]
  },
  {
   "cell_type": "code",
   "execution_count": null,
   "metadata": {},
   "outputs": [],
   "source": [
    "jungle_dict.values()"
   ]
  },
  {
   "cell_type": "code",
   "execution_count": null,
   "metadata": {},
   "outputs": [],
   "source": [
    "carry_dict.items()"
   ]
  },
  {
   "cell_type": "markdown",
   "metadata": {},
   "source": [
    "# numberWinsChampion"
   ]
  },
  {
   "cell_type": "code",
   "execution_count": null,
   "metadata": {},
   "outputs": [],
   "source": [
    "with open(DATA_PATH + 'pickle/numberWinsChampion.pickle', 'rb') as fr:\n",
    "    numberWinsChampion = pickle.load(fr)\n",
    "numberWinsChampion = pd.DataFrame(numberWinsChampion)\n",
    "numberWinsChampion.fillna(0, inplace=True)\n",
    "numberWinsChampion.head()"
   ]
  },
  {
   "cell_type": "markdown",
   "metadata": {},
   "source": [
    "# 라인별 DF"
   ]
  },
  {
   "cell_type": "code",
   "execution_count": null,
   "metadata": {},
   "outputs": [],
   "source": [
    "top_df = pd.DataFrame({k :v for k, v in numberWinsChampion.items() \n",
    "                       if k in list(top_dict.keys())})\n",
    "jungle_df = pd.DataFrame({k :v for k, v in numberWinsChampion.items() \n",
    "                          if k in list(jungle_dict.keys())})\n",
    "mid_df = pd.DataFrame({k :v for k, v in numberWinsChampion.items() \n",
    "                       if k in list(mid_dict.keys())})\n",
    "carry_df = pd.DataFrame({k :v for k, v in numberWinsChampion.items() \n",
    "                         if k in list(carry_dict.keys())})\n",
    "sup_df = pd.DataFrame({k :v for k, v in numberWinsChampion.items() \n",
    "                       if k in list(sup_dict.keys())})"
   ]
  },
  {
   "cell_type": "code",
   "execution_count": null,
   "metadata": {},
   "outputs": [],
   "source": [
    "top_df.head()"
   ]
  },
  {
   "cell_type": "markdown",
   "metadata": {},
   "source": [
    "# Combinations"
   ]
  },
  {
   "cell_type": "code",
   "execution_count": null,
   "metadata": {},
   "outputs": [],
   "source": [
    "with open(DATA_PATH + 'pickle/numberWinsCombination.pickle', 'rb') as fr:\n",
    "    numberWinsCombination = pickle.load(fr)\n",
    "numberWinsCombination = pd.DataFrame(numberWinsCombination)\n",
    "numberWinsCombination.fillna(0, inplace=True)\n",
    "numberWinsCombination.head()"
   ]
  },
  {
   "cell_type": "code",
   "execution_count": null,
   "metadata": {},
   "outputs": [],
   "source": [
    "with open(DATA_PATH + 'pickle/numberLosesCombination.pickle', 'rb') as fr:\n",
    "    numberLosesCombination = pickle.load(fr)\n",
    "numberLosesCombination = pd.DataFrame(numberLosesCombination)\n",
    "numberLosesCombination.fillna(0, inplace=True)\n",
    "numberLosesCombination.head()"
   ]
  },
  {
   "cell_type": "markdown",
   "metadata": {},
   "source": [
    "# 총 게임횟수 DF\n",
    "- champ_total : 152 x 152\n",
    "\n",
    "- top_total\n",
    "- jungle_total\n",
    "- mid_total\n",
    "- carry_total\n",
    "- sup_total"
   ]
  },
  {
   "cell_type": "code",
   "execution_count": null,
   "metadata": {},
   "outputs": [],
   "source": [
    "def calc_total_match(line_df):\n",
    "    for A in line_df:\n",
    "        for B in line_df:\n",
    "            total = numberWinsChampion[A][B] + numberWinsChampion[B][A]\n",
    "            line_df[A][B] = total          "
   ]
  },
  {
   "cell_type": "code",
   "execution_count": null,
   "metadata": {},
   "outputs": [],
   "source": [
    "top_total = top_df.copy()\n",
    "jungle_total = jungle_df.copy()\n",
    "mid_total = mid_df.copy()\n",
    "carry_total = carry_df.copy()\n",
    "sup_total = sup_df.copy()\n",
    "champ_total = numberWinsChampion.copy()\n",
    "\n",
    "calc_total_match(top_total)\n",
    "calc_total_match(jungle_total)\n",
    "calc_total_match(carry_total)\n",
    "calc_total_match(sup_total)\n",
    "calc_total_match(champ_total)\n",
    "\n",
    "champ_total.describe()"
   ]
  },
  {
   "cell_type": "code",
   "execution_count": null,
   "metadata": {},
   "outputs": [],
   "source": [
    "# champ_nums = 152 \n",
    "# games = []  # 평균 판수를 구하기 위한 리스트\n",
    "# for i in champ_total:\n",
    "#     games.append(round(sum(champ_total[i]) / (champ_nums - 1), 2)) # 자신 vs 151개의 챔프에 대하여\n",
    "# len(games)"
   ]
  },
  {
   "cell_type": "code",
   "execution_count": null,
   "metadata": {},
   "outputs": [],
   "source": [
    "# game_mean = sum(games) / champ_nums"
   ]
  },
  {
   "cell_type": "markdown",
   "metadata": {},
   "source": [
    "# 게임수의 평균은 32게임??\n",
    "## 은 중복값 제거전.."
   ]
  },
  {
   "cell_type": "code",
   "execution_count": null,
   "metadata": {},
   "outputs": [],
   "source": [
    "# game_mean"
   ]
  },
  {
   "cell_type": "code",
   "execution_count": null,
   "metadata": {},
   "outputs": [],
   "source": [
    "# 판수 = []\n",
    "# for i in champ_total:\n",
    "#     for j in champ_total[i].index:\n",
    "#         판수.append(champ_total[i][j])\n",
    "# 총판수 = len(판수) - 152 # 미러전 뺀다"
   ]
  },
  {
   "cell_type": "code",
   "execution_count": null,
   "metadata": {},
   "outputs": [],
   "source": [
    "# round(game_mean, 2) == round(sum(판수) / 총판수, 2)"
   ]
  },
  {
   "cell_type": "code",
   "execution_count": null,
   "metadata": {},
   "outputs": [],
   "source": [
    "# 판수"
   ]
  },
  {
   "cell_type": "code",
   "execution_count": null,
   "metadata": {},
   "outputs": [],
   "source": [
    "s=0\n",
    "for i in range(152):\n",
    "    s += i\n",
    "print(s)"
   ]
  },
  {
   "cell_type": "markdown",
   "metadata": {},
   "source": [
    "# 중복제거후 평균, 표준편차 구하기... => champ_total 에 대하여\n"
   ]
  },
  {
   "cell_type": "code",
   "execution_count": null,
   "metadata": {},
   "outputs": [],
   "source": [
    "columns = [c for c in champ_total]\n",
    "columns.sort()\n",
    "columns\n",
    "rows = columns.copy()\n",
    "\n",
    "t_idx = []\n",
    "for c in columns:\n",
    "    for r in columns:\n",
    "        if not c == r: t_idx.append([c,r])\n",
    "        \n",
    "#t_idx[:152]"
   ]
  },
  {
   "cell_type": "code",
   "execution_count": null,
   "metadata": {},
   "outputs": [],
   "source": [
    "for idx in t_idx:\n",
    "    # A vs B 랑 B vs A 는 같은 값이니 중복값\n",
    "    중복값 = [idx[1], idx[0]]\n",
    "    if 중복값 in t_idx: t_idx.remove(중복값)\n"
   ]
  },
  {
   "cell_type": "markdown",
   "metadata": {},
   "source": [
    "# 11476으로 제거 완료"
   ]
  },
  {
   "cell_type": "code",
   "execution_count": null,
   "metadata": {},
   "outputs": [],
   "source": [
    "len(t_idx) == s"
   ]
  },
  {
   "cell_type": "code",
   "execution_count": null,
   "metadata": {},
   "outputs": [],
   "source": [
    "total_games = []\n",
    "for col, row in t_idx:\n",
    "    total_games.append(champ_total[col][row])\n",
    "len(total_games)\n",
    "#print(total_games)"
   ]
  },
  {
   "cell_type": "markdown",
   "metadata": {},
   "source": [
    "# 평균값과 표준편차를 쉽게 구하기 위해서 pd.Series\n",
    "# 데이터의 50%는 11경기 이하이다.\n",
    "## 같은라인 vs 같은라인, 같은라인 vs 다른라인 / 반으로 봤을때 적당한 값인듯?"
   ]
  },
  {
   "cell_type": "code",
   "execution_count": null,
   "metadata": {},
   "outputs": [],
   "source": [
    "total_games = pd.Series(total_games)\n",
    "total_games.describe()"
   ]
  },
  {
   "cell_type": "markdown",
   "metadata": {},
   "source": [
    "# 각 라인별 데이터 프레임에 대해서 진행"
   ]
  },
  {
   "cell_type": "markdown",
   "metadata": {},
   "source": [
    "## 라인별 인덱스 뽑아내기 ( 중복값 없이 describe 진행을 위해서)"
   ]
  },
  {
   "cell_type": "code",
   "execution_count": null,
   "metadata": {},
   "outputs": [],
   "source": [
    "def 라인index추출(line_total):\n",
    "    columns = [c for c in line_total]\n",
    "    columns.sort()\n",
    "    columns\n",
    "    rows = columns.copy()\n",
    "\n",
    "    t_idx = []\n",
    "    for c in columns:\n",
    "        for r in columns:\n",
    "            if not c == r: t_idx.append([c,r])\n",
    "    \n",
    "    for idx in t_idx:\n",
    "        # A vs B 랑 B vs A 는 같은 값이니 중복값\n",
    "        중복값 = [idx[1], idx[0]]\n",
    "        if 중복값 in t_idx: t_idx.remove(중복값)\n",
    "    \n",
    "    return t_idx"
   ]
  },
  {
   "cell_type": "code",
   "execution_count": null,
   "metadata": {},
   "outputs": [],
   "source": [
    "top_idx = 라인index추출(top_total)\n",
    "jungle_idx = 라인index추출(jungle_total)\n",
    "mid_idx = 라인index추출(mid_total)\n",
    "carry_idx = 라인index추출(carry_total)\n",
    "sup_idx = 라인index추출(sup_total)"
   ]
  },
  {
   "cell_type": "markdown",
   "metadata": {},
   "source": [
    "# 라인별 경기 횟수 Series로 뽑아내기"
   ]
  },
  {
   "cell_type": "code",
   "execution_count": null,
   "metadata": {},
   "outputs": [],
   "source": [
    "def 라인별_경기(line_idx):\n",
    "    line_games = []\n",
    "    for col, row in line_idx:\n",
    "        line_games.append(champ_total[col][row])\n",
    "    return pd.Series(line_games)"
   ]
  },
  {
   "cell_type": "code",
   "execution_count": null,
   "metadata": {},
   "outputs": [],
   "source": [
    "top_games = 라인별_경기(top_idx)\n",
    "jungle_games = 라인별_경기(jungle_idx)\n",
    "mid_games = 라인별_경기(mid_idx)\n",
    "carry_games = 라인별_경기(carry_idx)\n",
    "sup_games = 라인별_경기(sup_idx)"
   ]
  },
  {
   "cell_type": "markdown",
   "metadata": {},
   "source": [
    "## Top"
   ]
  },
  {
   "cell_type": "code",
   "execution_count": null,
   "metadata": {},
   "outputs": [],
   "source": [
    "top_numerical = dict(top_games.describe())\n",
    "top_numerical"
   ]
  },
  {
   "cell_type": "markdown",
   "metadata": {},
   "source": [
    "# Jungle"
   ]
  },
  {
   "cell_type": "code",
   "execution_count": null,
   "metadata": {},
   "outputs": [],
   "source": [
    "jungle_numerical = dict(jungle_games.describe())\n",
    "jungle_numerical"
   ]
  },
  {
   "cell_type": "markdown",
   "metadata": {},
   "source": [
    "## Mid"
   ]
  },
  {
   "cell_type": "code",
   "execution_count": null,
   "metadata": {},
   "outputs": [],
   "source": [
    "mid_numerical = dict(mid_games.describe())\n",
    "mid_numerical"
   ]
  },
  {
   "cell_type": "markdown",
   "metadata": {},
   "source": [
    "## Carry"
   ]
  },
  {
   "cell_type": "code",
   "execution_count": null,
   "metadata": {},
   "outputs": [],
   "source": [
    "carry_numerical = dict(carry_games.describe())\n",
    "carry_numerical"
   ]
  },
  {
   "cell_type": "markdown",
   "metadata": {},
   "source": [
    "## Sup"
   ]
  },
  {
   "cell_type": "code",
   "execution_count": null,
   "metadata": {},
   "outputs": [],
   "source": [
    "sup_numerical = dict(sup_games.describe())\n",
    "sup_numerical"
   ]
  },
  {
   "cell_type": "markdown",
   "metadata": {},
   "source": [
    "# 비율 비교하기\n",
    "# 챔피언 숫자\n",
    "# 챔프별 경기수"
   ]
  },
  {
   "cell_type": "code",
   "execution_count": null,
   "metadata": {},
   "outputs": [],
   "source": [
    "탑_챔피언수 = len(top_dict)\n",
    "정글_챔피언수 = len(jungle_dict)\n",
    "미드_챔피언수 = len(mid_dict)\n",
    "원딜_챔피언수 = len(carry_dict)\n",
    "서폿_챔피언수 = len(sup_dict)\n",
    "\n",
    "# group_names = ['TOP', 'JG', 'MID', 'AD', 'SUP']\n",
    "# group_size = [탑_챔피언수, 정글_챔피언수, 미드_챔피언수, 원딜_챔피언수, 서폿_챔피언수]\n",
    "# plt.pie(group_size, \n",
    "#         labels=group_names,\n",
    "#         autopct='%1.2f%%',\n",
    "#         shadow=True)\n",
    "# plt.title('Champion ratio by line', fontsize=20)\n",
    "# plt.show()"
   ]
  },
  {
   "cell_type": "code",
   "execution_count": null,
   "metadata": {},
   "outputs": [],
   "source": [
    "# group_names = ['TOP', 'JG', 'MID', 'AD', 'SUP']\n",
    "# group_size = [top_games.count(), jungle_games.count(), mid_games.count(), carry_games.count(), sup_games.count()]\n",
    "# plt.pie(group_size, \n",
    "#         labels=group_names,\n",
    "#         autopct='%1.2f%%',\n",
    "#         shadow=True)\n",
    "# plt.title('Match ratio by line', fontsize=20)\n",
    "# plt.show()"
   ]
  },
  {
   "cell_type": "markdown",
   "metadata": {},
   "source": [
    "## Outlier\n",
    "- IQR이란, Interquartile range의 약자로써 Q3 - Q1를 의미한다.\n",
    "\n",
    "- Q3 - Q1: 사분위수의 상위 75% 지점의 값과 하위 25% 지점의 값 차이\n",
    "\n",
    "-  Q1(25 퍼센타일), Q3(75 퍼센타일)"
   ]
  },
  {
   "cell_type": "code",
   "execution_count": null,
   "metadata": {},
   "outputs": [],
   "source": [
    "from collections import Counter \n",
    "\n",
    "def detect_outliers(line_df):\n",
    "    if line_df == 'top': numerical = top_numerical # top_numerical\n",
    "    elif line_df == 'jungle': numerical = jungle_numerical # jungle_numerical\n",
    "    elif line_df == 'mid': numerical = mid_numerical # mid_numerical\n",
    "    elif line_df == 'carry': numerical = carry_numerical # carry_numerical\n",
    "    elif line_df == 'sup': numerical = sup_numerical # sup_numerical        \n",
    "    \n",
    "    outlier_indices = []\n",
    "    Q1 = numerical[\"25%\"] \n",
    "    Q3 = numerical[\"75%\"] \n",
    "    IQR = Q3 - Q1 \n",
    "    outlier_step = 1.5 * IQR\n",
    "    \n",
    "    minimum = Q1 - outlier_step\n",
    "    maximum = Q3 + outlier_step\n",
    "    \n",
    "    return minimum, maximum"
   ]
  },
  {
   "cell_type": "code",
   "execution_count": null,
   "metadata": {},
   "outputs": [],
   "source": [
    "top_valid_range = detect_outliers('top')\n",
    "jungle_valid_range =detect_outliers('jungle')\n",
    "mid_valid_range = detect_outliers('mid')\n",
    "carry_valid_range = detect_outliers('carry')\n",
    "sup_valid_range = detect_outliers('sup')"
   ]
  },
  {
   "cell_type": "code",
   "execution_count": null,
   "metadata": {},
   "outputs": [],
   "source": [
    "print('-------- Valid Range --------')\n",
    "print(f'''{'top':<6} : {top_valid_range[0]} ~ {top_valid_range[1]}\\n\n",
    "{'jungle':<6} : {jungle_valid_range[0]} ~ {jungle_valid_range[1]}\\n\n",
    "{'mid':<6} : {mid_valid_range[0]} ~ {mid_valid_range[1]}\\n\n",
    "{'carry':<6} : {carry_valid_range[0]} ~ {carry_valid_range[1]}\\n\n",
    "{'sup':<6} : {sup_valid_range[0]} ~ {sup_valid_range[1]}''')"
   ]
  },
  {
   "cell_type": "markdown",
   "metadata": {},
   "source": [
    "#  승률 = 이긴판 / (이긴판 + 진판) "
   ]
  },
  {
   "cell_type": "code",
   "execution_count": null,
   "metadata": {},
   "outputs": [],
   "source": [
    "champ_total.head()"
   ]
  },
  {
   "cell_type": "code",
   "execution_count": null,
   "metadata": {},
   "outputs": [],
   "source": [
    "numberWinsChampion.head()"
   ]
  },
  {
   "cell_type": "markdown",
   "metadata": {},
   "source": [
    "# 이상치가 마이너스여서 각 라인 mean 값을 기준으로함"
   ]
  },
  {
   "cell_type": "code",
   "execution_count": null,
   "metadata": {},
   "outputs": [],
   "source": [
    "def 기준치_계산():\n",
    "    return int(sorted([top_games.mean(),jungle_games.mean(),mid_games.mean(),carry_games.mean(),sup_games.mean()])[0])\n",
    "\n",
    "def win_rate(df):\n",
    "    for 챔프 in df:\n",
    "        기준치 = 기준치_계산()\n",
    "        for 상대 in df[챔프][:].index:\n",
    "            if champ_total[챔프][상대] < 기준치: 승률 = 0.5 # 기준치 보다 작으면 신뢰도 낮음 -> 승률은 50% (승리 or 패배)\n",
    "            else: 승률 =  numberWinsChampion[챔프][상대] / champ_total[챔프][상대]\n",
    "            df[챔프][상대] = round(승률, 4)\n",
    "            \n",
    "    return df"
   ]
  },
  {
   "cell_type": "markdown",
   "metadata": {},
   "source": [
    "# A vs B 승률"
   ]
  },
  {
   "cell_type": "code",
   "execution_count": null,
   "metadata": {},
   "outputs": [],
   "source": [
    "total_win_rate = win_rate(champ_total)\n",
    "total_win_rate\n",
    "\n",
    "with open( \"../../data/pickle/total_win_rate\", \"wb\" ) as file:\n",
    "    pickle.dump(total_win_rate, file)"
   ]
  },
  {
   "cell_type": "markdown",
   "metadata": {},
   "source": [
    "# A 와 B가 같은 팀일때 승률"
   ]
  },
  {
   "cell_type": "code",
   "execution_count": null,
   "metadata": {},
   "outputs": [],
   "source": [
    "comb_win_rate = (numberWinsCombination + numberLosesCombination)\n",
    "for i in comb_win_rate:\n",
    "    기준치 = 20\n",
    "    for j in comb_win_rate[i][:].index:\n",
    "        if comb_win_rate[i][j] < 기준치: 승률 = 0.5\n",
    "        else: 승률 = numberWinsCombination[i][j] / comb_win_rate[i][j]\n",
    "        comb_win_rate[i][j] = round(승률, 4)\n",
    "comb_win_rate\n",
    "\n",
    "with open( \"../../data/pickle/comb_win_rate\", \"wb\" ) as file:\n",
    "    pickle.dump(comb_win_rate, file)"
   ]
  },
  {
   "cell_type": "code",
   "execution_count": null,
   "metadata": {},
   "outputs": [],
   "source": [
    "top_df = total_win_rate.loc[:, list(top_dict.keys())]\n",
    "jungle_df = total_win_rate.loc[:, list(jungle_dict.keys())]\n",
    "mid_df = total_win_rate.loc[:, list(mid_dict.keys())]\n",
    "carry_df = total_win_rate.loc[:, list(carry_dict.keys())]\n",
    "sup_df = total_win_rate.loc[:, list(sup_dict.keys())]"
   ]
  },
  {
   "cell_type": "markdown",
   "metadata": {},
   "source": [
    "# 판별식\n",
    "아군, 적군 = [[고유값, 포지션값], [고유값, 포지션값], [고유값, 포지션값], [고유값, 포지션값], [고유값, 포지션값]]\n",
    "\n",
    "ex)  266은 아트록스임  top =  0 \n",
    "아군리스트 = [[266, 0], [0, 0]]"
   ]
  },
  {
   "cell_type": "code",
   "execution_count": null,
   "metadata": {},
   "outputs": [],
   "source": [
    "# 아군, 적군 = [[고유값, 포지션], [고유값, 포지션], [고유값, 포지션], [고유값, 포지션], [고유값, 포지션]]\n",
    "# 리스트 값에는 챔피언 고유번호 들어감 0이면 선택 x \n",
    "# [266, 0, 0, 0, 0, 0]\n",
    "\n",
    "banlist= []\n",
    "\n",
    "team1 = [[37, 4], [0, 0], [0, 0], [0, 0], [0, 0]]\n",
    "team2 = [[-1, -1], [0, -1], [0, -1], [0, -1], [0, -1]]\n",
    "# 0 1 2 3 4\n",
    "positions = [top_dict, jungle_dict, mid_dict, carry_dict, sup_dict]\n",
    "\n",
    "def discriminant(my_position):\n",
    "    추천갯수 = 10\n",
    "    enemy_position = my_position # 적 포지션 = 내 포지션\n",
    "    position_dict = {}\n",
    "    if my_position == 0:\n",
    "        comb_position = 1 # 탑 + 정글\n",
    "        position_dict = positions[0]\n",
    "\n",
    "    elif my_position == 1: \n",
    "        comb_position = 2 # 정글 + 미드\n",
    "        position_dict = positions[1]\n",
    "        \n",
    "    elif my_position == 2: \n",
    "        comb_position = 1 # 미드 + 정글\n",
    "        position_dict = positions[2]\n",
    "        \n",
    "    elif my_position == 3: \n",
    "        comb_position = 4 # 원딜 + 서폿\n",
    "        position_dict = positions[3]\n",
    "        \n",
    "    elif my_position == 4: \n",
    "        comb_position = 3 # 서폿 + 원딜\n",
    "        position_dict = positions[4]\n",
    "\n",
    "    아군존재, 상대존재 = False, False\n",
    "    아군, 상대 = [], []\n",
    "\n",
    "    #----------------------------------------------------------------------------------------------------\n",
    "    for pick in team1: # 아군 존재\n",
    "        if pick[1] == comb_position: \n",
    "            아군존재 = True\n",
    "            아군 = pick\n",
    "\n",
    "    for pick in team2: # 적군 존재\n",
    "        if pick[1] == enemy_position: \n",
    "            상대존재 = True\n",
    "            상대 = pick\n",
    " #---------------------------------------------------------------------------------------------------------   \n",
    "    if 아군존재 and 상대존재: # 아군o 상대o\n",
    "        아군승률 = dict(comb_win_rate.loc[아군[0]][:])\n",
    "        추천픽리스트1 = []\n",
    "        for k, v in 아군승률.items():\n",
    "            추천픽리스트1.append([k, v])\n",
    "      \n",
    "        상대승률 = dict(total_win_rate.loc[상대[0]][:])\n",
    "        추천픽리스트2 = []\n",
    "        for k, v in 상대승률.items():\n",
    "            추천픽리스트2.append([k, round(1 - v, 4)])\n",
    "        \n",
    "        최종추천 = []\n",
    "        for 픽 in zip(추천픽리스트1, 추천픽리스트2): \n",
    "                최종추천.append([픽[0][0], 픽[0][1]+픽[1][1]])\n",
    "            \n",
    "        최종추천.sort(key=lambda x: x[1], reverse=True)\n",
    "        \n",
    "        리얼최종추천 = []\n",
    "        for 추천픽, 승률 in 최종추천:\n",
    "            if 추천픽 in list(position_dict.keys()):\n",
    "                if 추천픽 != 상대[0]:\n",
    "                    리얼최종추천.append([추천픽, 승률])\n",
    "        \n",
    "        for i in range(len(리얼최종추천)):\n",
    "            if 리얼최종추천[i][0] in banlist:\n",
    "                del 리얼최종추천[리얼최종추천.index(i)]\n",
    "                \n",
    "        return 리얼최종추천[:5]\n",
    "        \n",
    "    elif not 아군존재 and 상대존재: # 아군x 상대o\n",
    "        상대승률 = dict(total_win_rate.loc[상대[0]][:])\n",
    "        상대승률 = sorted(상대승률.items(), key=lambda x: x[1])\n",
    "        추천픽리스트 = []\n",
    "        n = 0\n",
    "        for 추천픽, 승률 in 상대승률:\n",
    "            if n == 추천갯수: # 10개 까지 추천해줌\n",
    "                break\n",
    "            if 추천픽 in list(position_dict.keys()):\n",
    "                추천픽리스트.append([추천픽, 1-승률])\n",
    "                n += 1\n",
    "        \n",
    "        for i in range(len(추천픽리스트)):\n",
    "            if 추천픽리스트[i][0] in banlist:\n",
    "                del 추천픽리스트[추천픽리스트.index(i)]\n",
    "                \n",
    "        return 추천픽리스트[:5] # 그중에 상위 5개만 출력\n",
    "    \n",
    "    elif 아군존재 and not 상대존재: # 아군o 상대x \n",
    "        아군승률 = dict(comb_win_rate.loc[아군[0]][:])\n",
    "        아군승률 = sorted(아군승률.items(), key=lambda x: x[1], reverse=True)\n",
    "        추천픽리스트 = []\n",
    "        n = 0\n",
    "        for 추천픽, 승률 in 아군승률:\n",
    "            if n == 추천갯수:\n",
    "                break\n",
    "            if 추천픽 in list(position_dict.keys()):\n",
    "                추천픽리스트.append([추천픽, 승률])\n",
    "                n += 1       \n",
    "        for i in range(len(추천픽리스트)):\n",
    "            if 추천픽리스트[i][0] in banlist:\n",
    "                del 추천픽리스트[추천픽리스트.index(i)]\n",
    "            \n",
    "        return 추천픽리스트[:5]\n",
    "        \n",
    "    elif not (아군존재 and 상대존재): # 아군x 상대x\n",
    "        print('원하는 챔피언을 선택하세요 ')"
   ]
  },
  {
   "cell_type": "code",
   "execution_count": null,
   "metadata": {},
   "outputs": [],
   "source": [
    "discriminant(3)"
   ]
  },
  {
   "cell_type": "code",
   "execution_count": null,
   "metadata": {},
   "outputs": [],
   "source": [
    "test = pd.read_csv('champion.csv')"
   ]
  },
  {
   "cell_type": "markdown",
   "metadata": {},
   "source": [
    "# dict 새로 만들기"
   ]
  },
  {
   "cell_type": "code",
   "execution_count": null,
   "metadata": {},
   "outputs": [],
   "source": [
    "champ = {}"
   ]
  },
  {
   "cell_type": "code",
   "execution_count": null,
   "metadata": {},
   "outputs": [],
   "source": [
    "champ['아트록스'] = 266\n",
    "champ['아리'] = 103\n",
    "champ['아칼리'] = 84\n",
    "champ['알리스타'] = 12\n",
    "champ['아무무'] = 32\n",
    "champ['애니비아'] = 34\n",
    "champ['애니'] = 1\n",
    "champ['아펠리오스'] = 523\n",
    "champ['애쉬'] = 22\n",
    "champ['아우렐리온 솔'] = 136\n",
    "champ['아지르'] = 268\n",
    "champ['바드'] = 432\n",
    "champ['블리츠크랭크'] = 53\n",
    "champ['브랜드'] = 63\n",
    "champ['브라움'] = 201\n",
    "champ['케이틀린'] = 51\n",
    "champ['카밀'] = 164\n",
    "champ['카시오페아'] = 69\n",
    "champ['초가스'] = 31\n",
    "champ['코르키'] = 42\n",
    "champ['다리우스'] = 122\n",
    "champ['다이애나'] = 131\n",
    "champ['문도 박사'] = 36\n",
    "champ['드레이븐'] = 119\n",
    "champ['에코'] = 245\n",
    "champ['엘리스'] = 60\n",
    "champ['이블린'] = 28\n",
    "champ['이즈리얼'] = 81\n",
    "champ['피들스틱'] = 9\n",
    "champ['피오라'] = 114\n",
    "champ['피즈'] = 105\n",
    "champ['갈리오'] = 3\n",
    "champ['갱플랭크'] = 41\n",
    "champ['가렌'] = 86\n",
    "champ['나르'] = 150\n",
    "champ['그라가스'] = 79\n",
    "champ['그레이브즈'] = 104\n",
    "champ['헤카림'] = 120\n",
    "champ['하이머딩거'] = 74\n",
    "champ['일라오이'] = 420\n",
    "champ['이렐리아'] = 39\n",
    "champ['아이번'] = 427\n",
    "champ['잔나'] = 40\n",
    "champ['자르반 4세'] = 59\n",
    "champ['잭스'] = 24\n",
    "champ['제이스'] = 126\n",
    "champ['진'] = 202\n",
    "champ['징크스'] = 222\n",
    "champ['카이사'] = 145\n",
    "champ['칼리스타'] = 429\n",
    "champ['카르마'] = 43\n",
    "champ['카서스'] = 30\n",
    "champ['카사딘'] = 38\n",
    "champ['카타리나'] = 55\n",
    "champ['케일'] = 10\n",
    "champ['케인'] = 141\n",
    "champ['케넨'] = 85\n",
    "champ['카직스'] = 121\n",
    "champ['킨드레드'] = 203\n",
    "champ['클레드'] = 240\n",
    "champ['코그모'] = 96\n",
    "champ['르블랑'] = 7\n",
    "champ['리 신'] = 64\n",
    "champ['레오나'] = 89\n",
    "champ['릴리아'] = 876\n",
    "champ['리산드라'] = 127\n",
    "champ['루시안'] = 236\n",
    "champ['룰루'] = 117\n",
    "champ['럭스'] = 99\n",
    "champ['말파이트'] = 54\n",
    "champ['말자하'] = 90\n",
    "champ['마오카이'] = 57\n",
    "champ['마스터 이'] = 11\n",
    "champ['미스 포츈'] = 21\n",
    "champ['오공'] = 62\n",
    "champ['모데카이저'] = 82\n",
    "champ['모르가나'] = 25\n",
    "champ['나미'] = 267\n",
    "champ['나서스'] = 75\n",
    "champ['노틸러스'] = 111\n",
    "champ['니코'] = 518\n",
    "champ['니달리'] = 76\n",
    "champ['녹턴'] = 56\n",
    "champ['누누'] = 20\n",
    "champ['올라프'] = 2\n",
    "champ['오리아나'] = 61\n",
    "champ['오른'] = 516\n",
    "champ['판테온'] = 80\n",
    "champ['뽀삐'] = 78\n",
    "champ['파이크'] = 555\n",
    "champ['키아나'] = 246\n",
    "champ['퀸'] = 133\n",
    "champ['라칸'] = 497\n",
    "champ['람머스'] = 33\n",
    "champ['렉사이'] = 421\n",
    "champ['레넥톤'] = 58\n",
    "champ['렝가'] = 107\n",
    "champ['리븐'] = 92\n",
    "champ['럼블'] = 68\n",
    "champ['라이즈'] = 13\n",
    "champ['사미라'] = 360\n",
    "champ['세주아니'] = 113\n",
    "champ['세나'] = 235\n",
    "champ['세라핀'] = 147\n",
    "champ['세트'] = 875\n",
    "champ['샤코'] = 35\n",
    "champ['쉔'] = 98\n",
    "champ['쉬바나'] = 102\n",
    "champ['신지드'] = 27\n",
    "champ['사이온'] = 14\n",
    "champ['시비르'] = 15\n",
    "champ['스카너'] = 72\n",
    "champ['소나'] = 37\n",
    "champ['소라카'] = 16\n",
    "champ['스웨인'] = 50\n",
    "champ['사일러스'] = 517\n",
    "champ['신드라'] = 134\n",
    "champ['탐켄치'] = 223\n",
    "champ['탈리야'] = 163\n",
    "champ['탈론'] = 91\n",
    "champ['타릭'] = 44\n",
    "champ['티모'] = 17\n",
    "champ['쓰레쉬'] = 412\n",
    "champ['트리스타나'] = 18\n",
    "champ['트런들'] = 48\n",
    "champ['트린다미아'] = 23\n",
    "champ['트위스티드 페이트'] = 4\n",
    "champ['트위치'] = 29\n",
    "champ['우디르'] = 77\n",
    "champ['우르곳'] = 6\n",
    "champ['바루스'] = 110\n",
    "champ['베인'] = 67\n",
    "champ['베이가'] = 45\n",
    "champ['벨코즈'] = 161\n",
    "champ['바이'] = 254\n",
    "champ['빅토르'] = 112\n",
    "champ['블라디미르'] = 8\n",
    "champ['볼리베어'] = 106\n",
    "champ['워윅'] = 19\n",
    "champ['자야'] = 498\n",
    "champ['제라스'] = 101\n",
    "champ['신 짜오'] = 5\n",
    "champ['야스오'] = 157\n",
    "champ['요네'] = 777\n",
    "champ['요릭'] = 83\n",
    "champ['유미'] = 350\n",
    "champ['자크'] = 154\n",
    "champ['제드'] = 238\n",
    "champ['직스'] = 115\n",
    "champ['질리언'] = 26\n",
    "champ['조이'] = 142\n",
    "champ['자이라'] = 143"
   ]
  },
  {
   "cell_type": "code",
   "execution_count": null,
   "metadata": {},
   "outputs": [],
   "source": [
    "with open('../../data/pickle/champ_test','wb') as fw:\n",
    "    pickle.dump(champ, fw)"
   ]
  }
 ],
 "metadata": {
  "kernelspec": {
   "display_name": "Python 3",
   "language": "python",
   "name": "python3"
  },
  "language_info": {
   "codemirror_mode": {
    "name": "ipython",
    "version": 3
   },
   "file_extension": ".py",
   "mimetype": "text/x-python",
   "name": "python",
   "nbconvert_exporter": "python",
   "pygments_lexer": "ipython3",
   "version": "3.7.7"
  }
 },
 "nbformat": 4,
 "nbformat_minor": 4
}
