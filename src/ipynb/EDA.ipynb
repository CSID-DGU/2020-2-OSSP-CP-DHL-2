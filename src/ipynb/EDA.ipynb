{
 "cells": [
  {
   "cell_type": "code",
   "execution_count": 1,
   "metadata": {},
   "outputs": [],
   "source": [
    "import requests \n",
    "import json\n",
    "import pandas as pd\n",
    "import numpy as np\n",
    "import matplotlib as mlp\n",
    "import matplotlib.pyplot as plt\n",
    "import seaborn as sns\n",
    "import time\n",
    "import pickle\n",
    "import csv"
   ]
  },
  {
   "cell_type": "code",
   "execution_count": 2,
   "metadata": {},
   "outputs": [],
   "source": [
    "DATA_PATH = \"../../data/\""
   ]
  },
  {
   "cell_type": "code",
   "execution_count": 3,
   "metadata": {},
   "outputs": [],
   "source": [
    "path = DATA_PATH + \"champion.csv\"\n",
    "reader = csv.reader(open(path))\n",
    "head = next(reader)"
   ]
  },
  {
   "cell_type": "markdown",
   "metadata": {},
   "source": [
    " # 라인별 챔피언 dict 생성 line_dict = {key : champ_str}\n",
    " __0 : TOP__ / __1 : MID__ / __2 : JUNGLE__ / __3 : AD_CARRY__ / __4 : SUPPORT__"
   ]
  },
  {
   "cell_type": "code",
   "execution_count": 4,
   "metadata": {},
   "outputs": [
    {
     "name": "stdout",
     "output_type": "stream",
     "text": [
      "['0', 'Aatrox', '266', '0']\n",
      "['1', 'Ahri', '103', '2']\n",
      "['2', 'Akali', '84', '2']\n",
      "['3', 'Alistar', '12', '4']\n",
      "['4', 'Amumu', '32', '1']\n",
      "['5', 'Anivia', '34', '2']\n",
      "['6', 'Annie', '1', '4']\n",
      "['7', 'Aphelios', '523', '3']\n",
      "['8', 'Ashe', '22', '3']\n",
      "['9', 'AurelionSol', '136', '2']\n",
      "['10', 'Azir', '268', '2']\n",
      "['11', 'Bard', '432', '4']\n",
      "['12', 'Blitzcrank', '53', '4']\n",
      "['13', 'Brand', '63', '4']\n",
      "['14', 'Braum', '201', '4']\n",
      "['15', 'Caitlyn', '51', '3']\n",
      "['16', 'Camille', '164', '0']\n",
      "['17', 'Cassiopeia', '69', '2']\n",
      "['18', 'Chogath', '31', '0']\n",
      "['19', 'Corki', '42', '2']\n",
      "['20', 'Darius', '122', '0']\n",
      "['21', 'Diana', '131', '2']\n",
      "['22', 'DrMundo', '36', '0']\n",
      "['23', 'Draven', '119', '3']\n",
      "['24', 'Ekko', '245', '1']\n",
      "['25', 'Elise', '60', '1']\n",
      "['26', 'Evelynn', '28', '1']\n",
      "['27', 'Ezreal', '81', '3']\n",
      "['28', 'Fiddlesticks', '9', '1']\n",
      "['29', 'Fiora', '114', '0']\n",
      "['30', 'Fizz', '105', '2']\n",
      "['31', 'Galio', '3', '2']\n",
      "['32', 'Gangplank', '41', '0']\n",
      "['33', 'Garen', '86', '0']\n",
      "['34', 'Gnar', '150', '0']\n",
      "['35', 'Gragas', '79', '1']\n",
      "['36', 'Graves', '104', '1']\n",
      "['37', 'Hecarim', '120', '1']\n",
      "['38', 'Heimerdinger', '74', '0']\n",
      "['39', 'Illaoi', '420', '0']\n",
      "['40', 'Irelia', '39', '0']\n",
      "['41', 'Ivern', '427', '1']\n",
      "['42', 'Janna', '40', '4']\n",
      "['43', 'JarvanIV', '59', '1']\n",
      "['44', 'Jax', '24', '0']\n",
      "['45', 'Jayce', '126', '0']\n",
      "['46', 'Jhin', '202', '3']\n",
      "['47', 'Jinx', '222', '3']\n",
      "['48', 'Kaisa', '145', '3']\n",
      "['49', 'Kalista', '429', '3']\n",
      "['50', 'Karma', '43', '4']\n",
      "['51', 'Karthus', '30', '1']\n",
      "['52', 'Kassadin', '38', '2']\n",
      "['53', 'Katarina', '55', '2']\n",
      "['54', 'Kayle', '10', '0']\n",
      "['55', 'Kayn', '141', '1']\n",
      "['56', 'Kennen', '85', '0']\n",
      "['57', 'Khazix', '121', '1']\n",
      "['58', 'Kindred', '203', '1']\n",
      "['59', 'Kled', '240', '0']\n",
      "['60', 'KogMaw', '96', '3']\n",
      "['61', 'Leblanc', '7', '2']\n",
      "['62', 'LeeSin', '64', '1']\n",
      "['63', 'Leona', '89', '4']\n",
      "['64', 'Lillia', '876', '1']\n",
      "['65', 'Lissandra', '127', '2']\n",
      "['66', 'Lucian', '236', '3']\n",
      "['67', 'Lulu', '117', '4']\n",
      "['68', 'Lux', '99', '4']\n",
      "['69', 'Malphite', '54', '0']\n",
      "['70', 'Malzahar', '90', '2']\n",
      "['71', 'Maokai', '57', '4']\n",
      "['72', 'MasterYi', '11', '1']\n",
      "['73', 'MissFortune', '21', '3']\n",
      "['74', 'MonkeyKing', '62', '0']\n",
      "['75', 'Mordekaiser', '82', '0']\n",
      "['76', 'Morgana', '25', '4']\n",
      "['77', 'Nami', '267', '4']\n",
      "['78', 'Nasus', '75', '0']\n",
      "['79', 'Nautilus', '111', '4']\n",
      "['80', 'Neeko', '518', '4']\n",
      "['81', 'Nidalee', '76', '1']\n",
      "['82', 'Nocturne', '56', '1']\n",
      "['83', 'Nunu', '20', '1']\n",
      "['84', 'Olaf', '2', '1']\n",
      "['85', 'Orianna', '61', '2']\n",
      "['86', 'Ornn', '516', '0']\n",
      "['87', 'Pantheon', '80', '4']\n",
      "['88', 'Poppy', '78', '0']\n",
      "['89', 'Pyke', '555', '4']\n",
      "['90', 'Qiyana', '246', '2']\n",
      "['91', 'Quinn', '133', '0']\n",
      "['92', 'Rakan', '497', '4']\n",
      "['93', 'Rammus', '33', '1']\n",
      "['94', 'RekSai', '421', '1']\n",
      "['95', 'Renekton', '58', '0']\n",
      "['96', 'Rengar', '107', '0']\n",
      "['97', 'Riven', '92', '0']\n",
      "['98', 'Rumble', '68', '0']\n",
      "['99', 'Ryze', '13', '0']\n",
      "['100', 'Samira', '360', '3']\n",
      "['101', 'Sejuani', '113', '1']\n",
      "['102', 'Senna', '235', '4']\n",
      "['103', 'Seraphine', '147', '4']\n",
      "['104', 'Sett', '875', '0']\n",
      "['105', 'Shaco', '35', '1']\n",
      "['106', 'Shen', '98', '0']\n",
      "['107', 'Shyvana', '102', '1']\n",
      "['108', 'Singed', '27', '0']\n",
      "['109', 'Sion', '14', '0']\n",
      "['110', 'Sivir', '15', '3']\n",
      "['111', 'Skarner', '72', '0']\n",
      "['112', 'Sona', '37', '4']\n",
      "['113', 'Soraka', '16', '4']\n",
      "['114', 'Swain', '50', '4']\n",
      "['115', 'Sylas', '517', '2']\n",
      "['116', 'Syndra', '134', '2']\n",
      "['117', 'TahmKench', '223', '4']\n",
      "['118', 'Taliyah', '163', '1']\n",
      "['119', 'Talon', '91', '2']\n",
      "['120', 'Taric', '44', '4']\n",
      "['121', 'Teemo', '17', '0']\n",
      "['122', 'Thresh', '412', '4']\n",
      "['123', 'Tristana', '18', '3']\n",
      "['124', 'Trundle', '48', '1']\n",
      "['125', 'Tryndamere', '23', '0']\n",
      "['126', 'TwistedFate', '4', '2']\n",
      "['127', 'Twitch', '29', '3']\n",
      "['128', 'Udyr', '77', '1']\n",
      "['129', 'Urgot', '6', '0']\n",
      "['130', 'Varus', '110', '3']\n",
      "['131', 'Vayne', '67', '3']\n",
      "['132', 'Veigar', '45', '2']\n",
      "['133', 'Velkoz', '161', '4']\n",
      "['134', 'Vi', '254', '1']\n",
      "['135', 'Viktor', '112', '2']\n",
      "['136', 'Vladimir', '8', '0']\n",
      "['137', 'Volibear', '106', '0']\n",
      "['138', 'Warwick', '19', '1']\n",
      "['139', 'Xayah', '498', '3']\n",
      "['140', 'Xerath', '101', '2']\n",
      "['141', 'XinZhao', '5', '1']\n",
      "['142', 'Yasuo', '157', '2']\n",
      "['143', 'Yone', '777', '2']\n",
      "['144', 'Yorick', '83', '0']\n",
      "['145', 'Yuumi', '350', '4']\n",
      "['146', 'Zac', '154', '1']\n",
      "['147', 'Zed', '238', '2']\n",
      "['148', 'Ziggs', '115', '2']\n",
      "['149', 'Zilean', '26', '4']\n",
      "['150', 'Zoe', '142', '2']\n",
      "['151', 'Zyra', '143', '4']\n"
     ]
    }
   ],
   "source": [
    "top_dict = {}\n",
    "jungle_dict = {}\n",
    "mid_dict = {}\n",
    "carry_dict = {}\n",
    "sup_dict = {}\n",
    "\n",
    "for row in reader:\n",
    "    print(row)\n",
    "    key = int(row[2]); champ_str = row[1]; line = int(row[3])\n",
    "    if line == 0: top_dict[key] = champ_str\n",
    "    elif line == 1: jungle_dict[key] = champ_str\n",
    "    elif line == 2: mid_dict[key] = champ_str\n",
    "    elif line == 3: carry_dict[key] = champ_str\n",
    "    elif line == 4: sup_dict[key] = champ_str"
   ]
  },
  {
   "cell_type": "code",
   "execution_count": 5,
   "metadata": {},
   "outputs": [
    {
     "data": {
      "text/plain": [
       "dict_values(['Aatrox', 'Camille', 'Chogath', 'Darius', 'DrMundo', 'Fiora', 'Gangplank', 'Garen', 'Gnar', 'Heimerdinger', 'Illaoi', 'Irelia', 'Jax', 'Jayce', 'Kayle', 'Kennen', 'Kled', 'Malphite', 'MonkeyKing', 'Mordekaiser', 'Nasus', 'Ornn', 'Poppy', 'Quinn', 'Renekton', 'Rengar', 'Riven', 'Rumble', 'Ryze', 'Sett', 'Shen', 'Singed', 'Sion', 'Skarner', 'Teemo', 'Tryndamere', 'Urgot', 'Vladimir', 'Volibear', 'Yorick'])"
      ]
     },
     "execution_count": 5,
     "metadata": {},
     "output_type": "execute_result"
    }
   ],
   "source": [
    "top_dict.values()"
   ]
  },
  {
   "cell_type": "code",
   "execution_count": 6,
   "metadata": {},
   "outputs": [
    {
     "data": {
      "text/plain": [
       "dict_values(['Amumu', 'Ekko', 'Elise', 'Evelynn', 'Fiddlesticks', 'Gragas', 'Graves', 'Hecarim', 'Ivern', 'JarvanIV', 'Karthus', 'Kayn', 'Khazix', 'Kindred', 'LeeSin', 'Lillia', 'MasterYi', 'Nidalee', 'Nocturne', 'Nunu', 'Olaf', 'Rammus', 'RekSai', 'Sejuani', 'Shaco', 'Shyvana', 'Taliyah', 'Trundle', 'Udyr', 'Vi', 'Warwick', 'XinZhao', 'Zac'])"
      ]
     },
     "execution_count": 6,
     "metadata": {},
     "output_type": "execute_result"
    }
   ],
   "source": [
    "jungle_dict.values()"
   ]
  },
  {
   "cell_type": "code",
   "execution_count": 7,
   "metadata": {},
   "outputs": [
    {
     "data": {
      "text/plain": [
       "dict_items([(523, 'Aphelios'), (22, 'Ashe'), (51, 'Caitlyn'), (119, 'Draven'), (81, 'Ezreal'), (202, 'Jhin'), (222, 'Jinx'), (145, 'Kaisa'), (429, 'Kalista'), (96, 'KogMaw'), (236, 'Lucian'), (21, 'MissFortune'), (360, 'Samira'), (15, 'Sivir'), (18, 'Tristana'), (29, 'Twitch'), (110, 'Varus'), (67, 'Vayne'), (498, 'Xayah')])"
      ]
     },
     "execution_count": 7,
     "metadata": {},
     "output_type": "execute_result"
    }
   ],
   "source": [
    "carry_dict.items()"
   ]
  },
  {
   "cell_type": "markdown",
   "metadata": {},
   "source": [
    "# numberWinsChampion"
   ]
  },
  {
   "cell_type": "code",
   "execution_count": 8,
   "metadata": {},
   "outputs": [
    {
     "data": {
      "text/html": [
       "<div>\n",
       "<style scoped>\n",
       "    .dataframe tbody tr th:only-of-type {\n",
       "        vertical-align: middle;\n",
       "    }\n",
       "\n",
       "    .dataframe tbody tr th {\n",
       "        vertical-align: top;\n",
       "    }\n",
       "\n",
       "    .dataframe thead th {\n",
       "        text-align: right;\n",
       "    }\n",
       "</style>\n",
       "<table border=\"1\" class=\"dataframe\">\n",
       "  <thead>\n",
       "    <tr style=\"text-align: right;\">\n",
       "      <th></th>\n",
       "      <th>266</th>\n",
       "      <th>103</th>\n",
       "      <th>84</th>\n",
       "      <th>12</th>\n",
       "      <th>32</th>\n",
       "      <th>34</th>\n",
       "      <th>1</th>\n",
       "      <th>523</th>\n",
       "      <th>22</th>\n",
       "      <th>136</th>\n",
       "      <th>...</th>\n",
       "      <th>157</th>\n",
       "      <th>777</th>\n",
       "      <th>83</th>\n",
       "      <th>350</th>\n",
       "      <th>154</th>\n",
       "      <th>238</th>\n",
       "      <th>115</th>\n",
       "      <th>26</th>\n",
       "      <th>142</th>\n",
       "      <th>143</th>\n",
       "    </tr>\n",
       "  </thead>\n",
       "  <tbody>\n",
       "    <tr>\n",
       "      <th>103</th>\n",
       "      <td>12.0</td>\n",
       "      <td>0.0</td>\n",
       "      <td>6.0</td>\n",
       "      <td>6.0</td>\n",
       "      <td>0.0</td>\n",
       "      <td>1.0</td>\n",
       "      <td>0.0</td>\n",
       "      <td>19.0</td>\n",
       "      <td>5.0</td>\n",
       "      <td>0.0</td>\n",
       "      <td>...</td>\n",
       "      <td>8.0</td>\n",
       "      <td>1.0</td>\n",
       "      <td>0.0</td>\n",
       "      <td>6.0</td>\n",
       "      <td>7.0</td>\n",
       "      <td>9.0</td>\n",
       "      <td>2.0</td>\n",
       "      <td>4.0</td>\n",
       "      <td>18.0</td>\n",
       "      <td>0.0</td>\n",
       "    </tr>\n",
       "    <tr>\n",
       "      <th>84</th>\n",
       "      <td>24.0</td>\n",
       "      <td>10.0</td>\n",
       "      <td>0.0</td>\n",
       "      <td>51.0</td>\n",
       "      <td>1.0</td>\n",
       "      <td>2.0</td>\n",
       "      <td>2.0</td>\n",
       "      <td>66.0</td>\n",
       "      <td>74.0</td>\n",
       "      <td>6.0</td>\n",
       "      <td>...</td>\n",
       "      <td>40.0</td>\n",
       "      <td>44.0</td>\n",
       "      <td>2.0</td>\n",
       "      <td>17.0</td>\n",
       "      <td>13.0</td>\n",
       "      <td>19.0</td>\n",
       "      <td>4.0</td>\n",
       "      <td>4.0</td>\n",
       "      <td>52.0</td>\n",
       "      <td>1.0</td>\n",
       "    </tr>\n",
       "    <tr>\n",
       "      <th>12</th>\n",
       "      <td>24.0</td>\n",
       "      <td>16.0</td>\n",
       "      <td>36.0</td>\n",
       "      <td>0.0</td>\n",
       "      <td>0.0</td>\n",
       "      <td>3.0</td>\n",
       "      <td>2.0</td>\n",
       "      <td>47.0</td>\n",
       "      <td>41.0</td>\n",
       "      <td>2.0</td>\n",
       "      <td>...</td>\n",
       "      <td>14.0</td>\n",
       "      <td>14.0</td>\n",
       "      <td>0.0</td>\n",
       "      <td>17.0</td>\n",
       "      <td>6.0</td>\n",
       "      <td>14.0</td>\n",
       "      <td>1.0</td>\n",
       "      <td>8.0</td>\n",
       "      <td>38.0</td>\n",
       "      <td>4.0</td>\n",
       "    </tr>\n",
       "    <tr>\n",
       "      <th>32</th>\n",
       "      <td>0.0</td>\n",
       "      <td>0.0</td>\n",
       "      <td>1.0</td>\n",
       "      <td>1.0</td>\n",
       "      <td>0.0</td>\n",
       "      <td>0.0</td>\n",
       "      <td>0.0</td>\n",
       "      <td>6.0</td>\n",
       "      <td>0.0</td>\n",
       "      <td>0.0</td>\n",
       "      <td>...</td>\n",
       "      <td>0.0</td>\n",
       "      <td>0.0</td>\n",
       "      <td>0.0</td>\n",
       "      <td>0.0</td>\n",
       "      <td>0.0</td>\n",
       "      <td>0.0</td>\n",
       "      <td>1.0</td>\n",
       "      <td>0.0</td>\n",
       "      <td>2.0</td>\n",
       "      <td>0.0</td>\n",
       "    </tr>\n",
       "    <tr>\n",
       "      <th>34</th>\n",
       "      <td>3.0</td>\n",
       "      <td>5.0</td>\n",
       "      <td>4.0</td>\n",
       "      <td>2.0</td>\n",
       "      <td>0.0</td>\n",
       "      <td>0.0</td>\n",
       "      <td>0.0</td>\n",
       "      <td>7.0</td>\n",
       "      <td>5.0</td>\n",
       "      <td>0.0</td>\n",
       "      <td>...</td>\n",
       "      <td>3.0</td>\n",
       "      <td>3.0</td>\n",
       "      <td>0.0</td>\n",
       "      <td>1.0</td>\n",
       "      <td>1.0</td>\n",
       "      <td>2.0</td>\n",
       "      <td>1.0</td>\n",
       "      <td>1.0</td>\n",
       "      <td>2.0</td>\n",
       "      <td>0.0</td>\n",
       "    </tr>\n",
       "  </tbody>\n",
       "</table>\n",
       "<p>5 rows × 152 columns</p>\n",
       "</div>"
      ],
      "text/plain": [
       "      266   103   84    12   32   34   1     523   22   136  ...   157   777  \\\n",
       "103  12.0   0.0   6.0   6.0  0.0  1.0  0.0  19.0   5.0  0.0  ...   8.0   1.0   \n",
       "84   24.0  10.0   0.0  51.0  1.0  2.0  2.0  66.0  74.0  6.0  ...  40.0  44.0   \n",
       "12   24.0  16.0  36.0   0.0  0.0  3.0  2.0  47.0  41.0  2.0  ...  14.0  14.0   \n",
       "32    0.0   0.0   1.0   1.0  0.0  0.0  0.0   6.0   0.0  0.0  ...   0.0   0.0   \n",
       "34    3.0   5.0   4.0   2.0  0.0  0.0  0.0   7.0   5.0  0.0  ...   3.0   3.0   \n",
       "\n",
       "     83    350   154   238  115  26    142  143  \n",
       "103  0.0   6.0   7.0   9.0  2.0  4.0  18.0  0.0  \n",
       "84   2.0  17.0  13.0  19.0  4.0  4.0  52.0  1.0  \n",
       "12   0.0  17.0   6.0  14.0  1.0  8.0  38.0  4.0  \n",
       "32   0.0   0.0   0.0   0.0  1.0  0.0   2.0  0.0  \n",
       "34   0.0   1.0   1.0   2.0  1.0  1.0   2.0  0.0  \n",
       "\n",
       "[5 rows x 152 columns]"
      ]
     },
     "execution_count": 8,
     "metadata": {},
     "output_type": "execute_result"
    }
   ],
   "source": [
    "with open(DATA_PATH + 'numberWinsChampion.pickle', 'rb') as fr:\n",
    "    numberWinsChampion = pickle.load(fr)\n",
    "numberWinsChampion = pd.DataFrame(numberWinsChampion)\n",
    "numberWinsChampion.fillna(0, inplace=True)\n",
    "numberWinsChampion.head()"
   ]
  },
  {
   "cell_type": "code",
   "execution_count": 9,
   "metadata": {},
   "outputs": [],
   "source": [
    "top_df = pd.DataFrame({k :v for k, v in numberWinsChampion.items() \n",
    "                       if k in list(top_dict.keys())})\n",
    "jungle_df = pd.DataFrame({k :v for k, v in numberWinsChampion.items() \n",
    "                          if k in list(jungle_dict.keys())})\n",
    "mid_df = pd.DataFrame({k :v for k, v in numberWinsChampion.items() \n",
    "                       if k in list(mid_dict.keys())})\n",
    "carry_df = pd.DataFrame({k :v for k, v in numberWinsChampion.items() \n",
    "                         if k in list(carry_dict.keys())})\n",
    "sup_df = pd.DataFrame({k :v for k, v in numberWinsChampion.items() \n",
    "                       if k in list(sup_dict.keys())})"
   ]
  },
  {
   "cell_type": "code",
   "execution_count": 10,
   "metadata": {},
   "outputs": [
    {
     "data": {
      "text/html": [
       "<div>\n",
       "<style scoped>\n",
       "    .dataframe tbody tr th:only-of-type {\n",
       "        vertical-align: middle;\n",
       "    }\n",
       "\n",
       "    .dataframe tbody tr th {\n",
       "        vertical-align: top;\n",
       "    }\n",
       "\n",
       "    .dataframe thead th {\n",
       "        text-align: right;\n",
       "    }\n",
       "</style>\n",
       "<table border=\"1\" class=\"dataframe\">\n",
       "  <thead>\n",
       "    <tr style=\"text-align: right;\">\n",
       "      <th></th>\n",
       "      <th>266</th>\n",
       "      <th>164</th>\n",
       "      <th>31</th>\n",
       "      <th>122</th>\n",
       "      <th>36</th>\n",
       "      <th>114</th>\n",
       "      <th>41</th>\n",
       "      <th>86</th>\n",
       "      <th>150</th>\n",
       "      <th>74</th>\n",
       "      <th>...</th>\n",
       "      <th>98</th>\n",
       "      <th>27</th>\n",
       "      <th>14</th>\n",
       "      <th>72</th>\n",
       "      <th>17</th>\n",
       "      <th>23</th>\n",
       "      <th>6</th>\n",
       "      <th>8</th>\n",
       "      <th>106</th>\n",
       "      <th>83</th>\n",
       "    </tr>\n",
       "  </thead>\n",
       "  <tbody>\n",
       "    <tr>\n",
       "      <th>103</th>\n",
       "      <td>12.0</td>\n",
       "      <td>12.0</td>\n",
       "      <td>1.0</td>\n",
       "      <td>6.0</td>\n",
       "      <td>1.0</td>\n",
       "      <td>10.0</td>\n",
       "      <td>6.0</td>\n",
       "      <td>5.0</td>\n",
       "      <td>1.0</td>\n",
       "      <td>1.0</td>\n",
       "      <td>...</td>\n",
       "      <td>5.0</td>\n",
       "      <td>3.0</td>\n",
       "      <td>0.0</td>\n",
       "      <td>1.0</td>\n",
       "      <td>0.0</td>\n",
       "      <td>1.0</td>\n",
       "      <td>0.0</td>\n",
       "      <td>0.0</td>\n",
       "      <td>4.0</td>\n",
       "      <td>0.0</td>\n",
       "    </tr>\n",
       "    <tr>\n",
       "      <th>84</th>\n",
       "      <td>24.0</td>\n",
       "      <td>120.0</td>\n",
       "      <td>2.0</td>\n",
       "      <td>19.0</td>\n",
       "      <td>0.0</td>\n",
       "      <td>38.0</td>\n",
       "      <td>36.0</td>\n",
       "      <td>20.0</td>\n",
       "      <td>3.0</td>\n",
       "      <td>10.0</td>\n",
       "      <td>...</td>\n",
       "      <td>30.0</td>\n",
       "      <td>6.0</td>\n",
       "      <td>4.0</td>\n",
       "      <td>2.0</td>\n",
       "      <td>1.0</td>\n",
       "      <td>9.0</td>\n",
       "      <td>8.0</td>\n",
       "      <td>16.0</td>\n",
       "      <td>33.0</td>\n",
       "      <td>2.0</td>\n",
       "    </tr>\n",
       "    <tr>\n",
       "      <th>12</th>\n",
       "      <td>24.0</td>\n",
       "      <td>69.0</td>\n",
       "      <td>2.0</td>\n",
       "      <td>9.0</td>\n",
       "      <td>2.0</td>\n",
       "      <td>22.0</td>\n",
       "      <td>12.0</td>\n",
       "      <td>13.0</td>\n",
       "      <td>1.0</td>\n",
       "      <td>5.0</td>\n",
       "      <td>...</td>\n",
       "      <td>23.0</td>\n",
       "      <td>3.0</td>\n",
       "      <td>0.0</td>\n",
       "      <td>1.0</td>\n",
       "      <td>0.0</td>\n",
       "      <td>4.0</td>\n",
       "      <td>3.0</td>\n",
       "      <td>8.0</td>\n",
       "      <td>12.0</td>\n",
       "      <td>0.0</td>\n",
       "    </tr>\n",
       "    <tr>\n",
       "      <th>32</th>\n",
       "      <td>0.0</td>\n",
       "      <td>1.0</td>\n",
       "      <td>0.0</td>\n",
       "      <td>0.0</td>\n",
       "      <td>0.0</td>\n",
       "      <td>1.0</td>\n",
       "      <td>0.0</td>\n",
       "      <td>0.0</td>\n",
       "      <td>0.0</td>\n",
       "      <td>0.0</td>\n",
       "      <td>...</td>\n",
       "      <td>1.0</td>\n",
       "      <td>0.0</td>\n",
       "      <td>0.0</td>\n",
       "      <td>0.0</td>\n",
       "      <td>0.0</td>\n",
       "      <td>1.0</td>\n",
       "      <td>0.0</td>\n",
       "      <td>0.0</td>\n",
       "      <td>0.0</td>\n",
       "      <td>0.0</td>\n",
       "    </tr>\n",
       "    <tr>\n",
       "      <th>34</th>\n",
       "      <td>3.0</td>\n",
       "      <td>10.0</td>\n",
       "      <td>1.0</td>\n",
       "      <td>5.0</td>\n",
       "      <td>0.0</td>\n",
       "      <td>3.0</td>\n",
       "      <td>5.0</td>\n",
       "      <td>5.0</td>\n",
       "      <td>0.0</td>\n",
       "      <td>1.0</td>\n",
       "      <td>...</td>\n",
       "      <td>4.0</td>\n",
       "      <td>1.0</td>\n",
       "      <td>0.0</td>\n",
       "      <td>0.0</td>\n",
       "      <td>1.0</td>\n",
       "      <td>2.0</td>\n",
       "      <td>2.0</td>\n",
       "      <td>2.0</td>\n",
       "      <td>1.0</td>\n",
       "      <td>0.0</td>\n",
       "    </tr>\n",
       "  </tbody>\n",
       "</table>\n",
       "<p>5 rows × 40 columns</p>\n",
       "</div>"
      ],
      "text/plain": [
       "      266    164  31    122  36    114   41    86   150   74   ...   98   27   \\\n",
       "103  12.0   12.0  1.0   6.0  1.0  10.0   6.0   5.0  1.0   1.0  ...   5.0  3.0   \n",
       "84   24.0  120.0  2.0  19.0  0.0  38.0  36.0  20.0  3.0  10.0  ...  30.0  6.0   \n",
       "12   24.0   69.0  2.0   9.0  2.0  22.0  12.0  13.0  1.0   5.0  ...  23.0  3.0   \n",
       "32    0.0    1.0  0.0   0.0  0.0   1.0   0.0   0.0  0.0   0.0  ...   1.0  0.0   \n",
       "34    3.0   10.0  1.0   5.0  0.0   3.0   5.0   5.0  0.0   1.0  ...   4.0  1.0   \n",
       "\n",
       "     14   72   17   23   6     8     106  83   \n",
       "103  0.0  1.0  0.0  1.0  0.0   0.0   4.0  0.0  \n",
       "84   4.0  2.0  1.0  9.0  8.0  16.0  33.0  2.0  \n",
       "12   0.0  1.0  0.0  4.0  3.0   8.0  12.0  0.0  \n",
       "32   0.0  0.0  0.0  1.0  0.0   0.0   0.0  0.0  \n",
       "34   0.0  0.0  1.0  2.0  2.0   2.0   1.0  0.0  \n",
       "\n",
       "[5 rows x 40 columns]"
      ]
     },
     "execution_count": 10,
     "metadata": {},
     "output_type": "execute_result"
    }
   ],
   "source": [
    "top_df.head()"
   ]
  },
  {
   "cell_type": "markdown",
   "metadata": {},
   "source": [
    "# Combinations"
   ]
  },
  {
   "cell_type": "code",
   "execution_count": 11,
   "metadata": {},
   "outputs": [
    {
     "data": {
      "text/html": [
       "<div>\n",
       "<style scoped>\n",
       "    .dataframe tbody tr th:only-of-type {\n",
       "        vertical-align: middle;\n",
       "    }\n",
       "\n",
       "    .dataframe tbody tr th {\n",
       "        vertical-align: top;\n",
       "    }\n",
       "\n",
       "    .dataframe thead th {\n",
       "        text-align: right;\n",
       "    }\n",
       "</style>\n",
       "<table border=\"1\" class=\"dataframe\">\n",
       "  <thead>\n",
       "    <tr style=\"text-align: right;\">\n",
       "      <th></th>\n",
       "      <th>266</th>\n",
       "      <th>103</th>\n",
       "      <th>84</th>\n",
       "      <th>12</th>\n",
       "      <th>32</th>\n",
       "      <th>34</th>\n",
       "      <th>1</th>\n",
       "      <th>523</th>\n",
       "      <th>22</th>\n",
       "      <th>136</th>\n",
       "      <th>...</th>\n",
       "      <th>157</th>\n",
       "      <th>777</th>\n",
       "      <th>83</th>\n",
       "      <th>350</th>\n",
       "      <th>154</th>\n",
       "      <th>238</th>\n",
       "      <th>115</th>\n",
       "      <th>26</th>\n",
       "      <th>142</th>\n",
       "      <th>143</th>\n",
       "    </tr>\n",
       "  </thead>\n",
       "  <tbody>\n",
       "    <tr>\n",
       "      <th>103</th>\n",
       "      <td>16.0</td>\n",
       "      <td>0.0</td>\n",
       "      <td>11.0</td>\n",
       "      <td>10.0</td>\n",
       "      <td>0.0</td>\n",
       "      <td>0.0</td>\n",
       "      <td>0.0</td>\n",
       "      <td>22.0</td>\n",
       "      <td>11.0</td>\n",
       "      <td>0.0</td>\n",
       "      <td>...</td>\n",
       "      <td>5.0</td>\n",
       "      <td>0.0</td>\n",
       "      <td>0.0</td>\n",
       "      <td>14.0</td>\n",
       "      <td>6.0</td>\n",
       "      <td>1.0</td>\n",
       "      <td>2.0</td>\n",
       "      <td>5.0</td>\n",
       "      <td>0.0</td>\n",
       "      <td>1.0</td>\n",
       "    </tr>\n",
       "    <tr>\n",
       "      <th>84</th>\n",
       "      <td>23.0</td>\n",
       "      <td>11.0</td>\n",
       "      <td>0.0</td>\n",
       "      <td>62.0</td>\n",
       "      <td>1.0</td>\n",
       "      <td>2.0</td>\n",
       "      <td>2.0</td>\n",
       "      <td>81.0</td>\n",
       "      <td>102.0</td>\n",
       "      <td>1.0</td>\n",
       "      <td>...</td>\n",
       "      <td>27.0</td>\n",
       "      <td>19.0</td>\n",
       "      <td>0.0</td>\n",
       "      <td>24.0</td>\n",
       "      <td>14.0</td>\n",
       "      <td>19.0</td>\n",
       "      <td>3.0</td>\n",
       "      <td>8.0</td>\n",
       "      <td>30.0</td>\n",
       "      <td>3.0</td>\n",
       "    </tr>\n",
       "    <tr>\n",
       "      <th>12</th>\n",
       "      <td>36.0</td>\n",
       "      <td>10.0</td>\n",
       "      <td>62.0</td>\n",
       "      <td>0.0</td>\n",
       "      <td>3.0</td>\n",
       "      <td>4.0</td>\n",
       "      <td>1.0</td>\n",
       "      <td>73.0</td>\n",
       "      <td>60.0</td>\n",
       "      <td>6.0</td>\n",
       "      <td>...</td>\n",
       "      <td>83.0</td>\n",
       "      <td>31.0</td>\n",
       "      <td>0.0</td>\n",
       "      <td>0.0</td>\n",
       "      <td>14.0</td>\n",
       "      <td>22.0</td>\n",
       "      <td>2.0</td>\n",
       "      <td>5.0</td>\n",
       "      <td>63.0</td>\n",
       "      <td>0.0</td>\n",
       "    </tr>\n",
       "    <tr>\n",
       "      <th>32</th>\n",
       "      <td>1.0</td>\n",
       "      <td>0.0</td>\n",
       "      <td>1.0</td>\n",
       "      <td>3.0</td>\n",
       "      <td>0.0</td>\n",
       "      <td>0.0</td>\n",
       "      <td>0.0</td>\n",
       "      <td>1.0</td>\n",
       "      <td>3.0</td>\n",
       "      <td>0.0</td>\n",
       "      <td>...</td>\n",
       "      <td>0.0</td>\n",
       "      <td>2.0</td>\n",
       "      <td>0.0</td>\n",
       "      <td>3.0</td>\n",
       "      <td>0.0</td>\n",
       "      <td>0.0</td>\n",
       "      <td>0.0</td>\n",
       "      <td>0.0</td>\n",
       "      <td>1.0</td>\n",
       "      <td>0.0</td>\n",
       "    </tr>\n",
       "    <tr>\n",
       "      <th>34</th>\n",
       "      <td>8.0</td>\n",
       "      <td>0.0</td>\n",
       "      <td>2.0</td>\n",
       "      <td>4.0</td>\n",
       "      <td>0.0</td>\n",
       "      <td>0.0</td>\n",
       "      <td>0.0</td>\n",
       "      <td>15.0</td>\n",
       "      <td>6.0</td>\n",
       "      <td>0.0</td>\n",
       "      <td>...</td>\n",
       "      <td>2.0</td>\n",
       "      <td>0.0</td>\n",
       "      <td>1.0</td>\n",
       "      <td>2.0</td>\n",
       "      <td>3.0</td>\n",
       "      <td>1.0</td>\n",
       "      <td>0.0</td>\n",
       "      <td>2.0</td>\n",
       "      <td>0.0</td>\n",
       "      <td>1.0</td>\n",
       "    </tr>\n",
       "  </tbody>\n",
       "</table>\n",
       "<p>5 rows × 152 columns</p>\n",
       "</div>"
      ],
      "text/plain": [
       "      266   103   84    12   32   34   1     523    22   136  ...   157   777  \\\n",
       "103  16.0   0.0  11.0  10.0  0.0  0.0  0.0  22.0   11.0  0.0  ...   5.0   0.0   \n",
       "84   23.0  11.0   0.0  62.0  1.0  2.0  2.0  81.0  102.0  1.0  ...  27.0  19.0   \n",
       "12   36.0  10.0  62.0   0.0  3.0  4.0  1.0  73.0   60.0  6.0  ...  83.0  31.0   \n",
       "32    1.0   0.0   1.0   3.0  0.0  0.0  0.0   1.0    3.0  0.0  ...   0.0   2.0   \n",
       "34    8.0   0.0   2.0   4.0  0.0  0.0  0.0  15.0    6.0  0.0  ...   2.0   0.0   \n",
       "\n",
       "     83    350   154   238  115  26    142  143  \n",
       "103  0.0  14.0   6.0   1.0  2.0  5.0   0.0  1.0  \n",
       "84   0.0  24.0  14.0  19.0  3.0  8.0  30.0  3.0  \n",
       "12   0.0   0.0  14.0  22.0  2.0  5.0  63.0  0.0  \n",
       "32   0.0   3.0   0.0   0.0  0.0  0.0   1.0  0.0  \n",
       "34   1.0   2.0   3.0   1.0  0.0  2.0   0.0  1.0  \n",
       "\n",
       "[5 rows x 152 columns]"
      ]
     },
     "execution_count": 11,
     "metadata": {},
     "output_type": "execute_result"
    }
   ],
   "source": [
    "with open(DATA_PATH + 'numberWinsCombination.pickle', 'rb') as fr:\n",
    "    numberWinsCombination = pickle.load(fr)\n",
    "numberWinsCombination = pd.DataFrame(numberWinsCombination)\n",
    "numberWinsCombination.fillna(0, inplace=True)\n",
    "numberWinsCombination.head()"
   ]
  },
  {
   "cell_type": "code",
   "execution_count": 12,
   "metadata": {},
   "outputs": [
    {
     "data": {
      "text/html": [
       "<div>\n",
       "<style scoped>\n",
       "    .dataframe tbody tr th:only-of-type {\n",
       "        vertical-align: middle;\n",
       "    }\n",
       "\n",
       "    .dataframe tbody tr th {\n",
       "        vertical-align: top;\n",
       "    }\n",
       "\n",
       "    .dataframe thead th {\n",
       "        text-align: right;\n",
       "    }\n",
       "</style>\n",
       "<table border=\"1\" class=\"dataframe\">\n",
       "  <thead>\n",
       "    <tr style=\"text-align: right;\">\n",
       "      <th></th>\n",
       "      <th>266</th>\n",
       "      <th>103</th>\n",
       "      <th>84</th>\n",
       "      <th>12</th>\n",
       "      <th>32</th>\n",
       "      <th>34</th>\n",
       "      <th>1</th>\n",
       "      <th>523</th>\n",
       "      <th>22</th>\n",
       "      <th>136</th>\n",
       "      <th>...</th>\n",
       "      <th>157</th>\n",
       "      <th>777</th>\n",
       "      <th>83</th>\n",
       "      <th>350</th>\n",
       "      <th>154</th>\n",
       "      <th>238</th>\n",
       "      <th>115</th>\n",
       "      <th>26</th>\n",
       "      <th>142</th>\n",
       "      <th>143</th>\n",
       "    </tr>\n",
       "  </thead>\n",
       "  <tbody>\n",
       "    <tr>\n",
       "      <th>103</th>\n",
       "      <td>18.0</td>\n",
       "      <td>0.0</td>\n",
       "      <td>6.0</td>\n",
       "      <td>7.0</td>\n",
       "      <td>0.0</td>\n",
       "      <td>0.0</td>\n",
       "      <td>0.0</td>\n",
       "      <td>16.0</td>\n",
       "      <td>9.0</td>\n",
       "      <td>0.0</td>\n",
       "      <td>...</td>\n",
       "      <td>5.0</td>\n",
       "      <td>2.0</td>\n",
       "      <td>0.0</td>\n",
       "      <td>16.0</td>\n",
       "      <td>5.0</td>\n",
       "      <td>0.0</td>\n",
       "      <td>0.0</td>\n",
       "      <td>4.0</td>\n",
       "      <td>0.0</td>\n",
       "      <td>1.0</td>\n",
       "    </tr>\n",
       "    <tr>\n",
       "      <th>84</th>\n",
       "      <td>27.0</td>\n",
       "      <td>6.0</td>\n",
       "      <td>0.0</td>\n",
       "      <td>52.0</td>\n",
       "      <td>1.0</td>\n",
       "      <td>1.0</td>\n",
       "      <td>3.0</td>\n",
       "      <td>93.0</td>\n",
       "      <td>111.0</td>\n",
       "      <td>4.0</td>\n",
       "      <td>...</td>\n",
       "      <td>18.0</td>\n",
       "      <td>23.0</td>\n",
       "      <td>2.0</td>\n",
       "      <td>27.0</td>\n",
       "      <td>21.0</td>\n",
       "      <td>24.0</td>\n",
       "      <td>3.0</td>\n",
       "      <td>6.0</td>\n",
       "      <td>35.0</td>\n",
       "      <td>10.0</td>\n",
       "    </tr>\n",
       "    <tr>\n",
       "      <th>12</th>\n",
       "      <td>24.0</td>\n",
       "      <td>7.0</td>\n",
       "      <td>52.0</td>\n",
       "      <td>0.0</td>\n",
       "      <td>0.0</td>\n",
       "      <td>5.0</td>\n",
       "      <td>3.0</td>\n",
       "      <td>93.0</td>\n",
       "      <td>57.0</td>\n",
       "      <td>4.0</td>\n",
       "      <td>...</td>\n",
       "      <td>55.0</td>\n",
       "      <td>33.0</td>\n",
       "      <td>1.0</td>\n",
       "      <td>0.0</td>\n",
       "      <td>5.0</td>\n",
       "      <td>16.0</td>\n",
       "      <td>6.0</td>\n",
       "      <td>5.0</td>\n",
       "      <td>41.0</td>\n",
       "      <td>1.0</td>\n",
       "    </tr>\n",
       "    <tr>\n",
       "      <th>32</th>\n",
       "      <td>4.0</td>\n",
       "      <td>0.0</td>\n",
       "      <td>1.0</td>\n",
       "      <td>0.0</td>\n",
       "      <td>0.0</td>\n",
       "      <td>0.0</td>\n",
       "      <td>0.0</td>\n",
       "      <td>2.0</td>\n",
       "      <td>2.0</td>\n",
       "      <td>0.0</td>\n",
       "      <td>...</td>\n",
       "      <td>2.0</td>\n",
       "      <td>0.0</td>\n",
       "      <td>0.0</td>\n",
       "      <td>3.0</td>\n",
       "      <td>1.0</td>\n",
       "      <td>1.0</td>\n",
       "      <td>1.0</td>\n",
       "      <td>2.0</td>\n",
       "      <td>0.0</td>\n",
       "      <td>0.0</td>\n",
       "    </tr>\n",
       "    <tr>\n",
       "      <th>34</th>\n",
       "      <td>7.0</td>\n",
       "      <td>0.0</td>\n",
       "      <td>1.0</td>\n",
       "      <td>5.0</td>\n",
       "      <td>0.0</td>\n",
       "      <td>0.0</td>\n",
       "      <td>0.0</td>\n",
       "      <td>14.0</td>\n",
       "      <td>8.0</td>\n",
       "      <td>1.0</td>\n",
       "      <td>...</td>\n",
       "      <td>1.0</td>\n",
       "      <td>0.0</td>\n",
       "      <td>0.0</td>\n",
       "      <td>2.0</td>\n",
       "      <td>3.0</td>\n",
       "      <td>1.0</td>\n",
       "      <td>0.0</td>\n",
       "      <td>1.0</td>\n",
       "      <td>0.0</td>\n",
       "      <td>0.0</td>\n",
       "    </tr>\n",
       "  </tbody>\n",
       "</table>\n",
       "<p>5 rows × 152 columns</p>\n",
       "</div>"
      ],
      "text/plain": [
       "      266  103   84    12   32   34   1     523    22   136  ...   157   777  \\\n",
       "103  18.0  0.0   6.0   7.0  0.0  0.0  0.0  16.0    9.0  0.0  ...   5.0   2.0   \n",
       "84   27.0  6.0   0.0  52.0  1.0  1.0  3.0  93.0  111.0  4.0  ...  18.0  23.0   \n",
       "12   24.0  7.0  52.0   0.0  0.0  5.0  3.0  93.0   57.0  4.0  ...  55.0  33.0   \n",
       "32    4.0  0.0   1.0   0.0  0.0  0.0  0.0   2.0    2.0  0.0  ...   2.0   0.0   \n",
       "34    7.0  0.0   1.0   5.0  0.0  0.0  0.0  14.0    8.0  1.0  ...   1.0   0.0   \n",
       "\n",
       "     83    350   154   238  115  26    142   143  \n",
       "103  0.0  16.0   5.0   0.0  0.0  4.0   0.0   1.0  \n",
       "84   2.0  27.0  21.0  24.0  3.0  6.0  35.0  10.0  \n",
       "12   1.0   0.0   5.0  16.0  6.0  5.0  41.0   1.0  \n",
       "32   0.0   3.0   1.0   1.0  1.0  2.0   0.0   0.0  \n",
       "34   0.0   2.0   3.0   1.0  0.0  1.0   0.0   0.0  \n",
       "\n",
       "[5 rows x 152 columns]"
      ]
     },
     "execution_count": 12,
     "metadata": {},
     "output_type": "execute_result"
    }
   ],
   "source": [
    "with open(DATA_PATH + 'numberLosesCombination.pickle', 'rb') as fr:\n",
    "    numberLosesCombination = pickle.load(fr)\n",
    "numberLosesCombination = pd.DataFrame(numberLosesCombination)\n",
    "numberLosesCombination.fillna(0, inplace=True)\n",
    "numberLosesCombination.head()"
   ]
  },
  {
   "cell_type": "code",
   "execution_count": 13,
   "metadata": {},
   "outputs": [],
   "source": [
    "def calc_total_match(line_df):\n",
    "    for A in line_df:\n",
    "        for B in line_df:\n",
    "            total = numberWinsChampion[A][B] + numberWinsChampion[B][A]\n",
    "            line_df[A][B] = total          "
   ]
  },
  {
   "cell_type": "code",
   "execution_count": 14,
   "metadata": {},
   "outputs": [
    {
     "data": {
      "text/html": [
       "<div>\n",
       "<style scoped>\n",
       "    .dataframe tbody tr th:only-of-type {\n",
       "        vertical-align: middle;\n",
       "    }\n",
       "\n",
       "    .dataframe tbody tr th {\n",
       "        vertical-align: top;\n",
       "    }\n",
       "\n",
       "    .dataframe thead th {\n",
       "        text-align: right;\n",
       "    }\n",
       "</style>\n",
       "<table border=\"1\" class=\"dataframe\">\n",
       "  <thead>\n",
       "    <tr style=\"text-align: right;\">\n",
       "      <th></th>\n",
       "      <th>266</th>\n",
       "      <th>103</th>\n",
       "      <th>84</th>\n",
       "      <th>12</th>\n",
       "      <th>32</th>\n",
       "      <th>34</th>\n",
       "      <th>1</th>\n",
       "      <th>523</th>\n",
       "      <th>22</th>\n",
       "      <th>136</th>\n",
       "      <th>...</th>\n",
       "      <th>157</th>\n",
       "      <th>777</th>\n",
       "      <th>83</th>\n",
       "      <th>350</th>\n",
       "      <th>154</th>\n",
       "      <th>238</th>\n",
       "      <th>115</th>\n",
       "      <th>26</th>\n",
       "      <th>142</th>\n",
       "      <th>143</th>\n",
       "    </tr>\n",
       "  </thead>\n",
       "  <tbody>\n",
       "    <tr>\n",
       "      <th>103</th>\n",
       "      <td>26.0</td>\n",
       "      <td>0.0</td>\n",
       "      <td>16.0</td>\n",
       "      <td>22.0</td>\n",
       "      <td>0.0</td>\n",
       "      <td>6.0</td>\n",
       "      <td>1.0</td>\n",
       "      <td>30.0</td>\n",
       "      <td>17.0</td>\n",
       "      <td>0.0</td>\n",
       "      <td>...</td>\n",
       "      <td>15.0</td>\n",
       "      <td>8.0</td>\n",
       "      <td>0.0</td>\n",
       "      <td>13.0</td>\n",
       "      <td>13.0</td>\n",
       "      <td>13.0</td>\n",
       "      <td>5.0</td>\n",
       "      <td>6.0</td>\n",
       "      <td>37.0</td>\n",
       "      <td>0.0</td>\n",
       "    </tr>\n",
       "    <tr>\n",
       "      <th>84</th>\n",
       "      <td>51.0</td>\n",
       "      <td>16.0</td>\n",
       "      <td>0.0</td>\n",
       "      <td>87.0</td>\n",
       "      <td>2.0</td>\n",
       "      <td>6.0</td>\n",
       "      <td>3.0</td>\n",
       "      <td>129.0</td>\n",
       "      <td>145.0</td>\n",
       "      <td>10.0</td>\n",
       "      <td>...</td>\n",
       "      <td>66.0</td>\n",
       "      <td>80.0</td>\n",
       "      <td>2.0</td>\n",
       "      <td>29.0</td>\n",
       "      <td>24.0</td>\n",
       "      <td>39.0</td>\n",
       "      <td>7.0</td>\n",
       "      <td>6.0</td>\n",
       "      <td>113.0</td>\n",
       "      <td>2.0</td>\n",
       "    </tr>\n",
       "    <tr>\n",
       "      <th>12</th>\n",
       "      <td>50.0</td>\n",
       "      <td>22.0</td>\n",
       "      <td>87.0</td>\n",
       "      <td>0.0</td>\n",
       "      <td>1.0</td>\n",
       "      <td>5.0</td>\n",
       "      <td>3.0</td>\n",
       "      <td>95.0</td>\n",
       "      <td>78.0</td>\n",
       "      <td>6.0</td>\n",
       "      <td>...</td>\n",
       "      <td>29.0</td>\n",
       "      <td>31.0</td>\n",
       "      <td>0.0</td>\n",
       "      <td>32.0</td>\n",
       "      <td>22.0</td>\n",
       "      <td>32.0</td>\n",
       "      <td>5.0</td>\n",
       "      <td>11.0</td>\n",
       "      <td>86.0</td>\n",
       "      <td>6.0</td>\n",
       "    </tr>\n",
       "    <tr>\n",
       "      <th>32</th>\n",
       "      <td>0.0</td>\n",
       "      <td>0.0</td>\n",
       "      <td>2.0</td>\n",
       "      <td>1.0</td>\n",
       "      <td>0.0</td>\n",
       "      <td>0.0</td>\n",
       "      <td>0.0</td>\n",
       "      <td>6.0</td>\n",
       "      <td>0.0</td>\n",
       "      <td>0.0</td>\n",
       "      <td>...</td>\n",
       "      <td>1.0</td>\n",
       "      <td>0.0</td>\n",
       "      <td>0.0</td>\n",
       "      <td>2.0</td>\n",
       "      <td>0.0</td>\n",
       "      <td>1.0</td>\n",
       "      <td>1.0</td>\n",
       "      <td>0.0</td>\n",
       "      <td>2.0</td>\n",
       "      <td>1.0</td>\n",
       "    </tr>\n",
       "    <tr>\n",
       "      <th>34</th>\n",
       "      <td>6.0</td>\n",
       "      <td>6.0</td>\n",
       "      <td>6.0</td>\n",
       "      <td>5.0</td>\n",
       "      <td>0.0</td>\n",
       "      <td>0.0</td>\n",
       "      <td>0.0</td>\n",
       "      <td>18.0</td>\n",
       "      <td>7.0</td>\n",
       "      <td>0.0</td>\n",
       "      <td>...</td>\n",
       "      <td>8.0</td>\n",
       "      <td>4.0</td>\n",
       "      <td>0.0</td>\n",
       "      <td>4.0</td>\n",
       "      <td>4.0</td>\n",
       "      <td>3.0</td>\n",
       "      <td>1.0</td>\n",
       "      <td>2.0</td>\n",
       "      <td>9.0</td>\n",
       "      <td>0.0</td>\n",
       "    </tr>\n",
       "  </tbody>\n",
       "</table>\n",
       "<p>5 rows × 152 columns</p>\n",
       "</div>"
      ],
      "text/plain": [
       "      266   103   84    12   32   34   1      523    22    136  ...   157  \\\n",
       "103  26.0   0.0  16.0  22.0  0.0  6.0  1.0   30.0   17.0   0.0  ...  15.0   \n",
       "84   51.0  16.0   0.0  87.0  2.0  6.0  3.0  129.0  145.0  10.0  ...  66.0   \n",
       "12   50.0  22.0  87.0   0.0  1.0  5.0  3.0   95.0   78.0   6.0  ...  29.0   \n",
       "32    0.0   0.0   2.0   1.0  0.0  0.0  0.0    6.0    0.0   0.0  ...   1.0   \n",
       "34    6.0   6.0   6.0   5.0  0.0  0.0  0.0   18.0    7.0   0.0  ...   8.0   \n",
       "\n",
       "      777  83    350   154   238  115   26     142  143  \n",
       "103   8.0  0.0  13.0  13.0  13.0  5.0   6.0   37.0  0.0  \n",
       "84   80.0  2.0  29.0  24.0  39.0  7.0   6.0  113.0  2.0  \n",
       "12   31.0  0.0  32.0  22.0  32.0  5.0  11.0   86.0  6.0  \n",
       "32    0.0  0.0   2.0   0.0   1.0  1.0   0.0    2.0  1.0  \n",
       "34    4.0  0.0   4.0   4.0   3.0  1.0   2.0    9.0  0.0  \n",
       "\n",
       "[5 rows x 152 columns]"
      ]
     },
     "execution_count": 14,
     "metadata": {},
     "output_type": "execute_result"
    }
   ],
   "source": [
    "top_total = top_df.copy()\n",
    "jungle_total = jungle_df.copy()\n",
    "mid_total = mid_df.copy()\n",
    "carry_total = carry_df.copy()\n",
    "sup_total = sup_df.copy()\n",
    "champ_total = numberWinsChampion.copy()\n",
    "\n",
    "calc_total_match(top_total)\n",
    "calc_total_match(jungle_total)\n",
    "calc_total_match(carry_total)\n",
    "calc_total_match(sup_total)\n",
    "calc_total_match(champ_total)\n",
    "\n",
    "champ_total.head()"
   ]
  },
  {
   "cell_type": "code",
   "execution_count": 15,
   "metadata": {},
   "outputs": [],
   "source": [
    "# champ_nums = 152 \n",
    "# games = []  # 평균 판수를 구하기 위한 리스트\n",
    "# for i in champ_total:\n",
    "#     games.append(round(sum(champ_total[i]) / (champ_nums - 1), 2)) # 자신 vs 151개의 챔프에 대하여\n",
    "# len(games)"
   ]
  },
  {
   "cell_type": "code",
   "execution_count": 16,
   "metadata": {},
   "outputs": [],
   "source": [
    "# game_mean = sum(games) / champ_nums"
   ]
  },
  {
   "cell_type": "markdown",
   "metadata": {},
   "source": [
    "# 게임수의 평균은 32게임??\n",
    "## 은 중복값 제거전.."
   ]
  },
  {
   "cell_type": "code",
   "execution_count": 17,
   "metadata": {},
   "outputs": [],
   "source": [
    "# game_mean"
   ]
  },
  {
   "cell_type": "code",
   "execution_count": 18,
   "metadata": {},
   "outputs": [],
   "source": [
    "# 판수 = []\n",
    "# for i in champ_total:\n",
    "#     for j in champ_total[i].index:\n",
    "#         판수.append(champ_total[i][j])\n",
    "# 총판수 = len(판수) - 152 # 미러전 뺀다"
   ]
  },
  {
   "cell_type": "code",
   "execution_count": 19,
   "metadata": {},
   "outputs": [],
   "source": [
    "# round(game_mean, 2) == round(sum(판수) / 총판수, 2)"
   ]
  },
  {
   "cell_type": "code",
   "execution_count": 20,
   "metadata": {},
   "outputs": [],
   "source": [
    "# 판수"
   ]
  },
  {
   "cell_type": "code",
   "execution_count": 21,
   "metadata": {},
   "outputs": [
    {
     "name": "stdout",
     "output_type": "stream",
     "text": [
      "11476\n"
     ]
    }
   ],
   "source": [
    "s=0\n",
    "for i in range(152):\n",
    "    s += i\n",
    "print(s)"
   ]
  },
  {
   "cell_type": "markdown",
   "metadata": {},
   "source": [
    "# 중복제거후 평균, 표준편차 구하기... => champ_total 에 대하여\n"
   ]
  },
  {
   "cell_type": "code",
   "execution_count": 22,
   "metadata": {},
   "outputs": [],
   "source": [
    "columns = [c for c in champ_total]\n",
    "columns.sort()\n",
    "columns\n",
    "rows = columns.copy()\n",
    "\n",
    "t_idx = []\n",
    "for c in columns:\n",
    "    for r in columns:\n",
    "        if not c == r: t_idx.append([c,r])\n",
    "        \n",
    "#t_idx[:152]"
   ]
  },
  {
   "cell_type": "code",
   "execution_count": 23,
   "metadata": {},
   "outputs": [],
   "source": [
    "for idx in t_idx:\n",
    "    # A vs B 랑 B vs A 는 같은 값이니 중복값\n",
    "    중복값 = [idx[1], idx[0]]\n",
    "    if 중복값 in t_idx: t_idx.remove(중복값)\n"
   ]
  },
  {
   "cell_type": "markdown",
   "metadata": {},
   "source": [
    "# 11476으로 제거 완료"
   ]
  },
  {
   "cell_type": "code",
   "execution_count": 24,
   "metadata": {},
   "outputs": [
    {
     "data": {
      "text/plain": [
       "True"
      ]
     },
     "execution_count": 24,
     "metadata": {},
     "output_type": "execute_result"
    }
   ],
   "source": [
    "len(t_idx) == s"
   ]
  },
  {
   "cell_type": "code",
   "execution_count": 25,
   "metadata": {},
   "outputs": [
    {
     "data": {
      "text/plain": [
       "11476"
      ]
     },
     "execution_count": 25,
     "metadata": {},
     "output_type": "execute_result"
    }
   ],
   "source": [
    "total_games = []\n",
    "for col, row in t_idx:\n",
    "    total_games.append(champ_total[col][row])\n",
    "len(total_games)\n",
    "#print(total_games)"
   ]
  },
  {
   "cell_type": "markdown",
   "metadata": {},
   "source": [
    "# 평균값과 표준편차를 쉽게 구하기 위해서 pd.Series\n",
    "# 데이터의 50%는 11경기 이하이다.\n",
    "## 같은라인 vs 같은라인, 같은라인 vs 다른라인 / 반으로 봤을때 적당한 값인듯?"
   ]
  },
  {
   "cell_type": "code",
   "execution_count": 26,
   "metadata": {},
   "outputs": [
    {
     "data": {
      "text/plain": [
       "count    11476.000000\n",
       "mean        32.410683\n",
       "std         58.897103\n",
       "min          0.000000\n",
       "25%          3.000000\n",
       "50%         11.000000\n",
       "75%         34.000000\n",
       "max        743.000000\n",
       "dtype: float64"
      ]
     },
     "execution_count": 26,
     "metadata": {},
     "output_type": "execute_result"
    }
   ],
   "source": [
    "total_games = pd.Series(total_games)\n",
    "total_games.describe()"
   ]
  },
  {
   "cell_type": "code",
   "execution_count": 27,
   "metadata": {},
   "outputs": [],
   "source": [
    "champ_total_mean = 32.41\n",
    "champ_total_std = 58.89\n",
    "champ_total_25 = 3\n",
    "champ_total_50 = 11\n",
    "champ_total_75 = 34\n",
    "champ_total_max = 743\n",
    "champ_total_min = 0"
   ]
  },
  {
   "cell_type": "markdown",
   "metadata": {},
   "source": [
    "# 각 라인별 데이터 프레임에 대해서 진행"
   ]
  },
  {
   "cell_type": "markdown",
   "metadata": {},
   "source": [
    "## 라인별 인덱스 뽑아내기 ( 중복값 없이 describe 진행을 위해서)"
   ]
  },
  {
   "cell_type": "code",
   "execution_count": 28,
   "metadata": {},
   "outputs": [],
   "source": [
    "def 라인index추출(line_total):\n",
    "    columns = [c for c in line_total]\n",
    "    columns.sort()\n",
    "    columns\n",
    "    rows = columns.copy()\n",
    "\n",
    "    t_idx = []\n",
    "    for c in columns:\n",
    "        for r in columns:\n",
    "            if not c == r: t_idx.append([c,r])\n",
    "    \n",
    "    for idx in t_idx:\n",
    "        # A vs B 랑 B vs A 는 같은 값이니 중복값\n",
    "        중복값 = [idx[1], idx[0]]\n",
    "        if 중복값 in t_idx: t_idx.remove(중복값)\n",
    "    \n",
    "    return t_idx"
   ]
  },
  {
   "cell_type": "code",
   "execution_count": 29,
   "metadata": {},
   "outputs": [],
   "source": [
    "top_idx = 라인index추출(top_total)\n",
    "jungle_idx = 라인index추출(jungle_total)\n",
    "mid_idx = 라인index추출(mid_total)\n",
    "carry_idx = 라인index추출(carry_total)\n",
    "sup_idx = 라인index추출(sup_total)"
   ]
  },
  {
   "cell_type": "markdown",
   "metadata": {},
   "source": [
    "# 라인별 경기 횟수 Series로 뽑아내기"
   ]
  },
  {
   "cell_type": "code",
   "execution_count": 30,
   "metadata": {},
   "outputs": [],
   "source": [
    "def 라인별_경기(line_idx):\n",
    "    line_games = []\n",
    "    for col, row in line_idx:\n",
    "        line_games.append(champ_total[col][row])\n",
    "    return pd.Series(line_games)"
   ]
  },
  {
   "cell_type": "code",
   "execution_count": 31,
   "metadata": {},
   "outputs": [],
   "source": [
    "top_games = 라인별_경기(top_idx)\n",
    "jungle_games = 라인별_경기(jungle_idx)\n",
    "mid_games = 라인별_경기(mid_idx)\n",
    "carry_games = 라인별_경기(carry_idx)\n",
    "sup_games = 라인별_경기(sup_idx)"
   ]
  },
  {
   "cell_type": "markdown",
   "metadata": {},
   "source": [
    "## Top"
   ]
  },
  {
   "cell_type": "code",
   "execution_count": 32,
   "metadata": {},
   "outputs": [
    {
     "data": {
      "text/plain": [
       "count    780.000000\n",
       "mean      22.116667\n",
       "std       43.692712\n",
       "min        0.000000\n",
       "25%        2.000000\n",
       "50%        7.000000\n",
       "75%       23.000000\n",
       "max      476.000000\n",
       "dtype: float64"
      ]
     },
     "execution_count": 32,
     "metadata": {},
     "output_type": "execute_result"
    }
   ],
   "source": [
    "top_games.describe()"
   ]
  },
  {
   "cell_type": "code",
   "execution_count": 55,
   "metadata": {},
   "outputs": [],
   "source": [
    "top_total_mean = 22.116667\n",
    "top_total_std = 43.692712\n",
    "top_total_25 = 2\n",
    "top_total_50 = 7\n",
    "top_total_75 = 23\n",
    "top_total_max = 476\n",
    "top_total_min = 0\n",
    "top_total_counts = 780"
   ]
  },
  {
   "cell_type": "markdown",
   "metadata": {},
   "source": [
    "# Jungle"
   ]
  },
  {
   "cell_type": "code",
   "execution_count": 34,
   "metadata": {},
   "outputs": [
    {
     "data": {
      "text/plain": [
       "count    528.000000\n",
       "mean      31.628788\n",
       "std       68.113384\n",
       "min        0.000000\n",
       "25%        2.000000\n",
       "50%        8.000000\n",
       "75%       30.000000\n",
       "max      528.000000\n",
       "dtype: float64"
      ]
     },
     "execution_count": 34,
     "metadata": {},
     "output_type": "execute_result"
    }
   ],
   "source": [
    "jungle_games.describe()"
   ]
  },
  {
   "cell_type": "code",
   "execution_count": 56,
   "metadata": {},
   "outputs": [],
   "source": [
    "jungle_total_mean = 31.62\n",
    "jungle_total_std = 68.11\n",
    "jungle_total_25 = 2\n",
    "jungle_total_50 = 8\n",
    "jungle_total_75 = 30\n",
    "jungle_total_max = 528\n",
    "jungle_total_min = 0 \n",
    "jungle_total_counts = 528"
   ]
  },
  {
   "cell_type": "markdown",
   "metadata": {},
   "source": [
    "## Mid"
   ]
  },
  {
   "cell_type": "code",
   "execution_count": 36,
   "metadata": {},
   "outputs": [
    {
     "data": {
      "text/plain": [
       "count    406.000000\n",
       "mean      22.219212\n",
       "std       35.704324\n",
       "min        0.000000\n",
       "25%        2.000000\n",
       "50%        9.000000\n",
       "75%       27.750000\n",
       "max      311.000000\n",
       "dtype: float64"
      ]
     },
     "execution_count": 36,
     "metadata": {},
     "output_type": "execute_result"
    }
   ],
   "source": [
    "mid_games.describe()"
   ]
  },
  {
   "cell_type": "code",
   "execution_count": 57,
   "metadata": {},
   "outputs": [],
   "source": [
    "mid_total_mean = 22.21\n",
    "mid_total_std = 35.70\n",
    "mid_total_25 = 2\n",
    "mid_total_50 = 9\n",
    "mid_total_75 = 27.75\n",
    "mid_total_max = 311\n",
    "mid_total_min = 0 \n",
    "mid_total_counts = 406"
   ]
  },
  {
   "cell_type": "markdown",
   "metadata": {},
   "source": [
    "## Carry"
   ]
  },
  {
   "cell_type": "code",
   "execution_count": 38,
   "metadata": {},
   "outputs": [
    {
     "data": {
      "text/plain": [
       "count    171.000000\n",
       "mean      83.239766\n",
       "std      133.764217\n",
       "min        0.000000\n",
       "25%        8.500000\n",
       "50%       29.000000\n",
       "75%       77.500000\n",
       "max      735.000000\n",
       "dtype: float64"
      ]
     },
     "execution_count": 38,
     "metadata": {},
     "output_type": "execute_result"
    }
   ],
   "source": [
    "carry_games.describe()"
   ]
  },
  {
   "cell_type": "code",
   "execution_count": 58,
   "metadata": {},
   "outputs": [],
   "source": [
    "carry_total_mean = 83.23\n",
    "carry_total_std = 133.76\n",
    "carry_total_25 = 8.5\n",
    "carry_total_50 = 29\n",
    "carry_total_75 = 77.5\n",
    "carry_total_max = 735\n",
    "carry_total_min = 0 \n",
    "carry_total_counts = 171"
   ]
  },
  {
   "cell_type": "markdown",
   "metadata": {},
   "source": [
    "## Sup"
   ]
  },
  {
   "cell_type": "code",
   "execution_count": 40,
   "metadata": {},
   "outputs": [
    {
     "data": {
      "text/plain": [
       "count    465.000000\n",
       "mean      37.569892\n",
       "std       55.139712\n",
       "min        0.000000\n",
       "25%        4.000000\n",
       "50%       15.000000\n",
       "75%       48.000000\n",
       "max      352.000000\n",
       "dtype: float64"
      ]
     },
     "execution_count": 40,
     "metadata": {},
     "output_type": "execute_result"
    }
   ],
   "source": [
    "sup_games.describe()"
   ]
  },
  {
   "cell_type": "code",
   "execution_count": 59,
   "metadata": {},
   "outputs": [],
   "source": [
    "sup_total_mean = 37.56\n",
    "sup_total_std = 55.13\n",
    "sup_total_25 = 4\n",
    "sup_total_50 = 15\n",
    "sup_total_75 = 48\n",
    "sup_total_max = 352\n",
    "sup_total_min = 0 \n",
    "sup_total_counts = 465"
   ]
  },
  {
   "cell_type": "markdown",
   "metadata": {},
   "source": [
    "# 비율 비교하기\n",
    "# 챔피언 숫자\n",
    "# 챔프별 경기수"
   ]
  },
  {
   "cell_type": "code",
   "execution_count": 54,
   "metadata": {},
   "outputs": [
    {
     "data": {
      "image/png": "[encoded data removed]",
      "text/plain": [
       "<Figure size 432x288 with 1 Axes>"
      ]
     },
     "metadata": {},
     "output_type": "display_data"
    }
   ],
   "source": [
    "탑_챔피언수 = len(top_dict)\n",
    "정글_챔피언수 = len(jungle_dict)\n",
    "미드_챔피언수 = len(mid_dict)\n",
    "원딜_챔피언수 = len(carry_dict)\n",
    "서폿_챔피언수 = len(sup_dict)\n",
    "\n",
    "group_names = ['TOP', 'JG', 'MID', 'AD', 'SUP']\n",
    "group_size = [탑_챔피언수, 정글_챔피언수, 미드_챔피언수, 원딜_챔피언수, 서폿_챔피언수]\n",
    "plt.pie(group_size, \n",
    "        labels=group_names,\n",
    "        autopct='%1.2f%%',\n",
    "        shadow=True)\n",
    "plt.title('Champion ratio by line', fontsize=20)\n",
    "plt.show()"
   ]
  },
  {
   "cell_type": "code",
   "execution_count": 60,
   "metadata": {},
   "outputs": [
    {
     "data": {
      "image/png": "[encoded data removed]",
      "text/plain": [
       "<Figure size 432x288 with 1 Axes>"
      ]
     },
     "metadata": {},
     "output_type": "display_data"
    }
   ],
   "source": [
    "group_names = ['TOP', 'JG', 'MID', 'AD', 'SUP']\n",
    "group_size = [top_total_counts, jungle_total_counts, mid_total_counts, carry_total_counts, sup_total_counts]\n",
    "plt.pie(group_size, \n",
    "        labels=group_names,\n",
    "        autopct='%1.2f%%',\n",
    "        shadow=True)\n",
    "plt.title('Match ratio by line', fontsize=20)\n",
    "plt.show()"
   ]
  },
  {
   "cell_type": "markdown",
   "metadata": {},
   "source": [
    "# Combinations에 대해서 진행"
   ]
  },
  {
   "cell_type": "code",
   "execution_count": null,
   "metadata": {},
   "outputs": [],
   "source": []
  }
 ],
 "metadata": {
  "kernelspec": {
   "display_name": "Python 3",
   "language": "python",
   "name": "python3"
  },
  "language_info": {
   "codemirror_mode": {
    "name": "ipython",
    "version": 3
   },
   "file_extension": ".py",
   "mimetype": "text/x-python",
   "name": "python",
   "nbconvert_exporter": "python",
   "pygments_lexer": "ipython3",
   "version": "3.7.7"
  }
 },
 "nbformat": 4,
 "nbformat_minor": 4
}
