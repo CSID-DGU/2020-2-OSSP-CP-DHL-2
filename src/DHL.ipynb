{
 "cells": [
  {
   "cell_type": "markdown",
   "metadata": {},
   "source": [
    "확인 시 clone후 read_csv 통해서 확인하면 바로 가능함.\n",
    "\n",
    "코드 실행시키면 api 키 값도 없어서 진행도 안될뿐더러, csv를 새로 만들기 때문에 확인불가 "
   ]
  },
  {
   "cell_type": "code",
   "execution_count": 2,
   "metadata": {},
   "outputs": [],
   "source": [
    "import requests \n",
    "import json\n",
    "import pandas as pd\n",
    "import numpy as np\n",
    "import matplotlib as mlp\n",
    "import matplotlib.pyplot as plt\n",
    "import seaborn as sns\n",
    "import time\n",
    "import pickle"
   ]
  },
  {
   "cell_type": "code",
   "execution_count": 3,
   "metadata": {},
   "outputs": [
    {
     "data": {
      "text/plain": [
       "'10.23.1'"
      ]
     },
     "execution_count": 3,
     "metadata": {},
     "output_type": "execute_result"
    }
   ],
   "source": [
    "api_key = 'RGAPI-4ddbaaf8-50df-4a4d-a75a-4eaa3bbb34cc'\n",
    "current_version = requests.get('https://ddragon.leagueoflegends.com/api/versions.json').json()[0]\n",
    "current_version"
   ]
  },
  {
   "cell_type": "code",
   "execution_count": null,
   "metadata": {},
   "outputs": [],
   "source": [
    "# 챔피언 종류 받아와서 아이디, key 따로 저장하기\n",
    "\n",
    "# 이미 실행되어 파일로 저장되어 있음, 재 실행 금지 (line값 수작업으로 넣었음)\n",
    "\n",
    "# champion_dict = {}\n",
    "# r = requests.get('http://ddragon.leagueoflegends.com/cdn/{}/data/ko_KR/champion.json'.format(current_version))\n",
    "# info_df = pd.DataFrame(r.json())\n",
    "# for i, champ in enumerate(info_df.data):\n",
    "#     champion_dict[champ['id']] = champ['key']\n",
    "    \n",
    "# champion = pd.DataFrame()\n",
    "# champion['id'] = 0\n",
    "# champion['key'] = 0\n",
    "\n",
    "# for i, champ in enumerate(info_df.data):\n",
    "#     champion.loc[i] = [champ['id'], champ['key']]\n",
    "    \n",
    "# champion.to_csv('../data/champion.csv')"
   ]
  },
  {
   "cell_type": "code",
   "execution_count": 4,
   "metadata": {},
   "outputs": [],
   "source": [
    "champion = pd.read_csv('../data/champion.csv', index_col=[0])"
   ]
  },
  {
   "cell_type": "code",
   "execution_count": 5,
   "metadata": {},
   "outputs": [
    {
     "data": {
      "text/html": [
       "<div>\n",
       "<style scoped>\n",
       "    .dataframe tbody tr th:only-of-type {\n",
       "        vertical-align: middle;\n",
       "    }\n",
       "\n",
       "    .dataframe tbody tr th {\n",
       "        vertical-align: top;\n",
       "    }\n",
       "\n",
       "    .dataframe thead th {\n",
       "        text-align: right;\n",
       "    }\n",
       "</style>\n",
       "<table border=\"1\" class=\"dataframe\">\n",
       "  <thead>\n",
       "    <tr style=\"text-align: right;\">\n",
       "      <th></th>\n",
       "      <th>id</th>\n",
       "      <th>key</th>\n",
       "      <th>line</th>\n",
       "    </tr>\n",
       "  </thead>\n",
       "  <tbody>\n",
       "    <tr>\n",
       "      <th>0</th>\n",
       "      <td>Aatrox</td>\n",
       "      <td>266</td>\n",
       "      <td>0</td>\n",
       "    </tr>\n",
       "    <tr>\n",
       "      <th>1</th>\n",
       "      <td>Ahri</td>\n",
       "      <td>103</td>\n",
       "      <td>2</td>\n",
       "    </tr>\n",
       "    <tr>\n",
       "      <th>2</th>\n",
       "      <td>Akali</td>\n",
       "      <td>84</td>\n",
       "      <td>2</td>\n",
       "    </tr>\n",
       "    <tr>\n",
       "      <th>3</th>\n",
       "      <td>Alistar</td>\n",
       "      <td>12</td>\n",
       "      <td>4</td>\n",
       "    </tr>\n",
       "    <tr>\n",
       "      <th>4</th>\n",
       "      <td>Amumu</td>\n",
       "      <td>32</td>\n",
       "      <td>1</td>\n",
       "    </tr>\n",
       "  </tbody>\n",
       "</table>\n",
       "</div>"
      ],
      "text/plain": [
       "        id  key  line\n",
       "0   Aatrox  266     0\n",
       "1     Ahri  103     2\n",
       "2    Akali   84     2\n",
       "3  Alistar   12     4\n",
       "4    Amumu   32     1"
      ]
     },
     "execution_count": 5,
     "metadata": {},
     "output_type": "execute_result"
    }
   ],
   "source": [
    "champion.head()"
   ]
  },
  {
   "cell_type": "code",
   "execution_count": null,
   "metadata": {},
   "outputs": [],
   "source": [
    "# 챌~그랜드마스터 구간 유저 1000명 값 불러와서 dataframe으로 만들고 필요없는 컬럼들 제거하기\n",
    "# 라이엇게임즈 API 제공 데이터 제한으로 인해 챌-그랜드마스터로 우선 진행 후 데이터 추가적으로 필요할 시 더 받을 예정\n",
    "\n",
    "# 이미 실행되어 파일로 저장되어 있음\n",
    "\n",
    "# api_challenger = 'https://kr.api.riotgames.com/lol/league/v4/challengerleagues/by-queue/RANKED_SOLO_5x5?api_key=' + api_key\n",
    "# api_grandmaster = 'https://kr.api.riotgames.com/lol/league/v4/grandmasterleagues/by-queue/RANKED_SOLO_5x5?api_key=' + api_key\n",
    "\n",
    "# cgm_userData = pd.DataFrame(requests.get(api_challenger).json())\n",
    "# r = requests.get(api_grandmaster)\n",
    "# cgm_userData = pd.concat([cgm_userData, pd.DataFrame(r.json())], axis=0)\n",
    "\n",
    "# cgm_userData.reset_index(inplace=True)\n",
    "# league_entries_df = pd.DataFrame(dict(cgm_userData['entries'])).T\n",
    "# cgm_userData = pd.concat([cgm_userData, league_entries_df], axis=1)\n",
    "# cgm_userData = cgm_userData.drop(['index', 'queue', 'name', 'leagueId', 'entries', 'rank', 'freshBlood', 'hotStreak', 'inactive', 'veteran', 'wins', 'losses'], axis=1)\n",
    "\n",
    "# cgm_userData['account_id'] = np.nan\n",
    "# for i, summoner_id in enumerate(cgm_userData[:]['summonerId']):\n",
    "#     api_url = 'https://kr.api.riotgames.com/lol/summoner/v4/summoners/' + summoner_id + '?api_key=' + api_key\n",
    "#     r = requests.get(api_url)\n",
    "#     while r.status_code!=200:\n",
    "#         time.sleep(5)\n",
    "#         r = requests.get(api_url)\n",
    "#     account_id = r.json()['accountId']\n",
    "#     cgm_userData.iloc[i, -1] = account_id"
   ]
  },
  {
   "cell_type": "code",
   "execution_count": null,
   "metadata": {},
   "outputs": [],
   "source": [
    "# accountID로 순서대로 1계정당 100개씩 전적 불러오기\n",
    "\n",
    "# 이미 실행되어 파일로 저장되어 있음\n",
    "\n",
    "# season = str(13)\n",
    "# queue = str(420)\n",
    "# cgm_gameidInfo = pd.DataFrame()\n",
    "\n",
    "# i = 0\n",
    "# for account_id in cgm_userData[:]['account_id']:\n",
    "#     api_url = 'https://kr.api.riotgames.com/lol/match/v4/matchlists/by-account/' + account_id + \\\n",
    "#                   '?queue=' + queue + '&season' + season + '&api_key=' + api_key\n",
    "#     r = requests.get(api_url)\n",
    "#     while r.status_code!=200:\n",
    "#         time.sleep(5)\n",
    "#         r = requests.get(api_url)\n",
    "#     cgm_gameidInfo = pd.concat([cgm_gameidInfo, pd.DataFrame(r.json()['matches'])])\n",
    "#     most = cgm_gameidInfo['champion'][i * 100:(i + 1) * 100].value_counts(sort=True).index[0]\n",
    "#     cgm_userData['most_champion'][i] = most\n",
    "#     i += 1\n",
    "\n",
    "# cgm_userData.to_csv('../data/cgm_userData.csv')\n",
    "\n",
    "# gameID가 겹치면 삭제. 상위티어이기 때문에 약 60%가량 발생 100000 -> 40812\n",
    "\n",
    "# cgm_gameidInfo = cgm_gameidInfo.drop_duplicates('gameId')\n",
    "\n",
    "# 재 실행하면 밑 2줄은 필요 없음\n",
    "# select_indices = (cgm_gameidInfo['queue']==420) | (cgm_gameidInfo['queue']==440)\n",
    "# cgm_gameidInfo = cgm_gameidInfo.loc[select_indices, :].reset_index(drop=True)\n",
    "# cgm_gameidInfo.to_csv('../data/cgm_gameidInfo.csv')"
   ]
  },
  {
   "cell_type": "code",
   "execution_count": 6,
   "metadata": {
    "scrolled": true
   },
   "outputs": [],
   "source": [
    "cgm_userData = pd.read_csv('../data/cgm_userData.csv', index_col=[0])"
   ]
  },
  {
   "cell_type": "code",
   "execution_count": 7,
   "metadata": {},
   "outputs": [
    {
     "data": {
      "text/html": [
       "<div>\n",
       "<style scoped>\n",
       "    .dataframe tbody tr th:only-of-type {\n",
       "        vertical-align: middle;\n",
       "    }\n",
       "\n",
       "    .dataframe tbody tr th {\n",
       "        vertical-align: top;\n",
       "    }\n",
       "\n",
       "    .dataframe thead th {\n",
       "        text-align: right;\n",
       "    }\n",
       "</style>\n",
       "<table border=\"1\" class=\"dataframe\">\n",
       "  <thead>\n",
       "    <tr style=\"text-align: right;\">\n",
       "      <th></th>\n",
       "      <th>tier</th>\n",
       "      <th>leaguePoints</th>\n",
       "      <th>summonerId</th>\n",
       "      <th>summonerName</th>\n",
       "      <th>account_id</th>\n",
       "      <th>most_champion</th>\n",
       "    </tr>\n",
       "  </thead>\n",
       "  <tbody>\n",
       "    <tr>\n",
       "      <th>0</th>\n",
       "      <td>CHALLENGER</td>\n",
       "      <td>870</td>\n",
       "      <td>tHccq6Ajss5Je1pjcq47uMA-cYIAlgF3BvfZn2K_It_lyw</td>\n",
       "      <td>Interlude 2020</td>\n",
       "      <td>pv0TVyiyxKGLhG_BS3p8C4e7VCfeFnW4VKu_OdUtIO0n</td>\n",
       "      <td>105</td>\n",
       "    </tr>\n",
       "    <tr>\n",
       "      <th>1</th>\n",
       "      <td>CHALLENGER</td>\n",
       "      <td>1000</td>\n",
       "      <td>e2lk9X_WbJrwPk1C6LXnx48wDidQkctAxS0Ypa2W7SCxFAk</td>\n",
       "      <td>뷔스타</td>\n",
       "      <td>nTWkNKvrJhWBn2cHasUG-75laAOfA0tQfGJcKIbR3rOMTXw</td>\n",
       "      <td>80</td>\n",
       "    </tr>\n",
       "    <tr>\n",
       "      <th>2</th>\n",
       "      <td>CHALLENGER</td>\n",
       "      <td>855</td>\n",
       "      <td>sMFMTjmq8k8y2xAt4JMclw48H6kwxmOm0rwfU5_wh2VeguQ</td>\n",
       "      <td>da gong ren1</td>\n",
       "      <td>Sq4EPo-nQR6y-PJVyxAYSKvXjRiOFiLFwE65vkBSEd2H1Qo</td>\n",
       "      <td>80</td>\n",
       "    </tr>\n",
       "    <tr>\n",
       "      <th>3</th>\n",
       "      <td>CHALLENGER</td>\n",
       "      <td>912</td>\n",
       "      <td>AiTXlpKlG-rJeQ5iPzokceDykbPij8ujYvVZ1coryil5DB0U</td>\n",
       "      <td>Normal  JG</td>\n",
       "      <td>_x0AIk0bvt3XLTp_UNKzERLg402jfk6mDAYzNwmBJCnBD1...</td>\n",
       "      <td>876</td>\n",
       "    </tr>\n",
       "    <tr>\n",
       "      <th>4</th>\n",
       "      <td>CHALLENGER</td>\n",
       "      <td>988</td>\n",
       "      <td>rI5bTcVLU1xUhILn55rSJJuVbDHUNet2l5S8vnqrBEUY8Q</td>\n",
       "      <td>DRX 게르세르끼</td>\n",
       "      <td>9CZB0svSmKPWTRuS8rD_Fedq0Cdo4SWUo5pTtMhwYxps</td>\n",
       "      <td>202</td>\n",
       "    </tr>\n",
       "  </tbody>\n",
       "</table>\n",
       "</div>"
      ],
      "text/plain": [
       "         tier  leaguePoints                                        summonerId  \\\n",
       "0  CHALLENGER           870    tHccq6Ajss5Je1pjcq47uMA-cYIAlgF3BvfZn2K_It_lyw   \n",
       "1  CHALLENGER          1000   e2lk9X_WbJrwPk1C6LXnx48wDidQkctAxS0Ypa2W7SCxFAk   \n",
       "2  CHALLENGER           855   sMFMTjmq8k8y2xAt4JMclw48H6kwxmOm0rwfU5_wh2VeguQ   \n",
       "3  CHALLENGER           912  AiTXlpKlG-rJeQ5iPzokceDykbPij8ujYvVZ1coryil5DB0U   \n",
       "4  CHALLENGER           988    rI5bTcVLU1xUhILn55rSJJuVbDHUNet2l5S8vnqrBEUY8Q   \n",
       "\n",
       "     summonerName                                         account_id  \\\n",
       "0  Interlude 2020       pv0TVyiyxKGLhG_BS3p8C4e7VCfeFnW4VKu_OdUtIO0n   \n",
       "1             뷔스타    nTWkNKvrJhWBn2cHasUG-75laAOfA0tQfGJcKIbR3rOMTXw   \n",
       "2    da gong ren1    Sq4EPo-nQR6y-PJVyxAYSKvXjRiOFiLFwE65vkBSEd2H1Qo   \n",
       "3      Normal  JG  _x0AIk0bvt3XLTp_UNKzERLg402jfk6mDAYzNwmBJCnBD1...   \n",
       "4       DRX 게르세르끼       9CZB0svSmKPWTRuS8rD_Fedq0Cdo4SWUo5pTtMhwYxps   \n",
       "\n",
       "   most_champion  \n",
       "0            105  \n",
       "1             80  \n",
       "2             80  \n",
       "3            876  \n",
       "4            202  "
      ]
     },
     "execution_count": 7,
     "metadata": {},
     "output_type": "execute_result"
    }
   ],
   "source": [
    "cgm_userData.head()"
   ]
  },
  {
   "cell_type": "code",
   "execution_count": 8,
   "metadata": {},
   "outputs": [],
   "source": [
    "cgm_gameidInfo = pd.read_csv('../data/cgm_gameidInfo.csv', index_col=[0])"
   ]
  },
  {
   "cell_type": "code",
   "execution_count": 9,
   "metadata": {},
   "outputs": [
    {
     "data": {
      "text/html": [
       "<div>\n",
       "<style scoped>\n",
       "    .dataframe tbody tr th:only-of-type {\n",
       "        vertical-align: middle;\n",
       "    }\n",
       "\n",
       "    .dataframe tbody tr th {\n",
       "        vertical-align: top;\n",
       "    }\n",
       "\n",
       "    .dataframe thead th {\n",
       "        text-align: right;\n",
       "    }\n",
       "</style>\n",
       "<table border=\"1\" class=\"dataframe\">\n",
       "  <thead>\n",
       "    <tr style=\"text-align: right;\">\n",
       "      <th></th>\n",
       "      <th>champion</th>\n",
       "      <th>gameId</th>\n",
       "      <th>lane</th>\n",
       "      <th>platformId</th>\n",
       "      <th>queue</th>\n",
       "      <th>role</th>\n",
       "      <th>season</th>\n",
       "      <th>timestamp</th>\n",
       "    </tr>\n",
       "  </thead>\n",
       "  <tbody>\n",
       "    <tr>\n",
       "      <th>0</th>\n",
       "      <td>875</td>\n",
       "      <td>4771375338</td>\n",
       "      <td>NONE</td>\n",
       "      <td>KR</td>\n",
       "      <td>420</td>\n",
       "      <td>DUO_SUPPORT</td>\n",
       "      <td>13</td>\n",
       "      <td>1604844366180</td>\n",
       "    </tr>\n",
       "    <tr>\n",
       "      <th>1</th>\n",
       "      <td>875</td>\n",
       "      <td>4770146326</td>\n",
       "      <td>TOP</td>\n",
       "      <td>KR</td>\n",
       "      <td>420</td>\n",
       "      <td>DUO</td>\n",
       "      <td>13</td>\n",
       "      <td>1604818960847</td>\n",
       "    </tr>\n",
       "    <tr>\n",
       "      <th>2</th>\n",
       "      <td>875</td>\n",
       "      <td>4767376134</td>\n",
       "      <td>NONE</td>\n",
       "      <td>KR</td>\n",
       "      <td>420</td>\n",
       "      <td>DUO_SUPPORT</td>\n",
       "      <td>13</td>\n",
       "      <td>1604733123324</td>\n",
       "    </tr>\n",
       "    <tr>\n",
       "      <th>3</th>\n",
       "      <td>246</td>\n",
       "      <td>4767361959</td>\n",
       "      <td>MID</td>\n",
       "      <td>KR</td>\n",
       "      <td>420</td>\n",
       "      <td>SOLO</td>\n",
       "      <td>13</td>\n",
       "      <td>1604729191092</td>\n",
       "    </tr>\n",
       "    <tr>\n",
       "      <th>4</th>\n",
       "      <td>202</td>\n",
       "      <td>4761504494</td>\n",
       "      <td>NONE</td>\n",
       "      <td>KR</td>\n",
       "      <td>420</td>\n",
       "      <td>DUO_SUPPORT</td>\n",
       "      <td>13</td>\n",
       "      <td>1604485121523</td>\n",
       "    </tr>\n",
       "  </tbody>\n",
       "</table>\n",
       "</div>"
      ],
      "text/plain": [
       "   champion      gameId  lane platformId  queue         role  season  \\\n",
       "0       875  4771375338  NONE         KR    420  DUO_SUPPORT      13   \n",
       "1       875  4770146326   TOP         KR    420          DUO      13   \n",
       "2       875  4767376134  NONE         KR    420  DUO_SUPPORT      13   \n",
       "3       246  4767361959   MID         KR    420         SOLO      13   \n",
       "4       202  4761504494  NONE         KR    420  DUO_SUPPORT      13   \n",
       "\n",
       "       timestamp  \n",
       "0  1604844366180  \n",
       "1  1604818960847  \n",
       "2  1604733123324  \n",
       "3  1604729191092  \n",
       "4  1604485121523  "
      ]
     },
     "execution_count": 9,
     "metadata": {},
     "output_type": "execute_result"
    }
   ],
   "source": [
    "cgm_gameidInfo.head()"
   ]
  },
  {
   "cell_type": "code",
   "execution_count": null,
   "metadata": {},
   "outputs": [],
   "source": [
    "# 위에서 얻어낸 게임ID를 약 4만개의 실제 게임데이터를 받아옴\n",
    "# 이미 실행되어 파일로 저장되어 있음\n",
    "\n",
    "# cgm_match = pd.DataFrame()\n",
    "# for game_id in cgm_gameidInfo[:]['gameId']:\n",
    "#     api_url = 'https://kr.api.riotgames.com/lol/match/v4/matches/' + str(game_id) + '?api_key=' + api_key\n",
    "#     r = requests.get(api_url)\n",
    "#     while r.status_code!=200:\n",
    "#         time.sleep(5)\n",
    "#         r = requests.get(api_url)\n",
    "#     r_json = r.json()\n",
    "#     temp_df = pd.DataFrame(list(r_json.values()), index=list(r_json.keys())).T\n",
    "#     cgm_match = pd.concat([cgm_match, temp_df])\n",
    "\n",
    "# cgm_match.to_csv('../data/cgm_match.csv')"
   ]
  },
  {
   "cell_type": "code",
   "execution_count": null,
   "metadata": {},
   "outputs": [],
   "source": [
    "# cgm_gameidInfo2 = pd.read_csv('../data/cgm_gameidInfo2.csv', index_col=[0])"
   ]
  },
  {
   "cell_type": "code",
   "execution_count": null,
   "metadata": {},
   "outputs": [],
   "source": [
    "# cgm_match2 = pd.DataFrame()"
   ]
  },
  {
   "cell_type": "code",
   "execution_count": null,
   "metadata": {},
   "outputs": [],
   "source": [
    "# 따로 얻어온 gameID 약 8만개의 실제 게임데이터를 받아옴 59211\n",
    "\n",
    "# for game_id in cgm_gameidInfo2[:]['gameId']:\n",
    "#     api_url = 'https://kr.api.riotgames.com/lol/match/v4/matches/' + str(int(game_id)) + '?api_key=' + api_key\n",
    "#     r = requests.get(api_url)\n",
    "#     while r.status_code!=200:\n",
    "#         time.sleep(5)\n",
    "#         r = requests.get(api_url)\n",
    "#     r_json = r.json()\n",
    "#     temp_df = pd.DataFrame(list(r_json.values()), index=list(r_json.keys())).T\n",
    "#     cgm_match2 = pd.concat([cgm_match2, temp_df])"
   ]
  },
  {
   "cell_type": "code",
   "execution_count": null,
   "metadata": {},
   "outputs": [],
   "source": [
    "# cgm_match2 = cgm_match2.loc[cgm_match2['queueId']==420, :].reset_index(drop=True)\n",
    "# cgm_match2.to_csv('../data/cgm_match2.csv')"
   ]
  },
  {
   "cell_type": "code",
   "execution_count": null,
   "metadata": {},
   "outputs": [],
   "source": [
    "# cgm_match1 = pd.read_csv('../data/cgm_match1.csv', index_col=[0])"
   ]
  },
  {
   "cell_type": "code",
   "execution_count": null,
   "metadata": {},
   "outputs": [],
   "source": [
    "# cgm_match2 = pd.read_csv('../data/cgm_match2.csv', index_col=[0])"
   ]
  },
  {
   "cell_type": "code",
   "execution_count": null,
   "metadata": {},
   "outputs": [],
   "source": [
    "# match_df에 3가지 team, participants, participantIdentities들이 문자열로 받아지는 현상 방지\n",
    "# for column in ['teams', 'participants', 'participantIdentities']:\n",
    "#     cgm_match1[column] = cgm_match1[column].map(lambda v: eval(v))\n",
    "#     cgm_match2[column] = cgm_match2[column].map(lambda v: eval(v))"
   ]
  },
  {
   "cell_type": "code",
   "execution_count": null,
   "metadata": {},
   "outputs": [],
   "source": [
    "# cgm_match1.head()"
   ]
  },
  {
   "cell_type": "code",
   "execution_count": null,
   "metadata": {},
   "outputs": [],
   "source": [
    "# cgm_match2.head()"
   ]
  },
  {
   "cell_type": "code",
   "execution_count": null,
   "metadata": {},
   "outputs": [],
   "source": [
    "# 밴 리스트"
   ]
  },
  {
   "cell_type": "code",
   "execution_count": null,
   "metadata": {},
   "outputs": [],
   "source": [
    "# numberWinsChampion = {}\n",
    "# numberWinsCombination = {}\n",
    "# numberLosesCombination = {}\n",
    "\n",
    "# for a in champion['key']:\n",
    "#     list = {}\n",
    "#     for b in champion['key']:\n",
    "#         if (a == b):\n",
    "#             continue;\n",
    "#         list[b] = 0\n",
    "#     numberWinsChampion[a] = list\n",
    "    \n",
    "# for a in champion['key']:\n",
    "#     list = {}\n",
    "#     for b in champion['key']:\n",
    "#         if (a == b):\n",
    "#             continue;\n",
    "#         list[b] = 0\n",
    "#     numberWinsCombination[a] = list\n",
    "    \n",
    "# for a in champion['key']:\n",
    "#     list = {}\n",
    "#     for b in champion['key']:\n",
    "#         if (a == b):\n",
    "#             continue;\n",
    "#         list[b] = 0\n",
    "#     numberLosesCombination[a] = list"
   ]
  },
  {
   "cell_type": "code",
   "execution_count": null,
   "metadata": {},
   "outputs": [],
   "source": [
    "# 게임데이터에서 챔피언 10개의 key값과, 해당 유저 accountID 정보 등 불러오기.\n",
    "# cgm_match1, cgm_match2를 각각 넣고 실행시켜준다\n",
    "\n",
    "# for i in range(len(cgm_match1[:])):\n",
    "#     champion_list = []\n",
    "#     for _ in range(10):\n",
    "#          탑 0, 5 정글 1, 6 미드 2, 7 원딜 3, 8 서폿 4, 9로 맞추기 위한 작업필요\n",
    "#          0~4, 5~9는 이긴 팀이 앞쪽으로 맞추기\n",
    "#          lane = match_df['participants'][i][_]['timeline']['lane']\n",
    "#          accountId = match_df['participantIdentities'][i][_]['player']['accountId']\n",
    "#         championNum = cgm_match1['participants'][i][_]['championId']\n",
    "#         champion_list.append(championNum)\n",
    "#     if (cgm_match1['participants'][i][9]['stats']['win']):\n",
    "#         champion_list = champion_list[5:] + champion_list[:5]\n",
    "#     for _ in range(5):\n",
    "#         numberWinsChampion[champion_list[_]][champion_list[_ + 5]] += 1\n",
    "#     numberWinsCombination[champion_list[0]][champion_list[1]] += 1\n",
    "#     numberWinsCombination[champion_list[1]][champion_list[0]] = numberWinsCombination[champion_list[0]][champion_list[1]]\n",
    "#     numberWinsCombination[champion_list[1]][champion_list[2]] += 1\n",
    "#     numberWinsCombination[champion_list[2]][champion_list[1]] = numberWinsCombination[champion_list[1]][champion_list[2]]\n",
    "#     numberWinsCombination[champion_list[3]][champion_list[4]] += 1\n",
    "#     numberWinsCombination[champion_list[4]][champion_list[3]] = numberWinsCombination[champion_list[3]][champion_list[4]]\n",
    "#     numberLosesCombination[champion_list[5]][champion_list[6]] += 1\n",
    "#     numberLosesCombination[champion_list[6]][champion_list[5]] = numberLosesCombination[champion_list[5]][champion_list[6]]\n",
    "#     numberLosesCombination[champion_list[6]][champion_list[7]] += 1\n",
    "#     numberLosesCombination[champion_list[7]][champion_list[6]] = numberLosesCombination[champion_list[6]][champion_list[7]]\n",
    "#     numberLosesCombination[champion_list[8]][champion_list[9]] += 1\n",
    "#     numberLosesCombination[champion_list[9]][champion_list[8]] = numberLosesCombination[champion_list[8]][champion_list[9]]"
   ]
  },
  {
   "cell_type": "code",
   "execution_count": null,
   "metadata": {},
   "outputs": [],
   "source": [
    "# with open('../data/numberWinsChampion.pickle','wb') as fw:\n",
    "#     pickle.dump(numberWinsChampion, fw)"
   ]
  },
  {
   "cell_type": "code",
   "execution_count": null,
   "metadata": {},
   "outputs": [],
   "source": [
    "# with open('../data/numberWinsCombination.pickle','wb') as fw:\n",
    "#     pickle.dump(numberWinsCombination, fw)"
   ]
  },
  {
   "cell_type": "code",
   "execution_count": null,
   "metadata": {},
   "outputs": [],
   "source": [
    "# with open('../data/numberLosesCombination.pickle','wb') as fw:\n",
    "#     pickle.dump(numberLosesCombination, fw)"
   ]
  },
  {
   "cell_type": "code",
   "execution_count": 10,
   "metadata": {},
   "outputs": [],
   "source": [
    "with open('../data/numberWinsChampion.pickle', 'rb') as fr:\n",
    "    numberWinsChampion = pickle.load(fr)"
   ]
  },
  {
   "cell_type": "code",
   "execution_count": 11,
   "metadata": {},
   "outputs": [],
   "source": [
    "with open('../data/numberWinsCombination.pickle', 'rb') as fr:\n",
    "    numberWinsCombination = pickle.load(fr)"
   ]
  },
  {
   "cell_type": "code",
   "execution_count": 12,
   "metadata": {},
   "outputs": [],
   "source": [
    "with open('../data/numberLosesCombination.pickle', 'rb') as fr:\n",
    "    numberLosesCombination = pickle.load(fr)"
   ]
  },
  {
   "cell_type": "code",
   "execution_count": 17,
   "metadata": {},
   "outputs": [],
   "source": [
    "champion = pd.read_csv('../data/champion.csv', index_col=[0])"
   ]
  },
  {
   "cell_type": "code",
   "execution_count": 20,
   "metadata": {},
   "outputs": [
    {
     "ename": "IndexingError",
     "evalue": "Too many indexers",
     "output_type": "error",
     "traceback": [
      "\u001b[0;31m---------------------------------------------------------------------------\u001b[0m",
      "\u001b[0;31mIndexingError\u001b[0m                             Traceback (most recent call last)",
      "\u001b[0;32m<ipython-input-20-f849e13985fa>\u001b[0m in \u001b[0;36m<module>\u001b[0;34m\u001b[0m\n\u001b[1;32m      1\u001b[0m \u001b[0mselect_indices\u001b[0m \u001b[0;34m=\u001b[0m \u001b[0mchampion\u001b[0m\u001b[0;34m[\u001b[0m\u001b[0;34m'line'\u001b[0m\u001b[0;34m]\u001b[0m\u001b[0;34m==\u001b[0m\u001b[0;36m0\u001b[0m\u001b[0;34m\u001b[0m\u001b[0;34m\u001b[0m\u001b[0m\n\u001b[0;32m----> 2\u001b[0;31m \u001b[0mchampion\u001b[0m \u001b[0;34m=\u001b[0m \u001b[0mchampion\u001b[0m\u001b[0;34m[\u001b[0m\u001b[0;34m'key'\u001b[0m\u001b[0;34m]\u001b[0m\u001b[0;34m.\u001b[0m\u001b[0mloc\u001b[0m\u001b[0;34m[\u001b[0m\u001b[0mselect_indices\u001b[0m\u001b[0;34m,\u001b[0m \u001b[0;34m:\u001b[0m\u001b[0;34m]\u001b[0m\u001b[0;34m.\u001b[0m\u001b[0mreset_index\u001b[0m\u001b[0;34m(\u001b[0m\u001b[0mdrop\u001b[0m\u001b[0;34m=\u001b[0m\u001b[0;32mTrue\u001b[0m\u001b[0;34m)\u001b[0m\u001b[0;34m\u001b[0m\u001b[0;34m\u001b[0m\u001b[0m\n\u001b[0m",
      "\u001b[0;32m//anaconda3/lib/python3.7/site-packages/pandas/core/indexing.py\u001b[0m in \u001b[0;36m__getitem__\u001b[0;34m(self, key)\u001b[0m\n\u001b[1;32m   1492\u001b[0m             \u001b[0;32mexcept\u001b[0m \u001b[0;34m(\u001b[0m\u001b[0mKeyError\u001b[0m\u001b[0;34m,\u001b[0m \u001b[0mIndexError\u001b[0m\u001b[0;34m,\u001b[0m \u001b[0mAttributeError\u001b[0m\u001b[0;34m)\u001b[0m\u001b[0;34m:\u001b[0m\u001b[0;34m\u001b[0m\u001b[0;34m\u001b[0m\u001b[0m\n\u001b[1;32m   1493\u001b[0m                 \u001b[0;32mpass\u001b[0m\u001b[0;34m\u001b[0m\u001b[0;34m\u001b[0m\u001b[0m\n\u001b[0;32m-> 1494\u001b[0;31m             \u001b[0;32mreturn\u001b[0m \u001b[0mself\u001b[0m\u001b[0;34m.\u001b[0m\u001b[0m_getitem_tuple\u001b[0m\u001b[0;34m(\u001b[0m\u001b[0mkey\u001b[0m\u001b[0;34m)\u001b[0m\u001b[0;34m\u001b[0m\u001b[0;34m\u001b[0m\u001b[0m\n\u001b[0m\u001b[1;32m   1495\u001b[0m         \u001b[0;32melse\u001b[0m\u001b[0;34m:\u001b[0m\u001b[0;34m\u001b[0m\u001b[0;34m\u001b[0m\u001b[0m\n\u001b[1;32m   1496\u001b[0m             \u001b[0;31m# we by definition only have the 0th axis\u001b[0m\u001b[0;34m\u001b[0m\u001b[0;34m\u001b[0m\u001b[0;34m\u001b[0m\u001b[0m\n",
      "\u001b[0;32m//anaconda3/lib/python3.7/site-packages/pandas/core/indexing.py\u001b[0m in \u001b[0;36m_getitem_tuple\u001b[0;34m(self, tup)\u001b[0m\n\u001b[1;32m    871\u001b[0m \u001b[0;34m\u001b[0m\u001b[0m\n\u001b[1;32m    872\u001b[0m         \u001b[0;31m# no multi-index, so validate all of the indexers\u001b[0m\u001b[0;34m\u001b[0m\u001b[0;34m\u001b[0m\u001b[0;34m\u001b[0m\u001b[0m\n\u001b[0;32m--> 873\u001b[0;31m         \u001b[0mself\u001b[0m\u001b[0;34m.\u001b[0m\u001b[0m_has_valid_tuple\u001b[0m\u001b[0;34m(\u001b[0m\u001b[0mtup\u001b[0m\u001b[0;34m)\u001b[0m\u001b[0;34m\u001b[0m\u001b[0;34m\u001b[0m\u001b[0m\n\u001b[0m\u001b[1;32m    874\u001b[0m \u001b[0;34m\u001b[0m\u001b[0m\n\u001b[1;32m    875\u001b[0m         \u001b[0;31m# ugly hack for GH #836\u001b[0m\u001b[0;34m\u001b[0m\u001b[0;34m\u001b[0m\u001b[0;34m\u001b[0m\u001b[0m\n",
      "\u001b[0;32m//anaconda3/lib/python3.7/site-packages/pandas/core/indexing.py\u001b[0m in \u001b[0;36m_has_valid_tuple\u001b[0;34m(self, key)\u001b[0m\n\u001b[1;32m    219\u001b[0m         \u001b[0;32mfor\u001b[0m \u001b[0mi\u001b[0m\u001b[0;34m,\u001b[0m \u001b[0mk\u001b[0m \u001b[0;32min\u001b[0m \u001b[0menumerate\u001b[0m\u001b[0;34m(\u001b[0m\u001b[0mkey\u001b[0m\u001b[0;34m)\u001b[0m\u001b[0;34m:\u001b[0m\u001b[0;34m\u001b[0m\u001b[0;34m\u001b[0m\u001b[0m\n\u001b[1;32m    220\u001b[0m             \u001b[0;32mif\u001b[0m \u001b[0mi\u001b[0m \u001b[0;34m>=\u001b[0m \u001b[0mself\u001b[0m\u001b[0;34m.\u001b[0m\u001b[0mobj\u001b[0m\u001b[0;34m.\u001b[0m\u001b[0mndim\u001b[0m\u001b[0;34m:\u001b[0m\u001b[0;34m\u001b[0m\u001b[0;34m\u001b[0m\u001b[0m\n\u001b[0;32m--> 221\u001b[0;31m                 \u001b[0;32mraise\u001b[0m \u001b[0mIndexingError\u001b[0m\u001b[0;34m(\u001b[0m\u001b[0;34m'Too many indexers'\u001b[0m\u001b[0;34m)\u001b[0m\u001b[0;34m\u001b[0m\u001b[0;34m\u001b[0m\u001b[0m\n\u001b[0m\u001b[1;32m    222\u001b[0m             \u001b[0;32mtry\u001b[0m\u001b[0;34m:\u001b[0m\u001b[0;34m\u001b[0m\u001b[0;34m\u001b[0m\u001b[0m\n\u001b[1;32m    223\u001b[0m                 \u001b[0mself\u001b[0m\u001b[0;34m.\u001b[0m\u001b[0m_validate_key\u001b[0m\u001b[0;34m(\u001b[0m\u001b[0mk\u001b[0m\u001b[0;34m,\u001b[0m \u001b[0mi\u001b[0m\u001b[0;34m)\u001b[0m\u001b[0;34m\u001b[0m\u001b[0;34m\u001b[0m\u001b[0m\n",
      "\u001b[0;31mIndexingError\u001b[0m: Too many indexers"
     ]
    }
   ],
   "source": []
  },
  {
   "cell_type": "code",
   "execution_count": null,
   "metadata": {},
   "outputs": [],
   "source": []
  }
 ],
 "metadata": {
  "kernelspec": {
   "display_name": "Python 3",
   "language": "python",
   "name": "python3"
  },
  "language_info": {
   "codemirror_mode": {
    "name": "ipython",
    "version": 3
   },
   "file_extension": ".py",
   "mimetype": "text/x-python",
   "name": "python",
   "nbconvert_exporter": "python",
   "pygments_lexer": "ipython3",
   "version": "3.7.3"
  }
 },
 "nbformat": 4,
 "nbformat_minor": 2
}
