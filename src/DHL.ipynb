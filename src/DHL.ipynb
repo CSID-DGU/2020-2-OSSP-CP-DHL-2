{
 "cells": [
  {
   "cell_type": "markdown",
   "metadata": {},
   "source": [
    "확인 시 clone후 read_csv 통해서 확인하면 바로 가능함.\n",
    "\n",
    "코드 실행시키면 api 키 값도 없어서 진행도 안될뿐더러, csv를 새로 만들기 때문에 확인불가 "
   ]
  },
  {
   "cell_type": "code",
   "execution_count": null,
   "metadata": {},
   "outputs": [],
   "source": [
    "import requests \n",
    "import json\n",
    "import pandas as pd\n",
    "import numpy as np\n",
    "import matplotlib as mlp\n",
    "import matplotlib.pyplot as plt\n",
    "import seaborn as sns\n",
    "import time\n",
    "import pickle"
   ]
  },
  {
   "cell_type": "code",
   "execution_count": 8,
   "metadata": {},
   "outputs": [
    {
     "data": {
      "text/plain": [
       "'10.23.1'"
      ]
     },
     "execution_count": 8,
     "metadata": {},
     "output_type": "execute_result"
    }
   ],
   "source": [
    "api_key = ''\n",
    "current_version = requests.get('https://ddragon.leagueoflegends.com/api/versions.json').json()[0]\n",
    "current_version"
   ]
  },
  {
   "cell_type": "code",
   "execution_count": null,
   "metadata": {},
   "outputs": [],
   "source": [
    "# 챔피언 종류 받아와서 아이디, key 따로 저장하기\n",
    "\n",
    "# 이미 실행되어 파일로 저장되어 있음, 재 실행 금지 (line값 수작업으로 넣었음)\n",
    "\n",
    "# champion_dict = {}\n",
    "# r = requests.get('http://ddragon.leagueoflegends.com/cdn/{}/data/ko_KR/champion.json'.format(current_version))\n",
    "# info_df = pd.DataFrame(r.json())\n",
    "# for i, champ in enumerate(info_df.data):\n",
    "#     champion_dict[champ['id']] = champ['key']\n",
    "    \n",
    "# champion = pd.DataFrame()\n",
    "# champion['id'] = 0\n",
    "# champion['key'] = 0\n",
    "\n",
    "# for i, champ in enumerate(info_df.data):\n",
    "#     champion.loc[i] = [champ['id'], champ['key']]\n",
    "    \n",
    "# champion.to_csv('../data/championInfo.csv')"
   ]
  },
  {
   "cell_type": "code",
   "execution_count": 70,
   "metadata": {},
   "outputs": [],
   "source": [
    "champion_df = pd.read_csv('../data/championInfo.csv')"
   ]
  },
  {
   "cell_type": "code",
   "execution_count": null,
   "metadata": {},
   "outputs": [],
   "source": [
    "# 챌~그랜드마스터 구간 유저 1000명 값 불러와서 dataframe으로 만들고 필요없는 컬럼들 제거하기\n",
    "# 라이엇게임즈 API 제공 데이터 제한으로 인해 챌-그랜드마스터로 우선 진행 후 데이터 추가적으로 필요할 시 더 받을 예정\n",
    "\n",
    "# 이미 실행되어 파일로 저장되어 있음\n",
    "\n",
    "# api_challenger = 'https://kr.api.riotgames.com/lol/league/v4/challengerleagues/by-queue/RANKED_SOLO_5x5?api_key=' + api_key\n",
    "# api_grandmaster = 'https://kr.api.riotgames.com/lol/league/v4/grandmasterleagues/by-queue/RANKED_SOLO_5x5?api_key=' + api_key\n",
    "\n",
    "# cgm_userData = pd.DataFrame(requests.get(api_challenger).json())\n",
    "# r = requests.get(api_grandmaster)\n",
    "# cgm_userData = pd.concat([cgm_userData, pd.DataFrame(r.json())], axis=0)\n",
    "\n",
    "# cgm_userData.reset_index(inplace=True)\n",
    "# league_entries_df = pd.DataFrame(dict(cgm_userData['entries'])).T\n",
    "# cgm_userData = pd.concat([cgm_userData, league_entries_df], axis=1)\n",
    "# cgm_userData = cgm_userData.drop(['index', 'queue', 'name', 'leagueId', 'entries', 'rank', 'freshBlood', 'hotStreak', 'inactive', 'veteran', 'wins', 'losses'], axis=1)\n",
    "\n",
    "# cgm_userData['account_id'] = np.nan\n",
    "# for i, summoner_id in enumerate(cgm_userData[:]['summonerId']):\n",
    "#     api_url = 'https://kr.api.riotgames.com/lol/summoner/v4/summoners/' + summoner_id + '?api_key=' + api_key\n",
    "#     r = requests.get(api_url)\n",
    "#     while r.status_code!=200:\n",
    "#         time.sleep(5)\n",
    "#         r = requests.get(api_url)\n",
    "#     account_id = r.json()['accountId']\n",
    "#     cgm_userData.iloc[i, -1] = account_id"
   ]
  },
  {
   "cell_type": "code",
   "execution_count": null,
   "metadata": {},
   "outputs": [],
   "source": [
    "# accountID로 순서대로 1계정당 100개씩 전적 불러오기\n",
    "\n",
    "# 이미 실행되어 파일로 저장되어 있음\n",
    "\n",
    "# season = str(13)\n",
    "# queue = str(420)\n",
    "# cgm_gameidInfo = pd.DataFrame()\n",
    "\n",
    "# i = 0\n",
    "# for account_id in cgm_userData[:]['account_id']:\n",
    "#     api_url = 'https://kr.api.riotgames.com/lol/match/v4/matchlists/by-account/' + account_id + \\\n",
    "#                   '?queue=' + queue + '&season' + season + '&api_key=' + api_key\n",
    "#     r = requests.get(api_url)\n",
    "#     while r.status_code!=200:\n",
    "#         time.sleep(5)\n",
    "#         r = requests.get(api_url)\n",
    "#     cgm_gameidInfo = pd.concat([cgm_gameidInfo, pd.DataFrame(r.json()['matches'])])\n",
    "#     most = cgm_gameidInfo['champion'][i * 100:(i + 1) * 100].value_counts(sort=True).index[0]\n",
    "#     cgm_userData['most_champion'][i] = most\n",
    "#     i += 1\n",
    "\n",
    "# cgm_userData.to_csv('../data/cgm_userData.csv')\n",
    "\n",
    "# gameID가 겹치면 삭제. 상위티어이기 때문에 약 60%가량 발생 100000 -> 40812\n",
    "\n",
    "# cgm_gameidInfo = cgm_gameidInfo.drop_duplicates('gameId')\n",
    "\n",
    "# 재 실행하면 밑 2줄은 필요 없음\n",
    "# select_indices = (cgm_gameidInfo['queue']==420) | (cgm_gameidInfo['queue']==440)\n",
    "# cgm_gameidInfo = cgm_gameidInfo.loc[select_indices, :].reset_index(drop=True)\n",
    "# cgm_gameidInfo.to_csv('../data/cgm_gameidInfo.csv')"
   ]
  },
  {
   "cell_type": "code",
   "execution_count": null,
   "metadata": {
    "scrolled": true
   },
   "outputs": [],
   "source": [
    "cgm_userData = pd.read_csv('../data/cgm_userData.csv')"
   ]
  },
  {
   "cell_type": "code",
   "execution_count": null,
   "metadata": {},
   "outputs": [],
   "source": [
    "cgm_gameidInfo = pd.read_csv('../data/cgm_gameidInfo.csv')"
   ]
  },
  {
   "cell_type": "code",
   "execution_count": null,
   "metadata": {},
   "outputs": [],
   "source": [
    "# 위에서 얻어낸 게임ID를 약 4만개의 실제 게임데이터를 받아옴\n",
    "# 이미 실행되어 파일로 저장되어 있음\n",
    "\n",
    "# cgm_match = pd.DataFrame()\n",
    "# for game_id in cgm_gameidInfo[:]['gameId']:\n",
    "#     api_url = 'https://kr.api.riotgames.com/lol/match/v4/matches/' + str(game_id) + '?api_key=' + api_key\n",
    "#     r = requests.get(api_url)\n",
    "#     while r.status_code!=200:\n",
    "#         time.sleep(5)\n",
    "#         r = requests.get(api_url)\n",
    "#     r_json = r.json()\n",
    "#     temp_df = pd.DataFrame(list(r_json.values()), index=list(r_json.keys())).T\n",
    "#     cgm_match = pd.concat([cgm_match, temp_df])\n",
    "\n",
    "# cgm_match.to_csv('../data/cgm_match.csv')"
   ]
  },
  {
   "cell_type": "code",
   "execution_count": 3,
   "metadata": {},
   "outputs": [],
   "source": [
    "# cgm_gameidInfo2 = pd.read_csv('../data/cgm_gameidInfo2.csv')"
   ]
  },
  {
   "cell_type": "code",
   "execution_count": 41,
   "metadata": {},
   "outputs": [],
   "source": [
    "# cgm_match2 = pd.DataFrame()"
   ]
  },
  {
   "cell_type": "code",
   "execution_count": 43,
   "metadata": {},
   "outputs": [],
   "source": [
    "# # 따로 얻어온 gameID 약 8만개의 실제 게임데이터를 받아옴 59211\n",
    "\n",
    "# for game_id in cgm_gameidInfo2[:]['gameId']:\n",
    "#     api_url = 'https://kr.api.riotgames.com/lol/match/v4/matches/' + str(int(game_id)) + '?api_key=' + api_key\n",
    "#     r = requests.get(api_url)\n",
    "#     while r.status_code!=200:\n",
    "#         time.sleep(5)\n",
    "#         r = requests.get(api_url)\n",
    "#     r_json = r.json()\n",
    "#     temp_df = pd.DataFrame(list(r_json.values()), index=list(r_json.keys())).T\n",
    "#     cgm_match2 = pd.concat([cgm_match2, temp_df])"
   ]
  },
  {
   "cell_type": "code",
   "execution_count": 65,
   "metadata": {},
   "outputs": [],
   "source": [
    "cgm_match1 = pd.read_csv('../data/cgm_match1.csv')"
   ]
  },
  {
   "cell_type": "code",
   "execution_count": 169,
   "metadata": {},
   "outputs": [],
   "source": [
    "cgm_match2 = pd.read_csv('../data/cgm_match2.csv')"
   ]
  },
  {
   "cell_type": "code",
   "execution_count": 176,
   "metadata": {},
   "outputs": [],
   "source": [
    "# match_df에 3가지 team, participants, participantIdentities들이 문자열로 받아지는 현상 방지\n",
    "\n",
    "for column in ['teams', 'participants', 'participantIdentities']:\n",
    "    cgm_match1[column] = cgm_match1[column].map(lambda v: eval(v))\n",
    "    cgm_match2[column] = cgm_match2[column].map(lambda v: eval(v))"
   ]
  },
  {
   "cell_type": "code",
   "execution_count": null,
   "metadata": {},
   "outputs": [],
   "source": [
    "# 밴 리스트"
   ]
  },
  {
   "cell_type": "code",
   "execution_count": 177,
   "metadata": {},
   "outputs": [],
   "source": [
    "# numberWinsChampion = {}\n",
    "# numberWinsCombination = {}\n",
    "# numberLosesCombination = {}\n",
    "\n",
    "# for a in champion_df['key']:\n",
    "#     list = {}\n",
    "#     for b in champion_df['key']:\n",
    "#         if (a == b):\n",
    "#             continue;\n",
    "#         list[b] = 0\n",
    "#     numberWinsChampion[a] = list\n",
    "    \n",
    "# for a in champion_df['key']:\n",
    "#     list = {}\n",
    "#     for b in champion_df['key']:\n",
    "#         if (a == b):\n",
    "#             continue;\n",
    "#         list[b] = 0\n",
    "#     numberWinsCombination[a] = list\n",
    "    \n",
    "# for a in champion_df['key']:\n",
    "#     list = {}\n",
    "#     for b in champion_df['key']:\n",
    "#         if (a == b):\n",
    "#             continue;\n",
    "#         list[b] = 0\n",
    "#     numberLosesCombination[a] = list"
   ]
  },
  {
   "cell_type": "code",
   "execution_count": 183,
   "metadata": {},
   "outputs": [],
   "source": [
    "# 게임데이터에서 챔피언 10개의 key값과, 해당 유저 accountID 정보 등 불러오기.\n",
    "# cgm_match1, cgm_match2를 각각 넣고 실행시켜준다\n",
    "\n",
    "# for i in range(len(cgm_match2[:])):\n",
    "#     champion_list = []\n",
    "#     for _ in range(10):\n",
    "#         탑 0, 5 정글 1, 6 미드 2, 7 원딜 3, 8 서폿 4, 9로 맞추기 위한 작업필요\n",
    "#         0~4, 5~9는 이긴 팀이 앞쪽으로 맞추기\n",
    "#         lane = match_df['participants'][i][_]['timeline']['lane']\n",
    "#         accountId = match_df['participantIdentities'][i][_]['player']['accountId']\n",
    "#         championNum = cgm_match2['participants'][i][_]['championId']\n",
    "#         champion_list.append(championNum)\n",
    "#     if (cgm_match2['participants'][i][9]['stats']['win']):\n",
    "#         champion_list = champion_list[5:] + champion_list[:5]\n",
    "#     for _ in range(5):\n",
    "#         numberWinsChampion[champion_list[_]][champion_list[_ + 5]] += 1\n",
    "#     numberWinsCombination[champion_list[0]][champion_list[1]] += 1\n",
    "#     numberWinsCombination[champion_list[1]][champion_list[0]] = numberWinsCombination[champion_list[0]][champion_list[1]]\n",
    "#     numberWinsCombination[champion_list[1]][champion_list[2]] += 1\n",
    "#     numberWinsCombination[champion_list[2]][champion_list[1]] = numberWinsCombination[champion_list[1]][champion_list[2]]\n",
    "#     numberWinsCombination[champion_list[3]][champion_list[4]] += 1\n",
    "#     numberWinsCombination[champion_list[4]][champion_list[3]] = numberWinsCombination[champion_list[3]][champion_list[4]]\n",
    "#     numberLosesCombination[champion_list[5]][champion_list[6]] += 1\n",
    "#     numberLosesCombination[champion_list[6]][champion_list[5]] = numberLosesCombination[champion_list[5]][champion_list[6]]\n",
    "#     numberLosesCombination[champion_list[6]][champion_list[7]] += 1\n",
    "#     numberLosesCombination[champion_list[7]][champion_list[6]] = numberLosesCombination[champion_list[6]][champion_list[7]]\n",
    "#     numberLosesCombination[champion_list[8]][champion_list[9]] += 1\n",
    "#     numberLosesCombination[champion_list[9]][champion_list[8]] = numberLosesCombination[champion_list[8]][champion_list[9]]"
   ]
  },
  {
   "cell_type": "code",
   "execution_count": 190,
   "metadata": {},
   "outputs": [],
   "source": [
    "# with open('../data/numberWinsChampion.pickle','wb') as fw:\n",
    "#     pickle.dump(numberWinsChampion, fw)"
   ]
  },
  {
   "cell_type": "code",
   "execution_count": 191,
   "metadata": {},
   "outputs": [],
   "source": [
    "# with open('../data/numberWinsCombination.pickle','wb') as fw:\n",
    "#     pickle.dump(numberWinsCombination, fw)"
   ]
  },
  {
   "cell_type": "code",
   "execution_count": 192,
   "metadata": {},
   "outputs": [],
   "source": [
    "# with open('../data/numberLosesCombination.pickle','wb') as fw:\n",
    "#     pickle.dump(numberLosesCombination, fw)"
   ]
  },
  {
   "cell_type": "code",
   "execution_count": 193,
   "metadata": {},
   "outputs": [],
   "source": [
    "with open('../data/numberWinsChampion.pickle', 'rb') as fr:\n",
    "    numberWinsChampion = pickle.load(fr)"
   ]
  },
  {
   "cell_type": "code",
   "execution_count": 194,
   "metadata": {},
   "outputs": [],
   "source": [
    "with open('../data/numberWinsCombination.pickle', 'rb') as fr:\n",
    "    numberWinsCombination = pickle.load(fr)"
   ]
  },
  {
   "cell_type": "code",
   "execution_count": 195,
   "metadata": {},
   "outputs": [],
   "source": [
    "with open('../data/numberLosesCombination.pickle', 'rb') as fr:\n",
    "    numberLosesCombination = pickle.load(fr)"
   ]
  },
  {
   "cell_type": "code",
   "execution_count": null,
   "metadata": {},
   "outputs": [],
   "source": []
  }
 ],
 "metadata": {
  "kernelspec": {
   "display_name": "Python 3",
   "language": "python",
   "name": "python3"
  },
  "language_info": {
   "codemirror_mode": {
    "name": "ipython",
    "version": 3
   },
   "file_extension": ".py",
   "mimetype": "text/x-python",
   "name": "python",
   "nbconvert_exporter": "python",
   "pygments_lexer": "ipython3",
   "version": "3.7.3"
  }
 },
 "nbformat": 4,
 "nbformat_minor": 2
}
